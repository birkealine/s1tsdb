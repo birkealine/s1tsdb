{
 "cells": [
  {
   "cell_type": "code",
   "execution_count": null,
   "metadata": {},
   "outputs": [],
   "source": [
    "%load_ext autoreload\n",
    "%autoreload 2"
   ]
  },
  {
   "cell_type": "markdown",
   "metadata": {},
   "source": [
    "# Classification sliding window"
   ]
  },
  {
   "cell_type": "code",
   "execution_count": null,
   "metadata": {},
   "outputs": [],
   "source": [
    "from omegaconf import OmegaConf\n",
    "import pandas as pd\n",
    "\n",
    "from src.constants import AOIS_TEST\n",
    "from src.data import UNOSAT_S1TS_Dataset\n",
    "from src.classification.model_factory import load_model\n",
    "from src.classification.trainer import S1TSDD_Trainer"
   ]
  },
  {
   "cell_type": "code",
   "execution_count": null,
   "metadata": {},
   "outputs": [],
   "source": [
    "def extract_features(df, start, end, prefix=\"\"):\n",
    "\n",
    "    # columns are datetime -> can slice directly between two dates\n",
    "    df = df.loc[:, start:end]\n",
    "\n",
    "    # features\n",
    "    df_features = pd.DataFrame(index=df.index)\n",
    "    df_features[\"mean\"] = df.mean(axis=1)\n",
    "    df_features[\"std\"] = df.std(axis=1)\n",
    "    df_features[\"median\"] = df.median(axis=1)\n",
    "    df_features[\"min\"] = df.min(axis=1)\n",
    "    df_features[\"max\"] = df.max(axis=1)\n",
    "    df_features[\"skew\"] = df.skew(axis=1)\n",
    "    df_features[\"kurt\"] = df.kurt(axis=1)\n",
    "\n",
    "    # rename columns using band, prefix (eg pre/post/pre_3x3, ...)\n",
    "    df_vv = df_features.xs(\"VV\", level=\"band\")\n",
    "    df_vh = df_features.xs(\"VH\", level=\"band\")\n",
    "    df_vv.columns = [f\"VV_{prefix}_{col}\" for col in df_vv.columns]\n",
    "    df_vh.columns = [f\"VH_{prefix}_{col}\" for col in df_vh.columns]\n",
    "    return pd.concat([df_vv, df_vh], axis=1)\n",
    "\n",
    "\n",
    "cfg = OmegaConf.create(\n",
    "    dict(\n",
    "        aggregation_method=\"mean\",\n",
    "        model_name= \"random_forest\",\n",
    "        model_kwargs=dict(\n",
    "            n_estimators=200,\n",
    "            min_samples_leaf=2,\n",
    "            n_jobs=12,\n",
    "        ),\n",
    "        data=dict(\n",
    "            aois_test = [f'UKR{i}' for i in range(1,19) if i not in [1,2,3,4]], #[\"UKR6\", \"UKR8\", \"UKR12\", \"UKR15\"],\n",
    "            damages_to_keep=[1,2],\n",
    "            extract_winds = ['3x3'], # ['1x1', '3x3', '5x5']\n",
    "            random_neg_labels=0.0,  # percentage of negative labels to add in training set (eg 0.1 for 10%)\n",
    "            time_periods = {\n",
    "                'pre': [('2020-02-24', '2021-02-23')],\n",
    "                'post' : [\n",
    "                    # ('2021-02-24', '2022-02-23'),\n",
    "                    # ('2022-02-24', '2023-02-23')\n",
    "                    ('2021-02-24', '2021-05-23'),\n",
    "                    ('2021-05-24', '2021-08-23'),\n",
    "                    ('2021-08-24', '2021-11-23'),\n",
    "                    ('2021-11-24', '2022-02-23'),\n",
    "                    ('2022-02-24', '2022-05-23'),\n",
    "                    ('2022-05-24', '2022-08-23'),\n",
    "                    ('2022-08-24', '2022-11-23'),\n",
    "                    ('2022-11-24', '2023-02-23'),\n",
    "                ]\n",
    "            }\n",
    "        ),\n",
    "        seed=123,\n",
    "        run_name=None,\n",
    "    )\n",
    ")\n",
    "\n",
    "ds = UNOSAT_S1TS_Dataset(cfg.data, extract_features=extract_features)"
   ]
  },
  {
   "cell_type": "code",
   "execution_count": null,
   "metadata": {},
   "outputs": [],
   "source": [
    "model = load_model(cfg)\n",
    "trainer = S1TSDD_Trainer(ds, model, aggregation=cfg.aggregation_method, seed=cfg.seed, verbose=1)\n",
    "trainer.train_and_test(threshold_for_metrics=0.5)"
   ]
  },
  {
   "cell_type": "code",
   "execution_count": null,
   "metadata": {},
   "outputs": [],
   "source": [
    "_, df_test = ds.get_datasets('test', remove_unknown_labels=False)"
   ]
  },
  {
   "cell_type": "code",
   "execution_count": null,
   "metadata": {},
   "outputs": [],
   "source": [
    "df_preds = []\n",
    "\n",
    "for post_start, df in df_test.groupby('post_start'):\n",
    "\n",
    "    X = df[[c for c in df.columns if c.startswith((\"VV\", \"VH\"))]].values\n",
    "    y = df[\"label\"].values\n",
    "    preds_proba = trainer.model.predict_proba(X)[:, 1]\n",
    "\n",
    "    _df_preds = df[[\"aoi\", \"unosat_id\", \"orbit\", \"date\", \"label\"]].copy()\n",
    "    _df_preds['post_start'] = post_start\n",
    "    _df_preds[\"preds_proba\"] = preds_proba\n",
    "    df_preds.append(_df_preds)\n",
    "df_preds = pd.concat(df_preds)\n",
    "d_agg = {'label':'first', 'preds_proba': 'mean'}\n",
    "df_agg = df_preds.groupby([\"aoi\", \"unosat_id\", 'date', \"post_start\"]).agg(d_agg)\n",
    "#df_agg.index = df_agg.index.set_levels(df_agg.index.levels[2].date, level=2)\n",
    "df_agg.index = df_agg.index.set_levels(pd.to_datetime(df_agg.index.levels[3]), level=3)\n",
    "df_agg.head(8)"
   ]
  },
  {
   "cell_type": "code",
   "execution_count": null,
   "metadata": {},
   "outputs": [],
   "source": [
    "idx = pd.IndexSlice\n",
    "df_neg = df_agg.loc[idx[:,:,:,:'2022-02-23']].groupby(['aoi','unosat_id']).max()\n",
    "df_pos = df_agg.loc[idx[:,:,:,'2022-02-24':]].groupby(['aoi','unosat_id']).max()\n",
    "df_agg_agg = pd.concat([df_neg, df_pos])\n",
    "\n",
    "y_true = df_agg_agg.label\n",
    "y_preds_proba = df_agg_agg.preds_proba\n",
    "\n",
    "from collections import Counter\n",
    "print(Counter(y_true))\n",
    "print(Counter(y_preds_proba > 0.5))\n",
    "\n",
    "from src.classification.utils import compute_metrics\n",
    "compute_metrics(df_agg_agg.label ,df_agg_agg.preds_proba, threshold=0.5)"
   ]
  },
  {
   "cell_type": "code",
   "execution_count": null,
   "metadata": {},
   "outputs": [],
   "source": [
    "df_agg.head(8)"
   ]
  },
  {
   "cell_type": "code",
   "execution_count": null,
   "metadata": {},
   "outputs": [],
   "source": [
    "idx = pd.IndexSlice\n",
    "df_neg = df_agg.loc[idx[:,:,:,:'2022-02-23']]\n",
    "df_neg.preds_proba.argmax()"
   ]
  },
  {
   "cell_type": "code",
   "execution_count": null,
   "metadata": {},
   "outputs": [],
   "source": [
    "df_neg.iloc[3303]"
   ]
  },
  {
   "cell_type": "code",
   "execution_count": null,
   "metadata": {},
   "outputs": [],
   "source": [
    "from src.visualization.time_series import plot_all_ts_from_id\n",
    "plot_all_ts_from_id('UKR5', 20419)"
   ]
  },
  {
   "cell_type": "code",
   "execution_count": null,
   "metadata": {},
   "outputs": [],
   "source": [
    "from src.data import load_unosat_labels\n",
    "labels = load_unosat_labels('UKR5')\n",
    "labels[['geometry']].explore(tiles='https://services.arcgisonline.com/arcgis/rest/services/World_Imagery/MapServer/tile/{z}/{y}/{x}.png', attr='ESRI')"
   ]
  },
  {
   "cell_type": "code",
   "execution_count": null,
   "metadata": {},
   "outputs": [],
   "source": [
    "idx = pd.IndexSlice\n",
    "df_neg = df_agg.loc[idx[:,:,:,:'2022-02-23']].groupby(['aoi','unosat_id']).max()\n",
    "df_pos = df_agg.loc[idx[:,:,:,'2022-02-24':]].groupby(['aoi','unosat_id']).max()\n",
    "df_agg_agg = pd.concat([df_neg, df_pos])\n",
    "\n",
    "y_true = df_agg_agg.label\n",
    "y_preds_proba = df_agg_agg.preds_proba\n",
    "\n",
    "from collections import Counter\n",
    "print(Counter(y_true))\n",
    "print(Counter(y_preds_proba > 0.5))\n",
    "\n",
    "from src.classification.utils import compute_metrics\n",
    "compute_metrics(df_agg_agg.label ,df_agg_agg.preds_proba, threshold=0.5)"
   ]
  }
 ],
 "metadata": {
  "kernelspec": {
   "display_name": "Python 3",
   "language": "python",
   "name": "python3"
  },
  "language_info": {
   "codemirror_mode": {
    "name": "ipython",
    "version": 3
   },
   "file_extension": ".py",
   "mimetype": "text/x-python",
   "name": "python",
   "nbconvert_exporter": "python",
   "pygments_lexer": "ipython3",
   "version": "3.8.18"
  }
 },
 "nbformat": 4,
 "nbformat_minor": 2
}
