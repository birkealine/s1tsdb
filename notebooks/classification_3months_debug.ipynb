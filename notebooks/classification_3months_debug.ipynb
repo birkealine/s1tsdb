{
 "cells": [
  {
   "cell_type": "code",
   "execution_count": null,
   "metadata": {},
   "outputs": [],
   "source": [
    "%load_ext autoreload\n",
    "%autoreload 2"
   ]
  },
  {
   "cell_type": "markdown",
   "metadata": {},
   "source": [
    "# Debug 3-months classification export"
   ]
  },
  {
   "cell_type": "code",
   "execution_count": null,
   "metadata": {},
   "outputs": [],
   "source": [
    "import ee\n",
    "import geemap\n",
    "\n",
    "from src.utils.gee import init_gee\n",
    "\n",
    "init_gee()\n",
    "\n",
    "from omegaconf import OmegaConf\n",
    "from src.gee.constants import ASSETS_PATH\n",
    "from src.gee.classification.utils import infer_and_compute_metrics\n",
    "from src.gee.classification.model import get_features_names\n",
    "import datetime as dt"
   ]
  },
  {
   "cell_type": "code",
   "execution_count": null,
   "metadata": {},
   "outputs": [],
   "source": [
    "def get_post_periods(post_periods_3months):\n",
    "    if post_periods_3months:\n",
    "        post = [\n",
    "            (\"2021-02-24\", \"2021-05-23\"),\n",
    "            (\"2021-05-24\", \"2021-08-23\"),\n",
    "            (\"2021-08-24\", \"2021-11-23\"),\n",
    "            (\"2021-11-24\", \"2022-02-23\"),\n",
    "            (\"2022-02-24\", \"2022-05-23\"),\n",
    "            (\"2022-05-24\", \"2022-08-23\"),\n",
    "            (\"2022-08-24\", \"2022-11-23\"),\n",
    "            (\"2022-11-24\", \"2023-02-23\"),\n",
    "        ]\n",
    "    else:\n",
    "        post = [(\"2021-02-24\", \"2022-02-23\"), (\"2022-02-24\", \"2023-02-23\")]\n",
    "    return post\n",
    "\n",
    "def get_classifier_id(cfg):\n",
    "    n_trees = cfg.model_kwargs.n_estimators\n",
    "    all_data = \"_all_data\" if cfg.train_on_all else \"\"\n",
    "\n",
    "    start_post = dt.datetime.strptime(cfg.data.time_periods.post[0][0], \"%Y-%m-%d\")\n",
    "    end_post = dt.datetime.strptime(cfg.data.time_periods.post[0][1], \"%Y-%m-%d\")\n",
    "    n_days_between = (end_post - start_post).days\n",
    "    period = \"3months\" if n_days_between in range(87,93) else \"oneyear\" if n_days_between in range(363,367) else \"other\"\n",
    "    asset_id = f\"{ASSETS_PATH}s1tsdd_Ukraine/{cfg.run_name}/classifier_{period}_{n_trees}trees{all_data}_export_trees\"\n",
    "    return asset_id\n",
    "\n",
    "def start(post_periods_3months, **kwargs):\n",
    "    cfg = OmegaConf.create(\n",
    "        dict(\n",
    "            aggregation_method=\"mean\",\n",
    "            model_name=\"random_forest\",\n",
    "            model_kwargs=dict(\n",
    "                #min_samples_leaf=1,\n",
    "                #n_jobs=12,\n",
    "                **kwargs\n",
    "            ),\n",
    "            data=dict(\n",
    "                aois_test=[f\"UKR{i}\" for i in range(1, 19) if i not in [1, 2, 3, 4]],\n",
    "                damages_to_keep=[1, 2],\n",
    "                extract_winds=[\"3x3\"],  # ['1x1', '3x3', '5x5']\n",
    "                time_periods={\n",
    "                    \"pre\": [(\"2020-02-24\", \"2021-02-23\")],  # always only one\n",
    "                    \"post\": get_post_periods(post_periods_3months),\n",
    "                },\n",
    "                time_periods_inference={\"pre\": (\"2020-02-24\", \"2021-02-23\"), \"post\": (\"2022-02-24\", \"2023-02-23\")},\n",
    "            ),\n",
    "            reducer_names=[\"mean\", \"stdDev\", \"median\", \"min\", \"max\", \"skew\", \"kurtosis\"],\n",
    "            export_as_trees=True,\n",
    "            train_on_all=False,  # train on all damages (train + test split)\n",
    "            verbose=1,\n",
    "            seed=123,\n",
    "            run_name=\"240301\",\n",
    "        )\n",
    "    )\n",
    "\n",
    "    classifier = ee.Classifier.smileRandomForest(**cfg.model_kwargs)\n",
    "\n",
    "    run_name = cfg.run_name\n",
    "    split = 'train'\n",
    "    period = \"1year\" if len(cfg.data.time_periods.post) == 2 else \"3months\"\n",
    "    asset_path = ASSETS_PATH + f\"s1tsdd_Ukraine/{run_name}/features_ready_{split}_{period}\"\n",
    "    fc_train = ee.FeatureCollection(asset_path)\n",
    "\n",
    "    split = 'test'\n",
    "    asset_path = ASSETS_PATH + f\"s1tsdd_Ukraine/{run_name}/features_ready_{split}_{period}\"\n",
    "    fc_test = ee.FeatureCollection(asset_path)\n",
    "\n",
    "    print(f\"Training on {fc_train.size().getInfo()} samples\")\n",
    "    print(f\"Testing on {fc_test.size().getInfo()} samples\")\n",
    "    classifier = classifier.train(features=fc_train, classProperty=\"label\", inputProperties=get_features_names(cfg))\n",
    "\n",
    "    return classifier, fc_train, fc_test\n",
    "\n",
    "clf, fc_train, fc_test = start(post_periods_3months=True, numberOfTrees=100, minLeafPopulation=3, maxNodes=10e3) #minLeafPopulation=5"
   ]
  },
  {
   "cell_type": "markdown",
   "metadata": {},
   "source": [
    "# Evaluate on Test Set"
   ]
  },
  {
   "cell_type": "code",
   "execution_count": null,
   "metadata": {},
   "outputs": [],
   "source": [
    "from src.gee.classification.utils import infer_and_compute_metrics\n",
    "\n",
    "infer_and_compute_metrics(fc_test, clf, True)"
   ]
  },
  {
   "cell_type": "markdown",
   "metadata": {},
   "source": [
    "## Test"
   ]
  },
  {
   "cell_type": "code",
   "execution_count": null,
   "metadata": {},
   "outputs": [],
   "source": [
    "import ee\n",
    "from omegaconf import DictConfig, OmegaConf\n",
    "from typing import List\n",
    "from tqdm import tqdm\n",
    "\n",
    "from src.gee.constants import ASSETS_PATH\n",
    "from src.gee.utils import init_gee\n",
    "from src.gee.classification.inference import predict_geo\n",
    "from src.gee.classification.model import get_classifier_trained\n",
    "from src.utils.gdrive import get_files_in_folder\n",
    "\n",
    "init_gee()\n",
    "from src.utils.gdrive import create_drive_folder, create_yaml_file_in_drive_from_config_dict\n",
    "\n",
    "cfg = OmegaConf.create(\n",
    "    dict(\n",
    "        aggregation_method=\"mean\",\n",
    "        model_name=\"random_forest\",\n",
    "        model_kwargs=dict(\n",
    "            n_estimators=100,\n",
    "            min_samples_leaf=1,\n",
    "            n_jobs=12,\n",
    "        ),\n",
    "        data=dict(\n",
    "            aois_test=[f\"UKR{i}\" for i in range(1, 19) if i not in [1, 2, 3, 4]],\n",
    "            damages_to_keep=[1, 2],\n",
    "            extract_winds=[\"3x3\"],  # ['1x1', '3x3', '5x5']\n",
    "            time_periods={  # to train\n",
    "                \"pre\": (\"2020-02-24\", \"2021-02-23\"),  # always only one\n",
    "                \"post\": \"1year\",\n",
    "            },\n",
    "            time_periods_inference={  # to predict\n",
    "                \"pre\": (\"2020-02-24\", \"2021-02-23\"),  # always only one\n",
    "                \"post\": (\"2022-02-24\", \"2023-02-23\"),\n",
    "            },\n",
    "        ),\n",
    "        reducer_names=[\"mean\", \"stdDev\", \"median\", \"min\", \"max\", \"skew\", \"kurtosis\"],\n",
    "        train_on_all=False,  # train on all damages (train + test split)\n",
    "        verbose=0,\n",
    "        export_as_trees=False,\n",
    "        seed=123,\n",
    "        run_name=240301,\n",
    "    )\n",
    ")\n",
    "\n",
    "# Load classifier\n",
    "def get_classifier_id(cfg):\n",
    "    n_trees = cfg.model_kwargs.n_estimators\n",
    "    all_data = \"_all_data\" if cfg.train_on_all else \"\"\n",
    "    export = \"_export_tree\" if cfg.export_as_trees else \"\"\n",
    "    asset_id = f\"{ASSETS_PATH}s1tsdd_Ukraine/{cfg.run_name}/classifier_{cfg.data.time_periods.post}_{n_trees}trees{all_data}{export}\"\n",
    "    return asset_id\n",
    "\n",
    "asset_id = get_classifier_id(cfg)\n",
    "print(asset_id)\n",
    "from src.gee.classification.model import load_classifier\n",
    "\n",
    "classifier = load_classifier(asset_id)"
   ]
  },
  {
   "cell_type": "code",
   "execution_count": null,
   "metadata": {},
   "outputs": [],
   "source": [
    "split = 'test'\n",
    "asset_path = ASSETS_PATH + f\"s1tsdd_Ukraine/{cfg.run_name}/features_ready_{split}_{cfg.data.time_periods.post}\"\n",
    "fc_test = ee.FeatureCollection(asset_path)\n",
    "fc_test.size()"
   ]
  },
  {
   "cell_type": "code",
   "execution_count": null,
   "metadata": {},
   "outputs": [],
   "source": [
    "from src.gee.classification.utils import infer_and_compute_metrics\n",
    "infer_and_compute_metrics(fc_test, classifier)"
   ]
  },
  {
   "cell_type": "code",
   "execution_count": null,
   "metadata": {},
   "outputs": [],
   "source": []
  }
 ],
 "metadata": {
  "kernelspec": {
   "display_name": "Python 3",
   "language": "python",
   "name": "python3"
  },
  "language_info": {
   "codemirror_mode": {
    "name": "ipython",
    "version": 3
   },
   "file_extension": ".py",
   "mimetype": "text/x-python",
   "name": "python",
   "nbconvert_exporter": "python",
   "pygments_lexer": "ipython3",
   "version": "3.8.18"
  }
 },
 "nbformat": 4,
 "nbformat_minor": 2
}
