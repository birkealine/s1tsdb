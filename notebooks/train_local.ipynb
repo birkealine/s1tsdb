{
 "cells": [
  {
   "cell_type": "code",
   "execution_count": null,
   "metadata": {},
   "outputs": [],
   "source": [
    "%load_ext autoreload\n",
    "%autoreload 2"
   ]
  },
  {
   "cell_type": "code",
   "execution_count": null,
   "metadata": {},
   "outputs": [],
   "source": [
    "import ee\n",
    "import geemap\n",
    "\n",
    "from src.utils.gee import init_gee\n",
    "\n",
    "init_gee()"
   ]
  },
  {
   "cell_type": "code",
   "execution_count": null,
   "metadata": {},
   "outputs": [],
   "source": [
    "from omegaconf import OmegaConf\n",
    "import pandas as pd\n",
    "\n",
    "from src.constants import AOIS_TEST\n",
    "from src.data import UNOSAT_S1TS_Dataset\n",
    "from src.classification.model_factory import load_model\n",
    "from src.classification.trainer import S1TSDD_Trainer\n",
    "\n",
    "def get_features_extractor(reducer_names):\n",
    "    def extract_features(df, start, end, prefix=\"\"):\n",
    "        # columns are datetime -> can slice directly between two dates\n",
    "        df = df.loc[:, start:end]\n",
    "\n",
    "        # features\n",
    "        df_features = pd.DataFrame(index=df.index)\n",
    "        if \"mean\" in reducer_names:\n",
    "            df_features[\"mean\"] = df.mean(axis=1)\n",
    "        if \"stdDev\" in reducer_names:\n",
    "            df_features[\"std\"] = df.std(axis=1)\n",
    "        if \"median\" in reducer_names:\n",
    "            df_features[\"median\"] = df.median(axis=1)\n",
    "        if \"min\" in reducer_names:\n",
    "            df_features[\"min\"] = df.min(axis=1)\n",
    "        if \"max\" in reducer_names:\n",
    "            df_features[\"max\"] = df.max(axis=1)\n",
    "        if \"skew\" in reducer_names:\n",
    "            df_features[\"skew\"] = df.skew(axis=1)\n",
    "        if \"kurtosis\" in reducer_names:\n",
    "            df_features[\"kurt\"] = df.kurt(axis=1)\n",
    "\n",
    "        # rename columns using band, prefix (eg pre/post/pre_3x3, ...)\n",
    "        df_vv = df_features.xs(\"VV\", level=\"band\")\n",
    "        df_vh = df_features.xs(\"VH\", level=\"band\")\n",
    "        df_vv.columns = [f\"VV_{prefix}_{col}\" for col in df_vv.columns]\n",
    "        df_vh.columns = [f\"VH_{prefix}_{col}\" for col in df_vh.columns]\n",
    "        return pd.concat([df_vv, df_vh], axis=1)\n",
    "    return extract_features\n",
    "\n",
    "cfg = OmegaConf.create(\n",
    "    dict(\n",
    "        aggregation_method=\"mean\",\n",
    "        model_name= \"random_forest\",\n",
    "        model_kwargs=dict(\n",
    "            n_estimators=200,\n",
    "            min_samples_leaf=2,\n",
    "            n_jobs=12,\n",
    "        ),\n",
    "        data=dict(\n",
    "            aois_test = [f'UKR{i}' for i in range(1,19) if i not in [1,2,3,4]], # [\"UKR6\", \"UKR8\", \"UKR12\", \"UKR15\"],\n",
    "            damages_to_keep=[1,2],\n",
    "            extract_winds = ['3x3'], # ['1x1', '3x3', '5x5']\n",
    "            random_neg_labels=0.0,  # percentage of negative labels to add in training set (eg 0.1 for 10%)\n",
    "            time_periods = {\n",
    "                'pre': [('2020-02-24', '2021-02-23')],\n",
    "                'post' : [\n",
    "                    ('2021-02-24', '2022-02-23'),\n",
    "                    ('2022-02-24', '2023-02-23')\n",
    "                ]\n",
    "            },\n",
    "        ),\n",
    "        reducer_names=[\"mean\", \"stdDev\", \"median\", \"min\", \"max\", \"skew\", \"kurtosis\"],\n",
    "        seed=123,\n",
    "        run_name=None,\n",
    "    )\n",
    ")\n",
    "\n",
    "ds = UNOSAT_S1TS_Dataset(cfg.data, extract_features=get_features_extractor(cfg.reducer_names))\n",
    "model = load_model(cfg)\n",
    "trainer = S1TSDD_Trainer(ds, model, aggregation=cfg.aggregation_method, seed=cfg.seed, verbose=1)\n",
    "trainer.train_and_test(threshold_for_metrics=0.5)"
   ]
  },
  {
   "cell_type": "code",
   "execution_count": null,
   "metadata": {},
   "outputs": [],
   "source": [
    "model = trainer.model\n",
    "model"
   ]
  },
  {
   "cell_type": "code",
   "execution_count": null,
   "metadata": {},
   "outputs": [],
   "source": [
    "import numpy as np\n",
    "from src.gee.export_local_training import rf_to_strings\n",
    "\n",
    "trees = rf_to_strings(model, new_features_names, processes=16)\n"
   ]
  },
  {
   "cell_type": "code",
   "execution_count": null,
   "metadata": {},
   "outputs": [],
   "source": [
    "clf = ee.Classifier.decisionTreeEnsemble(trees)"
   ]
  },
  {
   "cell_type": "code",
   "execution_count": null,
   "metadata": {},
   "outputs": [],
   "source": [
    "clf"
   ]
  },
  {
   "cell_type": "code",
   "execution_count": null,
   "metadata": {},
   "outputs": [],
   "source": []
  },
  {
   "cell_type": "code",
   "execution_count": null,
   "metadata": {},
   "outputs": [],
   "source": [
    "len(trees[0])"
   ]
  },
  {
   "cell_type": "code",
   "execution_count": null,
   "metadata": {},
   "outputs": [],
   "source": [
    "import joblib\n",
    "import geemap.ml as geemap_ml\n",
    "\n",
    "from src.constants import LOGS_PATH\n",
    "\n",
    "run_name = 'sliding_window_random10'\n",
    "logs_folder = LOGS_PATH / run_name\n",
    "model = joblib.load(logs_folder / f'model/{run_name}.joblib')\n",
    "model"
   ]
  },
  {
   "cell_type": "code",
   "execution_count": null,
   "metadata": {},
   "outputs": [],
   "source": [
    "from src.gee.classification.model import get_features_names\n",
    "features_names = get_features_names(cfg)\n",
    "features_names"
   ]
  },
  {
   "cell_type": "code",
   "execution_count": null,
   "metadata": {},
   "outputs": [],
   "source": [
    "# rename all features with letter of alphabet, eg 'a', 'b', 'c', ...\n",
    "def new_name(i):\n",
    "    if i >= 26:\n",
    "        return chr(ord('A') + i-26)\n",
    "    return chr(ord('a') + i)\n",
    "d_new_names = {k: new_name(i) for i, k in enumerate(features_names)}\n",
    "d_new_names"
   ]
  },
  {
   "cell_type": "code",
   "execution_count": null,
   "metadata": {},
   "outputs": [],
   "source": [
    "new_features_names = list(d_new_names.values())"
   ]
  },
  {
   "cell_type": "code",
   "execution_count": null,
   "metadata": {},
   "outputs": [],
   "source": [
    "# NOT WORKING\n",
    "\n",
    "# trees = geemap_ml.rf_to_strings(model, new_features_names, processes=16, output_mode=\"PROBABILITY\")\n",
    "# # save as txt file\n",
    "# with open(f\"classifier_{run_name}.txt\", \"w\") as f:\n",
    "#     f.write(trees)\n",
    "# ee_classifier = geemap_ml.strings_to_classifier(trees)"
   ]
  },
  {
   "cell_type": "code",
   "execution_count": null,
   "metadata": {},
   "outputs": [],
   "source": [
    "# import numpy as np\n",
    "# from src.data.gee.local_training import rf_to_strings\n",
    "\n",
    "# trees = rf_to_strings(model, new_features_names, processes=16)\n",
    "\n",
    "# import json\n",
    "\n",
    "# d_trees = {i: t for i, t in enumerate(trees)}\n",
    "# with open(f\"rf_{run_name}.json\", \"w\") as fp:\n",
    "#     json.dump(d_trees, fp, indent=4)"
   ]
  },
  {
   "cell_type": "code",
   "execution_count": null,
   "metadata": {},
   "outputs": [],
   "source": [
    "import json\n",
    "\n",
    "with open(f\"rf_{run_name}.json\", \"r\") as fp:\n",
    "    d_trees = json.load(fp)\n",
    "trees = list(d_trees.values())"
   ]
  },
  {
   "cell_type": "code",
   "execution_count": null,
   "metadata": {},
   "outputs": [],
   "source": [
    "ee_strings = [ee.String(t) for t in trees]\n",
    "classifier = ee.Classifier.decisionTreeEnsemble(ee_strings)"
   ]
  },
  {
   "cell_type": "code",
   "execution_count": null,
   "metadata": {},
   "outputs": [],
   "source": [
    "len(trees[0].encode('utf-8')) / 10**6"
   ]
  },
  {
   "cell_type": "code",
   "execution_count": null,
   "metadata": {},
   "outputs": [],
   "source": [
    "decision_trees = ee.List(classifier.explain().get('trees'))"
   ]
  },
  {
   "cell_type": "code",
   "execution_count": null,
   "metadata": {},
   "outputs": [],
   "source": [
    "# https://gis.stackexchange.com/questions/432355/how-to-save-random-forest-classifier-within-gee-that-can-be-called-later-for-cla\n",
    "\n",
    "def encode_feature_collection(value):\n",
    "    string = ee.String.encodeJSON(value)\n",
    "    string_length = string.length()\n",
    "    max_length = 100000\n",
    "    max_properties = 1000\n",
    "\n",
    "    values = ee.List.sequence(0, string_length, max_length).map(\n",
    "        lambda start: ee.Algorithms.If(\n",
    "            ee.Number(start).lt(string_length),\n",
    "            string.slice(ee.Number(start), ee.Number(start).add(max_length)),\n",
    "            None\n",
    "        )\n",
    "    ).filter(ee.Filter.neq('item', ''))\n",
    "\n",
    "    number_of_properties = values.size()\n",
    "\n",
    "    def create_feature(start):\n",
    "        start = ee.Number(start)\n",
    "        end = start.add(max_properties).min(number_of_properties)\n",
    "        property_values = values.slice(start, end)\n",
    "        property_keys = ee.List.sequence(1, property_values.size()).map(lambda i: ee.Number(i).format('%d'))\n",
    "        properties = ee.Dictionary.fromLists(property_keys, property_values)\n",
    "        return ee.Feature(ee.Geometry.Point([0, 0]), properties)\n",
    "\n",
    "    return ee.FeatureCollection(ee.List.sequence(0, values.size(), max_properties).map(create_feature).filter(ee.Filter.notNull(['1'])))\n"
   ]
  },
  {
   "cell_type": "code",
   "execution_count": null,
   "metadata": {},
   "outputs": [],
   "source": [
    "trees_encoded = encode_feature_collection(decision_trees)"
   ]
  },
  {
   "cell_type": "code",
   "execution_count": null,
   "metadata": {},
   "outputs": [],
   "source": [
    "from src.data.gee.constants import ASSETS_PATH\n",
    "\n",
    "task = ee.batch.Export.table.toAsset(\n",
    "    trees_encoded,\n",
    "    description=f'decision-trees_{run_name}',\n",
    "    assetId = ASSETS_PATH + f'models_trained/rf_{run_name}'\n",
    ")\n",
    "task.start()"
   ]
  },
  {
   "cell_type": "code",
   "execution_count": null,
   "metadata": {},
   "outputs": [],
   "source": [
    "# from src.data.gee.constants import ASSETS_PATH\n",
    "\n",
    "task = ee.batch.Export.classifier.toAsset(\n",
    "    classifier,\n",
    "    description = f'rf_{run_name}',\n",
    "    assetId = ASSETS_PATH + f'models_trained/rf_{run_name}',\n",
    ")\n",
    "task.start()"
   ]
  },
  {
   "cell_type": "code",
   "execution_count": null,
   "metadata": {},
   "outputs": [],
   "source": []
  }
 ],
 "metadata": {
  "kernelspec": {
   "display_name": "Python 3",
   "language": "python",
   "name": "python3"
  },
  "language_info": {
   "codemirror_mode": {
    "name": "ipython",
    "version": 3
   },
   "file_extension": ".py",
   "mimetype": "text/x-python",
   "name": "python",
   "nbconvert_exporter": "python",
   "pygments_lexer": "ipython3",
   "version": "3.8.18"
  }
 },
 "nbformat": 4,
 "nbformat_minor": 2
}
