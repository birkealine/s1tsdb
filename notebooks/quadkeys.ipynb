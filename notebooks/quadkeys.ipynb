{
 "cells": [
  {
   "cell_type": "code",
   "execution_count": null,
   "metadata": {},
   "outputs": [],
   "source": [
    "%load_ext autoreload\n",
    "%autoreload 2"
   ]
  },
  {
   "cell_type": "markdown",
   "metadata": {},
   "source": [
    "# Split Ukraine into small quadkeys for global predictions"
   ]
  },
  {
   "cell_type": "code",
   "execution_count": null,
   "metadata": {},
   "outputs": [],
   "source": [
    "from src.data.quadkeys import load_ukraine_quadkeys_grid\n",
    "gdf_grid = load_ukraine_quadkeys_grid(zoom=8, clip_to_ukraine=True)\n",
    "print(gdf_grid.shape)\n",
    "gdf_grid.explore()"
   ]
  },
  {
   "cell_type": "markdown",
   "metadata": {},
   "source": [
    "# Adding Overture buildings"
   ]
  },
  {
   "cell_type": "code",
   "execution_count": null,
   "metadata": {},
   "outputs": [],
   "source": [
    "from src.data.buildings.overture_quadkeys import load_gdf_overture_qk\n",
    "gdf_qk = load_gdf_overture_qk(zoom=8)\n",
    "print(gdf_qk.shape)\n",
    "gdf_qk.explore('n_buildings')"
   ]
  },
  {
   "cell_type": "code",
   "execution_count": null,
   "metadata": {},
   "outputs": [],
   "source": [
    "import warnings\n",
    "from src.utils.geometry import load_country_boundaries\n",
    "\n",
    "# in minutes\n",
    "d_zoom = {\n",
    "    7: {'time': 72},\n",
    "    8: {'time': 19},\n",
    "    9: {'time': 13},\n",
    "    10: {'time': 15},\n",
    "    11: {'time': 11}\n",
    "}\n",
    "with warnings.catch_warnings():\n",
    "    warnings.simplefilter(\"ignore\", category=UserWarning)\n",
    "\n",
    "    area_ukr = load_country_boundaries('Ukraine').area\n",
    "    for zoom in range(7, 12):\n",
    "        gdf_qk = load_gdf_overture_qk(zoom=zoom)\n",
    "        area_one_cell = gdf_qk.area.max()\n",
    "        area = gdf_qk.area.sum()\n",
    "        d_zoom[zoom]['area'] = area/area_ukr\n",
    "        d_zoom[zoom]['area_one_cell'] = area_one_cell\n",
    "        d_zoom[zoom]['t_estimated'] = area / area_one_cell * d_zoom[zoom]['time']\n",
    "d_zoom"
   ]
  },
  {
   "cell_type": "code",
   "execution_count": null,
   "metadata": {},
   "outputs": [],
   "source": [
    "import ee\n",
    "import geemap\n",
    "from src.utils.gee import init_gee\n",
    "from src.data.buildings.overture_quadkeys import load_gdf_overture_qk\n",
    "\n",
    "init_gee()\n",
    "from src.gee.constants import ASSETS_PATH\n",
    "\n",
    "zoom=8\n",
    "gdf = load_gdf_overture_qk(zoom=zoom)\n",
    "ee.batch.Export.table.toAsset(\n",
    "    collection=geemap.geopandas_to_ee(gdf),\n",
    "    description=f\"grid_quadkey_overture_zoom{zoom}\",\n",
    "    assetId=ASSETS_PATH + f\"s1tsdd_Ukraine/quadkeys_grid_zoom{zoom}\",\n",
    ").start()"
   ]
  },
  {
   "cell_type": "code",
   "execution_count": null,
   "metadata": {},
   "outputs": [],
   "source": [
    "import pandas as pd\n",
    "from tqdm import tqdm\n",
    "from src.data.buildings.microsoft import MICROSOFT_BUILDINGS_RAW_PATH\n",
    "import warnings\n",
    "from shapely.geometry import box\n",
    "\n",
    "original_qks = [fp.stem for fp in MICROSOFT_BUILDINGS_RAW_PATH.glob('*.geojson')]\n",
    "gdf_grid = load_ukraine_quadkeys_grid()\n",
    "gdf_grid['n_buildings'] = 0\n",
    "gdf_grid['buildings_bounds'] = None\n",
    "for original_qk in tqdm(original_qks):\n",
    "\n",
    "    gdf_grid_ = gdf_grid[gdf_grid.qk.str.startswith(original_qk)].copy()\n",
    "\n",
    "    gdf_buildings = gpd.read_file(MICROSOFT_BUILDINGS_RAW_PATH / f\"{original_qk}.geojson\")\n",
    "    if gdf_buildings.empty:\n",
    "        continue\n",
    "\n",
    "    if gdf_grid_.area_in_ukraine.sum() != len(gdf_grid_):\n",
    "        with warnings.catch_warnings():\n",
    "            warnings.filterwarnings('ignore',category=UserWarning)\n",
    "            gdf_buildings = gdf_buildings[gdf_buildings.centroid.intersects(gdf_grid_.unary_union)]\n",
    "\n",
    "    def buildings_within_geo(row):\n",
    "        with warnings.catch_warnings():\n",
    "            warnings.filterwarnings('ignore',category=UserWarning)\n",
    "            buildings = gdf_buildings[gdf_buildings.centroid.intersects(row.geometry)]\n",
    "\n",
    "            if buildings.empty:\n",
    "                return {'n_buildings': 0, 'buildings_bounds': None}\n",
    "            else:\n",
    "                return {'n_buildings': len(buildings), 'buildings_bounds': box(*buildings.geometry.make_valid().total_bounds)}\n",
    "\n",
    "    d_buildings = gdf_grid_.apply(buildings_within_geo, axis=1)\n",
    "    df_buildings = pd.DataFrame(d_buildings.tolist(), index=gdf_grid_.index)\n",
    "    gdf_grid.loc[gdf_grid_.index, ('n_buildings', 'buildings_bounds')] = df_buildings\n",
    "\n",
    "gdf_grid = gdf_grid[gdf_grid.n_buildings > 0].copy()\n",
    "gdf_grid.geometry = gdf_grid.buildings_bounds\n",
    "gdf_grid.drop(columns=['buildings_bounds'], inplace=True)\n",
    "gdf_grid.to_file(PROCESSED_PATH / 'grid_zoom2_with_buildings.geojson', driver='GeoJSON')\n",
    "print('File saved.')"
   ]
  },
  {
   "cell_type": "code",
   "execution_count": null,
   "metadata": {},
   "outputs": [],
   "source": [
    "def create_grid_buildings(zoom=2):\n",
    "    \"\"\"takes ~1h, could use multiprocessing\"\"\"\n",
    "    original_qks = [fp.stem for fp in MICROSOFT_BUILDINGS_RAW_PATH.glob('*.geojson')]\n",
    "    gdf_grid = load_ukraine_quadkeys_grid(zoom=zoom)\n",
    "    gdf_grid['n_buildings'] = 0\n",
    "    gdf_grid['buildings_bounds'] = None\n",
    "    for original_qk in tqdm(original_qks):\n",
    "\n",
    "        gdf_grid_ = gdf_grid[gdf_grid.qk.str.startswith(original_qk)].copy()\n",
    "\n",
    "        gdf_buildings = gpd.read_file(MICROSOFT_BUILDINGS_RAW_PATH / f\"{original_qk}.geojson\")\n",
    "        if gdf_buildings.empty:\n",
    "            continue\n",
    "\n",
    "        if gdf_grid_.area_in_ukraine.sum() != len(gdf_grid_):\n",
    "            with warnings.catch_warnings():\n",
    "                warnings.filterwarnings('ignore',category=UserWarning)\n",
    "                gdf_buildings = gdf_buildings[gdf_buildings.centroid.intersects(gdf_grid_.unary_union)]\n",
    "\n",
    "        def buildings_within_geo(row):\n",
    "            with warnings.catch_warnings():\n",
    "                warnings.filterwarnings('ignore',category=UserWarning)\n",
    "                buildings = gdf_buildings[gdf_buildings.centroid.intersects(row.geometry)]\n",
    "\n",
    "                if buildings.empty:\n",
    "                    return {'n_buildings': 0, 'buildings_bounds': None}\n",
    "                else:\n",
    "                    return {'n_buildings': len(buildings), 'buildings_bounds': box(*buildings.geometry.make_valid().total_bounds)}\n",
    "\n",
    "        d_buildings = gdf_grid_.apply(buildings_within_geo, axis=1)\n",
    "        df_buildings = pd.DataFrame(d_buildings.tolist(), index=gdf_grid_.index)\n",
    "        gdf_grid.loc[gdf_grid_.index, ('n_buildings', 'buildings_bounds')] = df_buildings\n",
    "\n",
    "    gdf_grid = gdf_grid[gdf_grid.n_buildings > 0].copy()\n",
    "    gdf_grid.geometry = gdf_grid.buildings_bounds\n",
    "    gdf_grid.drop(columns=['buildings_bounds'], inplace=True)\n",
    "    gdf_grid.to_file(PROCESSED_PATH / f'grid_zoom{zoom}_with_buildings.geojson', driver='GeoJSON')\n",
    "    print('File saved.')\n",
    "\n",
    "def load_grid_buildings(zoom=2):\n",
    "\n",
    "    fp = PROCESSED_PATH / f'grid_zoom{zoom}_with_buildings.geojson'\n",
    "    if not fp.exists():\n",
    "        create_grid_buildings(zoom=zoom)\n",
    "    return gpd.read_file(fp)"
   ]
  },
  {
   "cell_type": "code",
   "execution_count": null,
   "metadata": {},
   "outputs": [],
   "source": [
    "grid_buildings = load_grid_buildings()\n",
    "grid_buildings.explore('n_buildings', vmax=50000)"
   ]
  },
  {
   "cell_type": "code",
   "execution_count": null,
   "metadata": {},
   "outputs": [],
   "source": [
    "from src.utils.geometry import load_country_boundaries\n",
    "import warnings\n",
    "with warnings.catch_warnings():\n",
    "    warnings.filterwarnings('ignore',category=UserWarning)\n",
    "    ukraine = load_country_boundaries('Ukraine')\n",
    "    print(f'{len(grid_buildings)} polygons, {100*grid_buildings.area.sum()/ukraine.area:.2f}% of ukraine area')"
   ]
  },
  {
   "cell_type": "code",
   "execution_count": null,
   "metadata": {},
   "outputs": [],
   "source": [
    "import matplotlib.pyplot as plt\n",
    "_,ax = plt.subplots(figsize=(5,4))\n",
    "ax.hist(grid_buildings.n_buildings.values, bins=200)\n",
    "ax.set_xlabel('Number of buildings')\n",
    "ax.set_ylabel('Count')\n",
    "ax.set_title('Distribution of number of buildings per grid cell')\n",
    "plt.show()"
   ]
  },
  {
   "cell_type": "markdown",
   "metadata": {},
   "source": [
    "# Precompute geojson for each new quadkey"
   ]
  },
  {
   "cell_type": "code",
   "execution_count": null,
   "metadata": {},
   "outputs": [],
   "source": [
    "grid_buildings = load_grid_buildings().set_index('qk')\n",
    "grid_buildings.head()"
   ]
  },
  {
   "cell_type": "code",
   "execution_count": null,
   "metadata": {},
   "outputs": [],
   "source": [
    "from src.constants import PROCESSED_PATH\n",
    "folder = PROCESSED_PATH / 'quadkeys_grid'\n",
    "previous_original_qk = None\n",
    "for qk, row in grid_buildings.iterrows():\n",
    "\n",
    "    original_qk = qk[:-2]\n",
    "    if original_qk != previous_original_qk:\n",
    "        gdf_buildings = gpd.read_file(MICROSOFT_BUILDINGS_RAW_PATH / f\"{original_qk}.geojson\")[['geometry']]\n",
    "        gdf_buildings.index.name = 'building_id'\n",
    "        gdf_buildings.reset_index(inplace=True)\n",
    "        gdf_buildings['building_id'] = gdf_buildings['building_id'].apply(lambda x: f\"{original_qk}_{x}\")\n",
    "        previous_original_qk = original_qk\n",
    "\n",
    "    with warnings.catch_warnings():\n",
    "        warnings.filterwarnings(\"ignore\", category=UserWarning)\n",
    "        gdf_buildings_qk = gdf_buildings[gdf_buildings.centroid.intersects(row.geometry)]\n",
    "\n",
    "    gdf_buildings_qk[[\"geometry\"]].to_file(folder / f\"{qk}.geojson\", driver=\"GeoJSON\")"
   ]
  },
  {
   "cell_type": "code",
   "execution_count": null,
   "metadata": {},
   "outputs": [],
   "source": [
    "gdf_buildings_qk"
   ]
  },
  {
   "cell_type": "code",
   "execution_count": null,
   "metadata": {},
   "outputs": [],
   "source": [
    "gdf_buildings.index.name = 'building_id'\n",
    "gdf_buildings.head()"
   ]
  },
  {
   "cell_type": "code",
   "execution_count": null,
   "metadata": {},
   "outputs": [],
   "source": []
  }
 ],
 "metadata": {
  "kernelspec": {
   "display_name": "Python 3",
   "language": "python",
   "name": "python3"
  },
  "language_info": {
   "codemirror_mode": {
    "name": "ipython",
    "version": 3
   },
   "file_extension": ".py",
   "mimetype": "text/x-python",
   "name": "python",
   "nbconvert_exporter": "python",
   "pygments_lexer": "ipython3",
   "version": "3.8.18"
  }
 },
 "nbformat": 4,
 "nbformat_minor": 2
}
