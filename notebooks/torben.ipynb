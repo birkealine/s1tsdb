{
 "cells": [
  {
   "cell_type": "markdown",
   "metadata": {},
   "source": [
    "# Torben data"
   ]
  },
  {
   "cell_type": "code",
   "execution_count": null,
   "metadata": {},
   "outputs": [],
   "source": [
    "from src.data.utils import read_ts, get_random_ts\n",
    "from src.visualization.time_series import plot_ts"
   ]
  },
  {
   "cell_type": "code",
   "execution_count": null,
   "metadata": {},
   "outputs": [],
   "source": [
    "ts = get_random_ts()\n",
    "ts"
   ]
  },
  {
   "cell_type": "code",
   "execution_count": null,
   "metadata": {},
   "outputs": [],
   "source": [
    "ts_neg = ts.sel(date=slice('2020-02-24', '2022-02-24'))\n",
    "ts_pos = ts.sel(date=slice('2021-02-24', '2023-02-24'))\n",
    "print(ts_pos.shape, ts_neg.shape)"
   ]
  },
  {
   "cell_type": "code",
   "execution_count": null,
   "metadata": {},
   "outputs": [],
   "source": [
    "ts.sel(date=slice('2020-02-24', '2022-02-24')).shape"
   ]
  },
  {
   "cell_type": "code",
   "execution_count": null,
   "metadata": {},
   "outputs": [],
   "source": [
    "from src.data import load_unosat_labels\n",
    "df = load_unosat_labels('UKR1')\n",
    "df"
   ]
  },
  {
   "cell_type": "code",
   "execution_count": null,
   "metadata": {},
   "outputs": [],
   "source": [
    "import h5py"
   ]
  },
  {
   "cell_type": "code",
   "execution_count": null,
   "metadata": {},
   "outputs": [],
   "source": [
    "ts.attrs"
   ]
  },
  {
   "cell_type": "code",
   "execution_count": null,
   "metadata": {},
   "outputs": [],
   "source": [
    "ts.aoi"
   ]
  },
  {
   "cell_type": "code",
   "execution_count": null,
   "metadata": {},
   "outputs": [],
   "source": [
    "for attr in ts.attrs:\n",
    "    print(attr, type(ts.attrs[attr]))"
   ]
  },
  {
   "cell_type": "code",
   "execution_count": null,
   "metadata": {},
   "outputs": [],
   "source": [
    "ts = ts.sel(date=slice('2022-01-24', '2022-04-24'))\n",
    "ts.date"
   ]
  },
  {
   "cell_type": "code",
   "execution_count": null,
   "metadata": {},
   "outputs": [],
   "source": [
    "import numpy as np\n",
    "import datetime as dt\n",
    "\n",
    "target_date = np.datetime64(UKRAINE_WAR_START)\n",
    "np.max(np.where(ts.date < target_date)), np.min(np.where(ts.date > np.datetime64(ts.date_of_analysis)))"
   ]
  },
  {
   "cell_type": "code",
   "execution_count": null,
   "metadata": {},
   "outputs": [],
   "source": [
    "from src.constants import AOIS_TEST, UKRAINE_WAR_START\n",
    "UKRAINE_WAR_START"
   ]
  },
  {
   "cell_type": "code",
   "execution_count": null,
   "metadata": {},
   "outputs": [],
   "source": [
    "list(folder.glob('*.nc'))"
   ]
  },
  {
   "cell_type": "code",
   "execution_count": null,
   "metadata": {},
   "outputs": [],
   "source": []
  },
  {
   "cell_type": "code",
   "execution_count": null,
   "metadata": {},
   "outputs": [],
   "source": [
    "ts.shape"
   ]
  },
  {
   "cell_type": "code",
   "execution_count": null,
   "metadata": {},
   "outputs": [],
   "source": [
    "import h5py\n",
    "from src.constants import AOIS_TEST, UKRAINE_WAR_START\n",
    "from tqdm import tqdm\n",
    "from src.data.utils import aoi_orbit_iterator\n",
    "from src.constants import TS_PATH\n",
    "import xarray as xr\n",
    "\n",
    "extraction_strategy = '3x3'\n",
    "\n",
    "fps = []\n",
    "for aoi, orbit in aoi_orbit_iterator():\n",
    "    folder = TS_PATH / extraction_strategy / aoi / f'orbit_{orbit}'\n",
    "    fps += list(folder.glob('*.nc'))\n",
    "    break\n",
    "\n",
    "with h5py.File(f'data_{extraction_strategy}.h5', 'w') as f:\n",
    "    groups = {f'fold{i}': f.create_group(f'fold{i}') for i in range(1,6)}\n",
    "    groups['test'] = f.create_group('test')\n",
    "\n",
    "    for fp in tqdm(fps):\n",
    "        ts_full = xr.open_dataarray(fp)\n",
    "        group_key = 'test' if ts.aoi in AOIS_TEST else f'fold{ts.bin}'\n",
    "        grp = groups[group_key]\n",
    "\n",
    "        ts_pos = ts_full.sel(date=slice('2021-02-24', '2023-02-23')) # two years, spanning the war\n",
    "        ts_neg = ts_full.sel(date=slice('2020-02-24', '2022-02-23')) # two years, before the war\n",
    "        for ts, label in [(ts_pos, 1), (ts_neg, 0)]:\n",
    "            ds_name = f\"{ts.aoi}_orbit_{ts.orbit}_{ts.unosat_id}_{label}\"\n",
    "            ds = grp.create_dataset(ds_name, data=ts.values)\n",
    "\n",
    "            if label:\n",
    "                id_left_bound = np.max(np.where(ts.date < np.datetime64(UKRAINE_WAR_START))) # closest date before the war\n",
    "                id_right_bound = np.min(np.where(ts.date > np.datetime64(ts.date_of_analysis))) # closest date after the date of analysis\n",
    "            else:\n",
    "                id_left_bound = -1\n",
    "                id_right_bound = -1\n",
    "\n",
    "            ds.attrs['label'] = label\n",
    "            ds.attrs['id_left_bound'] = id_left_bound\n",
    "            ds.attrs['id_right_bound'] = id_right_bound\n",
    "            for attr in ts.attrs:\n",
    "                ds.attrs[attr] = ts.attrs[attr]\n"
   ]
  },
  {
   "cell_type": "code",
   "execution_count": null,
   "metadata": {},
   "outputs": [],
   "source": [
    "with h5py.File(f'data_{extraction_strategy}.h5', 'r') as f:\n",
    "    ts_pos = f['fold1']['UKR1_orbit_43_11131_1'][...]\n",
    "    ts_neg = f['fold1']['UKR1_orbit_43_11131_0'][...]"
   ]
  },
  {
   "cell_type": "code",
   "execution_count": null,
   "metadata": {},
   "outputs": [],
   "source": [
    "ts = read_ts('UKR1', 43, 11131)\n",
    "ts"
   ]
  },
  {
   "cell_type": "code",
   "execution_count": null,
   "metadata": {},
   "outputs": [],
   "source": [
    "with h5py.File(f'test.h5', 'w') as f:\n",
    "    grp = f.create_group('test')\n",
    "    ds = grp.create_dataset('test', data=ts.values)\n",
    "    ds.attrs['label'] = np.inf"
   ]
  },
  {
   "cell_type": "code",
   "execution_count": null,
   "metadata": {},
   "outputs": [],
   "source": [
    "item"
   ]
  },
  {
   "cell_type": "code",
   "execution_count": null,
   "metadata": {},
   "outputs": [],
   "source": [
    "from src.data.utils import get_random_ts\n",
    "from src.visualization.time_series import plot_ts\n",
    "import matplotlib.pyplot as plt\n",
    "from src.constants import AOIS_TEST\n",
    "fig, ax = plt.subplots(5,2, figsize=(20,10))\n",
    "for i in range(10):\n",
    "    ts = get_random_ts(aoi=AOIS_TEST, seed=i+1035)\n",
    "    plot_ts(ts, ax=ax[i//2, i%2])\n",
    "plt.show()"
   ]
  },
  {
   "cell_type": "code",
   "execution_count": null,
   "metadata": {},
   "outputs": [],
   "source": [
    "AOIS_TEST"
   ]
  },
  {
   "cell_type": "code",
   "execution_count": null,
   "metadata": {},
   "outputs": [],
   "source": [
    "good_ts = [\n",
    "    ('UKR15', 65, 15487),\n",
    "    ('UKR15', 116, 15467),\n",
    "    ('UKR15', 65, 15503),\n",
    "    ('UKR15', 65, 15477),\n",
    "    ('UKR6', 14, 14220),\n",
    "    ('UKR6', 87, 14807),\n",
    "    ('UKR8', 36, 13829),\n",
    "    ('UKR6',36,14087)\n",
    "]"
   ]
  },
  {
   "cell_type": "code",
   "execution_count": null,
   "metadata": {},
   "outputs": [],
   "source": [
    "from src.data.utils import read_ts\n",
    "from src.constants import DATA_PATH\n",
    "extraction_strategy = 'pixel-wise-3x3'\n",
    "base_folder = DATA_PATH / 'tmp' / f'cherrys_{extraction_strategy}'\n",
    "folder = base_folder / 'easy_ts_xarray'\n",
    "folder.mkdir(exist_ok=True, parents=True)\n",
    "for i, (aoi, orbit, unosat_id) in enumerate(good_ts):\n",
    "    ts = read_ts(aoi, orbit, unosat_id, extraction_strategy)\n",
    "    ts = ts.sel(date=slice('2021-02-24', '2023-02-23'))\n",
    "    ts.to_netcdf(folder / f'{aoi}_orbit_{orbit}_{unosat_id}.nc')\n",
    "\n",
    "folder = base_folder / 'easy_ts_xarray_shifted'\n",
    "folder.mkdir(exist_ok=True)\n",
    "for i, (aoi, orbit, unosat_id) in enumerate(good_ts):\n",
    "    ts = read_ts(aoi, orbit, unosat_id, extraction_strategy)\n",
    "    ts = ts.sel(date=slice('2020-11-24', '2022-11-23'))\n",
    "    ts.to_netcdf(folder / f'{aoi}_orbit_{orbit}_{unosat_id}.nc')\n",
    "\n",
    "folder = base_folder / 'easy_ts_xarray_neg'\n",
    "folder.mkdir(exist_ok=True)\n",
    "for i, (aoi, orbit, unosat_id) in enumerate(good_ts):\n",
    "    ts = read_ts(aoi, orbit, unosat_id, extraction_strategy)\n",
    "    ts = ts.sel(date=slice('2020-02-24', '2022-02-23'))\n",
    "    ts.to_netcdf(folder / f'{aoi}_orbit_{orbit}_{unosat_id}.nc')"
   ]
  },
  {
   "cell_type": "code",
   "execution_count": null,
   "metadata": {},
   "outputs": [],
   "source": [
    "from src.data.utils import read_ts\n",
    "from pathlib import Path\n",
    "folder = Path('./easy_ts_before_war')\n",
    "folder.mkdir(exist_ok=True)\n",
    "fig, ax = plt.subplots(4,2, figsize=(20,10))\n",
    "for i, (aoi, orbit, unosat_id) in enumerate(good_ts):\n",
    "    ts = read_ts(aoi, orbit, unosat_id)\n",
    "    ts = ts.sel(date=slice('2020-02-24', '2022-02-23'))\n",
    "    np.save(folder / f'{aoi}_orbit_{orbit}_{unosat_id}.npy', ts.values)\n",
    "    plot_ts(ts, ax=ax[i//2, i%2])\n",
    "plt.tight_layout()"
   ]
  },
  {
   "cell_type": "code",
   "execution_count": null,
   "metadata": {},
   "outputs": [],
   "source": [
    "# save as npy\n",
    "import numpy as np\n"
   ]
  },
  {
   "cell_type": "code",
   "execution_count": null,
   "metadata": {},
   "outputs": [],
   "source": [
    "plt.plot(np.load('ts.npy'))"
   ]
  },
  {
   "cell_type": "code",
   "execution_count": null,
   "metadata": {},
   "outputs": [],
   "source": [
    "from src.constants import DATA_PATH\n",
    "cherry_folder = DATA_PATH / \"tmp\" / \"cherrys\" / \"easy_ts_xarray\"\n",
    "cherrys_fp = list(cherry_folder.glob(\"*.nc\"))\n",
    "\n",
    "from src.main_torben import Network\n",
    "model = Network().cuda()\n",
    "\n",
    "from src.data.utils import read_ts_from_fp\n",
    "cherrys = [read_ts_from_fp(fp) for fp in cherrys_fp]"
   ]
  },
  {
   "cell_type": "code",
   "execution_count": null,
   "metadata": {},
   "outputs": [],
   "source": [
    "cherry = cherrys[0]\n",
    "cherry"
   ]
  },
  {
   "cell_type": "code",
   "execution_count": null,
   "metadata": {},
   "outputs": [],
   "source": [
    "import torch\n",
    "cherry_ = torch.tensor(cherry.to_numpy()).cuda().unsqueeze(0).float()"
   ]
  },
  {
   "cell_type": "code",
   "execution_count": null,
   "metadata": {},
   "outputs": [],
   "source": [
    "pred = model(cherry_)\n",
    "pred"
   ]
  },
  {
   "cell_type": "code",
   "execution_count": null,
   "metadata": {},
   "outputs": [],
   "source": [
    "cherry[0,0]"
   ]
  },
  {
   "cell_type": "code",
   "execution_count": null,
   "metadata": {},
   "outputs": [],
   "source": [
    "from src.visualization.time_series import plot_ts\n",
    "\n",
    "ax = plot_ts(cherry)\n",
    "ax2 = ax.twinx()\n",
    "ax2.plot(cherry.date, pred.detach().cpu().numpy().squeeze(), color='r')"
   ]
  },
  {
   "cell_type": "code",
   "execution_count": null,
   "metadata": {},
   "outputs": [],
   "source": []
  }
 ],
 "metadata": {
  "kernelspec": {
   "display_name": "Python 3",
   "language": "python",
   "name": "python3"
  },
  "language_info": {
   "codemirror_mode": {
    "name": "ipython",
    "version": 3
   },
   "file_extension": ".py",
   "mimetype": "text/x-python",
   "name": "python",
   "nbconvert_exporter": "python",
   "pygments_lexer": "ipython3",
   "version": "3.8.18"
  }
 },
 "nbformat": 4,
 "nbformat_minor": 2
}
