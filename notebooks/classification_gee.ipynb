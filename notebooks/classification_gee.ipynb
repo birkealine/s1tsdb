{
 "cells": [
  {
   "cell_type": "code",
   "execution_count": null,
   "metadata": {},
   "outputs": [],
   "source": [
    "%load_ext autoreload\n",
    "%autoreload 2"
   ]
  },
  {
   "cell_type": "markdown",
   "metadata": {},
   "source": [
    "# Classification with new features on GEE"
   ]
  },
  {
   "cell_type": "markdown",
   "metadata": {},
   "source": [
    "## Training"
   ]
  },
  {
   "cell_type": "code",
   "execution_count": null,
   "metadata": {},
   "outputs": [],
   "source": [
    "import ee\n",
    "import geemap\n",
    "\n",
    "from src.utils.gee import init_gee\n",
    "\n",
    "init_gee()\n",
    "\n",
    "from omegaconf import OmegaConf\n",
    "from src.gee.constants import ASSETS_PATH\n",
    "from src.gee.classification.model import export_classifier, load_classifier, get_classifier_trained\n",
    "from src.gee.data.dataset import get_dataset_ready\n",
    "from src.gee.classification.utils import infer_and_compute_metrics\n",
    "from src.gee.classification.model import get_features_names"
   ]
  },
  {
   "cell_type": "code",
   "execution_count": null,
   "metadata": {},
   "outputs": [],
   "source": [
    "post_periods_3months = True\n",
    "\n",
    "if post_periods_3months:\n",
    "    post = [\n",
    "        (\"2021-02-24\", \"2021-05-23\"),\n",
    "        (\"2021-05-24\", \"2021-08-23\"),\n",
    "        (\"2021-08-24\", \"2021-11-23\"),\n",
    "        (\"2021-11-24\", \"2022-02-23\"),\n",
    "        (\"2022-02-24\", \"2022-05-23\"),\n",
    "        (\"2022-05-24\", \"2022-08-23\"),\n",
    "        (\"2022-08-24\", \"2022-11-23\"),\n",
    "        (\"2022-11-24\", \"2023-02-23\"),\n",
    "    ]\n",
    "else:\n",
    "    post = [(\"2021-02-24\", \"2022-02-23\"), (\"2022-02-24\", \"2023-02-23\")]\n",
    "print(post)\n",
    "\n",
    "cfg = OmegaConf.create(\n",
    "    dict(\n",
    "        aggregation_method=\"mean\",\n",
    "        model_name=\"random_forest\",\n",
    "        model_kwargs=dict(\n",
    "            numberOfTrees=100,\n",
    "            minLeafPopulation=3,\n",
    "            maxNodes=1e4,\n",
    "        ),\n",
    "        data=dict(\n",
    "            aois_test=[f\"UKR{i}\" for i in range(1, 19) if i not in [1, 2, 3, 4]],\n",
    "            damages_to_keep=[1, 2],\n",
    "            extract_winds=[\"3x3\"],  # ['1x1', '3x3', '5x5']\n",
    "            time_periods={\n",
    "                \"pre\": [(\"2020-02-24\", \"2021-02-23\")],  # always only one\n",
    "                \"post\": post\n",
    "            },\n",
    "            time_periods_inference={\"pre\": (\"2020-02-24\", \"2021-02-23\"), \"post\": (\"2022-02-24\", \"2023-02-23\")},\n",
    "        ),\n",
    "        reducer_names=[\"mean\", \"stdDev\", \"median\", \"min\", \"max\", \"skew\", \"kurtosis\"],\n",
    "        export_as_trees=False,\n",
    "        train_on_all=False,  # train on all damages (train + test split)\n",
    "        verbose=1,\n",
    "        seed=123,\n",
    "        run_name=\"240307\",\n",
    "    )\n",
    ")"
   ]
  },
  {
   "cell_type": "code",
   "execution_count": null,
   "metadata": {},
   "outputs": [],
<<<<<<< HEAD
<<<<<<< HEAD
   "source": [
    "# reproduce 240301\n",
    "post_periods_3months = False\n",
    "\n",
    "if post_periods_3months:\n",
    "    post = [\n",
    "        (\"2021-02-24\", \"2021-05-23\"),\n",
    "        (\"2021-05-24\", \"2021-08-23\"),\n",
    "        (\"2021-08-24\", \"2021-11-23\"),\n",
    "        (\"2021-11-24\", \"2022-02-23\"),\n",
    "        (\"2022-02-24\", \"2022-05-23\"),\n",
    "        (\"2022-05-24\", \"2022-08-23\"),\n",
    "        (\"2022-08-24\", \"2022-11-23\"),\n",
    "        (\"2022-11-24\", \"2023-02-23\"),\n",
    "    ]\n",
    "else:\n",
    "    post = [(\"2021-02-24\", \"2022-02-23\"), (\"2022-02-24\", \"2023-02-23\")]\n",
    "print(post)\n",
    "\n",
    "cfg = OmegaConf.create(\n",
    "    dict(\n",
    "        aggregation_method=\"mean\",\n",
    "        model_name=\"random_forest\",\n",
    "        model_kwargs=dict(\n",
    "            numberOfTrees=100,\n",
    "            minLeafPopulation=1\n",
    "        ),\n",
    "        data=dict(\n",
    "            aois_test=[f\"UKR{i}\" for i in range(1, 19) if i not in [1, 2, 3, 4]],\n",
    "            damages_to_keep=[1, 2],\n",
    "            extract_winds=[\"3x3\"],  # ['1x1', '3x3', '5x5']\n",
    "            time_periods={\n",
    "                \"pre\": [(\"2020-02-24\", \"2021-02-23\")],  # always only one\n",
    "                \"post\": post\n",
    "            },\n",
    "            time_periods_inference={\"pre\": (\"2020-02-24\", \"2021-02-23\"), \"post\": (\"2022-02-24\", \"2023-02-23\")},\n",
    "        ),\n",
    "        reducer_names=[\"mean\", \"stdDev\", \"median\", \"min\", \"max\", \"skew\", \"kurtosis\"],\n",
    "        export_as_trees=False,\n",
    "        train_on_all=False,  # train on all damages (train + test split)\n",
    "        verbose=1,\n",
    "        seed=123,\n",
    "        run_name=\"240301\",\n",
    "    )\n",
    ")"
   ]
  },
  {
   "cell_type": "code",
   "execution_count": null,
   "metadata": {},
   "outputs": [],
=======
>>>>>>> 74c5513 (save before holidays)
=======
>>>>>>> 74c5513f151a463e1bca389700135d3ff404a4db
   "source": [
    "import datetime as dt\n",
    "from src.gee.data.utils import asset_exists\n",
    "\n",
    "\n",
    "def get_classifier_id(cfg):\n",
    "    n_trees = cfg.model_kwargs.numberOfTrees\n",
    "    all_data = \"_all_data\" if cfg.train_on_all else \"\"\n",
    "    export = \"_export_tree\" if cfg.export_as_trees else \"\"\n",
    "\n",
    "    start_post = dt.datetime.strptime(cfg.data.time_periods.post[0][0], \"%Y-%m-%d\")\n",
    "    end_post = dt.datetime.strptime(cfg.data.time_periods.post[0][1], \"%Y-%m-%d\")\n",
    "    n_days_between = (end_post - start_post).days\n",
    "    period = \"3months\" if n_days_between in range(87,93) else \"1year\" if n_days_between in range(363,367) else \"other\"\n",
    "    asset_id = f\"{ASSETS_PATH}s1tsdd_Ukraine/{cfg.run_name}/classifier_{period}_{n_trees}trees{all_data}{export}\"\n",
    "    return asset_id\n",
    "\n",
    "asset_id = get_classifier_id(cfg)\n",
    "print(asset_id, asset_exists(asset_id))"
   ]
  },
  {
   "cell_type": "code",
   "execution_count": null,
   "metadata": {},
   "outputs": [],
   "source": [
    "if asset_exists(asset_id):\n",
    "    print('loading classifier')\n",
    "    classifier = load_classifier(asset_id, export_as_trees=cfg.export_as_trees)\n",
    "else:\n",
    "    print('training and exporting classifier')\n",
    "    classifier = get_classifier_trained(cfg, verbose=1, train_once=False)\n",
    "    export_classifier(classifier, asset_id, export_as_trees=cfg.export_as_trees)\n"
   ]
  },
  {
   "cell_type": "code",
   "execution_count": null,
   "metadata": {},
   "outputs": [],
   "source": [
    "# classifier = get_classifier_trained(cfg, verbose=1)"
   ]
  },
  {
   "cell_type": "markdown",
   "metadata": {},
   "source": [
    "## Testing"
   ]
  },
  {
   "cell_type": "code",
   "execution_count": null,
   "metadata": {},
   "outputs": [],
   "source": [
<<<<<<< HEAD
    "fc_test = get_dataset_ready(cfg.run_name, \"test\", post_dates=post)"
=======
    "grids = ee.FeatureCollection(ASSETS_PATH + f\"s1tsdd_Ukraine/quadkeys_grid_zoom8\")"
   ]
  },
  {
   "cell_type": "code",
<<<<<<< HEAD
=======
   "execution_count": null,
   "metadata": {},
   "outputs": [],
   "source": [
    "id_ = '12021333'\n",
    "grid = grids.filter(ee.Filter.eq(\"qk\", id_))\n",
    "grid.size()"
   ]
  },
  {
   "cell_type": "code",
>>>>>>> 74c5513f151a463e1bca389700135d3ff404a4db
   "execution_count": null,
   "metadata": {},
   "outputs": [],
   "source": [
    "id_ = '12021333'\n",
    "grid = grids.filter(ee.Filter.eq(\"qk\", id_))\n",
    "grid.size()"
>>>>>>> 74c5513 (save before holidays)
   ]
  },
  {
   "cell_type": "code",
   "execution_count": null,
   "metadata": {},
   "outputs": [],
<<<<<<< HEAD
=======
   "source": []
  },
  {
   "cell_type": "code",
   "execution_count": null,
   "metadata": {},
   "outputs": [],
   "source": [
    "fc_test = get_dataset_ready(cfg.run_name, \"test\", post_dates=post)"
   ]
  },
  {
   "cell_type": "code",
   "execution_count": null,
   "metadata": {},
   "outputs": [],
<<<<<<< HEAD
>>>>>>> 74c5513 (save before holidays)
=======
>>>>>>> 74c5513f151a463e1bca389700135d3ff404a4db
   "source": [
    "metrics = infer_and_compute_metrics(fc_test, classifier, aggregate_preds=True)\n",
    "metrics"
   ]
  },
  {
   "cell_type": "code",
   "execution_count": null,
   "metadata": {},
   "outputs": [],
   "source": [
    "metrics = infer_and_compute_metrics(fc_test, classifier, aggregate_preds=True)\n",
    "metrics"
   ]
  },
  {
   "cell_type": "markdown",
   "metadata": {},
   "source": [
    "## Dense Inference (one geometry)"
   ]
  },
  {
   "cell_type": "code",
   "execution_count": null,
   "metadata": {},
   "outputs": [],
   "source": [
    "from omegaconf import OmegaConf\n",
    "\n",
    "cfg = OmegaConf.create(\n",
    "        dict(\n",
    "            aggregation_method=\"mean\",\n",
    "            model_name=\"random_forest\",\n",
    "            model_kwargs=dict(\n",
    "                n_estimators=100,\n",
    "                min_samples_leaf=1,\n",
    "                n_jobs=12,\n",
    "            ),\n",
    "            data=dict(\n",
    "                aois_test=[f\"UKR{i}\" for i in range(1, 19) if i not in [1, 2, 3, 4]],\n",
    "                damages_to_keep=[1, 2],\n",
    "                extract_winds=[\"3x3\"],  # ['1x1', '3x3', '5x5']\n",
    "                time_periods={  # to train\n",
    "                    \"pre\": (\"2020-02-24\", \"2021-02-23\"),  # always only one\n",
    "                    \"post\": \"1year\",\n",
    "                },\n",
    "                time_periods_inference={  # to predict\n",
    "                    \"pre\": (\"2020-02-24\", \"2021-02-23\"),  # always only one\n",
    "                    \"post\": (\"2022-02-24\", \"2023-02-23\"),\n",
    "                },\n",
    "            ),\n",
    "            reducer_names=[\"mean\", \"stdDev\", \"median\", \"min\", \"max\", \"skew\", \"kurtosis\"],\n",
    "            train_on_all=False,  # train on all damages (train + test split)\n",
    "            verbose=0,\n",
    "            export_as_trees=False,\n",
    "            seed=123,\n",
    "            run_name=240301,\n",
    "        )\n",
    "    )"
   ]
  },
  {
   "cell_type": "code",
   "execution_count": null,
   "metadata": {},
   "outputs": [],
   "source": [
    "from src.gee.constants import ASSETS_PATH\n",
    "\n",
    "def get_classifier_id(cfg):\n",
    "    n_trees = cfg.model_kwargs.n_estimators\n",
    "    all_data = \"_all_data\" if cfg.train_on_all else \"\"\n",
    "    export = \"_export_tree\" if cfg.export_as_trees else \"\"\n",
    "    asset_id = f\"{ASSETS_PATH}s1tsdd_Ukraine/{cfg.run_name}/classifier_{cfg.data.time_periods.post}_{n_trees}trees{all_data}{export}\"\n",
    "    return asset_id\n",
    "\n",
    "asset_id = get_classifier_id(cfg)\n",
    "print(asset_id)\n",
    "\n",
    "from src.gee.classification.model import load_classifier\n",
    "\n",
    "classifier = load_classifier(asset_id)"
   ]
  },
  {
   "cell_type": "code",
   "execution_count": null,
   "metadata": {},
   "outputs": [],
   "source": [
    "from src.utils.gdrive import create_drive_folder\n",
    "folder_name = 'test_predictions_diff_size'\n",
    "try:\n",
    "    create_drive_folder(folder_name)\n",
    "except:\n",
    "    pass"
   ]
  },
  {
   "cell_type": "code",
   "execution_count": null,
   "metadata": {},
   "outputs": [],
   "source": [
    "from src.data.unosat import get_unosat_geometry\n",
    "centroid = get_unosat_geometry('UKR2').centroid\n",
    "from src.data.quadkeys import load_ukraine_quadkeys_grid\n",
    "d_qk = {}\n",
    "for zoom in [7]:\n",
    "    grid = load_ukraine_quadkeys_grid(zoom=zoom, clip_to_ukraine=False)\n",
    "    grid_ = grid[grid.intersects(centroid)].iloc[0]\n",
    "    d_qk[zoom] = {'geometry': grid_.geometry, 'qk': grid_.qk}\n",
    "d_qk"
   ]
  },
  {
   "cell_type": "code",
   "execution_count": null,
   "metadata": {},
   "outputs": [],
   "source": [
    "from src.gee.classification.inference import predict_geo\n",
    "from src.utils.gee import shapely_to_gee\n",
    "for zoom in [7]:\n",
    "    preds = predict_geo(\n",
    "        shapely_to_gee(d_qk[zoom]['geometry']),\n",
    "        classifier,\n",
    "        cfg.data.time_periods_inference,\n",
    "        cfg.data.extract_winds,\n",
    "        cfg.reducer_names,\n",
    "        orbits=None,\n",
    "        verbose=1,\n",
    "    )\n",
    "    id_ = d_qk[zoom]['qk']\n",
    "    preds = preds.set(\"qk\", id_)\n",
    "    name = f\"qk_{id_}\"\n",
    "    description = f\"Ukraine_quadkey_{id_}_test\"\n",
    "    task = ee.batch.Export.image.toDrive(\n",
    "        image=preds.multiply(2**8 - 1).toUint8(),  # multiply by 255 and convert to uint8\n",
    "        description=description,\n",
    "        folder=folder_name,\n",
    "        fileNamePrefix=name,\n",
    "        region=shapely_to_gee(d_qk[zoom]['geometry']),\n",
    "        scale=10,\n",
    "        maxPixels=1e10\n",
    "    )\n",
    "    task.start()"
   ]
  },
  {
   "cell_type": "code",
   "execution_count": null,
   "metadata": {},
   "outputs": [],
   "source": [
    "from src.gee.data.collections import get_s1_collection\n",
    "from src.gee.classification.inference import col_to_features\n",
    "from src.gee.data.unosat import get_unosat_geo\n",
    "from src.utils.gee import shapely_to_gee\n",
    "\n",
    "from src.data.predictions_grid import load_ukraine_quadkeys_grid\n",
    "\n",
    "# gdf_grid = load_ukraine_quadkeys_grid()\n",
    "# geo = gdf_grid[gdf_grid.qk == \"12033012323\"].iloc[0].geometry\n",
    "# geo = shapely_to_gee(geo)\n",
    "\n",
    "aoi = 'UKR1'\n",
    "geo = get_unosat_geo(aoi)\n",
    "s1 = get_s1_collection(geo)\n",
    "reducer_names = cfg.reducer_names\n",
    "time_periods = cfg.data.time_periods_inference\n",
    "extract_winds = ['3x3']\n",
    "\n",
    "from src.gee.classification.inference import predict_geo\n",
    "preds = predict_geo(geo, classifier, time_periods, extract_winds, reducer_names, verbose=1)"
   ]
  },
  {
   "cell_type": "code",
   "execution_count": null,
   "metadata": {},
   "outputs": [],
   "source": [
    "ee.batch.Export.image.toDrive(\n",
    "    image=preds.multiply(2**8 - 1).toUint8(),\n",
    "    description=f'preds_qk_mariupol_1year_100trees_{\"_\".join(cfg.data.time_periods_inference.post)}',\n",
    "    folder=\"test_export\",\n",
    "    fileNamePrefix=f\"preds_qk_mariupol\",\n",
    "    region=geo,\n",
    "    scale=10,\n",
    ").start()"
   ]
  },
  {
   "cell_type": "code",
   "execution_count": null,
   "metadata": {},
   "outputs": [],
   "source": [
    "from src.gee.utils import draw_polygon_edges\n",
    "\n",
    "threshold = 0.65\n",
    "urban = ee.ImageCollection(\"GOOGLE/DYNAMICWORLD/V1\").filterDate(\"2020-02-24\", \"2022-02-24\").mean().select(\"built\")\n",
    "\n",
    "\n",
    "map = geemap.Map()\n",
    "map.centerObject(geo, 12)\n",
    "draw_polygon_edges(geo, map)\n",
    "map.addLayer(\n",
    "    preds.updateMask(preds.gt(threshold)).updateMask(urban.gt(0.1)),\n",
    "    {\"min\": threshold, \"max\": 1, \"palette\": [\"yellow\", \"red\"]},\n",
    "    \"Predictions (only urban)\",\n",
    ")\n",
    "map"
   ]
  }
 ],
 "metadata": {
  "kernelspec": {
   "display_name": "Python 3",
   "language": "python",
   "name": "python3"
  },
  "language_info": {
   "codemirror_mode": {
    "name": "ipython",
    "version": 3
   },
   "file_extension": ".py",
   "mimetype": "text/x-python",
   "name": "python",
   "nbconvert_exporter": "python",
   "pygments_lexer": "ipython3",
   "version": "3.8.18"
  }
 },
 "nbformat": 4,
 "nbformat_minor": 2
}
