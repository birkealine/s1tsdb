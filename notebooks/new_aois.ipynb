{
 "cells": [
  {
   "cell_type": "markdown",
   "metadata": {},
   "source": [
    "# New Areas of Interest"
   ]
  },
  {
   "cell_type": "markdown",
   "metadata": {},
   "source": [
    "From te VIINA data\n",
    "- Zaporizhzhya City (highest number of property in 2022 after Kyiv and Kharkiv)\n",
    "- Dnipro (highest number of airstrikes in 2022)"
   ]
  },
  {
   "cell_type": "code",
   "execution_count": null,
   "metadata": {},
   "outputs": [],
   "source": [
    "from shapely.geometry import box\n",
    "import geopandas as gpd\n",
    "from src.constants import CRS_GLOBAL\n",
    "from src.data.sentinel1.download_geemap import download_s1\n",
    "\n",
    "zapo_geo = box(34.96, 47.74, 35.3, 47.94)\n",
    "dnipro_geo = box(34.8, 48.6043, 35.30186, 48.3243)\n",
    "data = {\"city\": [\"Zaporizhzhya\", \"Dnipro\"], \"geometry\": [zapo_geo, dnipro_geo]}\n",
    "gdf = gpd.GeoDataFrame(data, crs=CRS_GLOBAL)\n",
    "gdf.explore()"
   ]
  },
  {
   "cell_type": "code",
   "execution_count": null,
   "metadata": {},
   "outputs": [],
   "source": [
    "from src.dense_inference import extract_features, dense_inference\n",
    "import joblib\n",
    "from src.constants import LOGS_PATH\n",
    "from pathlib import Path\n",
    "\n",
    "aoi = 'Zaporizhzhya'\n",
    "run_name = \"sliding_window_train_random15\"\n",
    "model = joblib.load(LOGS_PATH / run_name / \"model\" / f\"{run_name}.joblib\")\n",
    "folder = Path(f'./{run_name}_{aoi}')\n",
    "folder.mkdir(exist_ok=True)\n",
    "dense_inference(\n",
    "    aoi,\n",
    "    model,\n",
    "    folder,\n",
    "    features_extractor=extract_features,\n",
    "    start_dates='2021-10-01'\n",
    ")"
   ]
  },
  {
   "cell_type": "code",
   "execution_count": null,
   "metadata": {},
   "outputs": [],
   "source": [
    "from src.data.sentinel1.time_series import get_s1_ts\n",
    "from src.data import load_unosat_labels\n",
    "aoi = 'UKR1'\n",
    "orbit = 43\n",
    "s1_ts = get_s1_ts(aoi, orbit)"
   ]
  },
  {
   "cell_type": "code",
   "execution_count": null,
   "metadata": {},
   "outputs": [],
   "source": [
    "labels = load_unosat_labels(aoi).to_crs(s1_ts.rio.crs)\n",
    "geo = labels.iloc[0].geometry\n",
    "print(s1_ts.shape, geo.wkt)"
   ]
  },
  {
   "cell_type": "code",
   "execution_count": null,
   "metadata": {},
   "outputs": [],
   "source": [
    "window_size = [3 * r for r in s1_ts.rio.resolution()]  # 3x3 pixels -> 30m\n",
    "half_ws = [r // 2 for r in window_size]\n",
    "ts = s1_ts.sel(\n",
    "    x=slice(geo.x - half_ws[0], geo.x + half_ws[0]),\n",
    "    y=slice(geo.y - half_ws[1], geo.y + half_ws[1]),\n",
    ")\n",
    "ts.shape"
   ]
  },
  {
   "cell_type": "code",
   "execution_count": null,
   "metadata": {},
   "outputs": [],
   "source": [
    "ts"
   ]
  },
  {
   "cell_type": "code",
   "execution_count": null,
   "metadata": {},
   "outputs": [],
   "source": [
    "from src.data.utils import load_ps_mask\n",
    "ps_mask = load_ps_mask(aoi, orbit)\n",
    "window_size = [3 * r for r in ps_mask.rio.resolution()]  # 3x3 pixels -> 30m\n",
    "half_ws = [r // 2 for r in window_size]\n",
    "_ps = ps_mask.sel(\n",
    "    x=slice(geo.x - half_ws[0], geo.x + half_ws[0]),\n",
    "    y=slice(geo.y - half_ws[1], geo.y + half_ws[1]),\n",
    ")\n",
    "_ps"
   ]
  },
  {
   "cell_type": "code",
   "execution_count": null,
   "metadata": {},
   "outputs": [],
   "source": [
    "ts.attrs = {\n",
    "    \"aoi\": aoi,\n",
    "    \"orbit\": orbit\n",
    "}"
   ]
  },
  {
   "cell_type": "code",
   "execution_count": null,
   "metadata": {},
   "outputs": [],
   "source": [
    "ts.attrs['ps'] = _ps.values"
   ]
  },
  {
   "cell_type": "code",
   "execution_count": null,
   "metadata": {},
   "outputs": [],
   "source": [
    "ts"
   ]
  },
  {
   "cell_type": "code",
   "execution_count": null,
   "metadata": {},
   "outputs": [],
   "source": [
    "import h5py\n",
    "import numpy as np\n",
    "from tqdm import tqdm\n",
    "import xarray as xr\n",
    "\n",
    "from src.constants import AOIS_TEST, READY_PATH, TS_PATH\n",
    "from src.data.utils import aoi_orbit_iterator, get_folder_ts\n",
    "from src.utils.time import print_sec\n",
    "\n",
    "extraction_strategy = 'pixel-wise-3x3'\n",
    "\n",
    "# All time-series\n",
    "fps = []\n",
    "for aoi, orbit in aoi_orbit_iterator():\n",
    "    folder = get_folder_ts(extraction_strategy) / aoi / f\"orbit_{orbit}\"\n",
    "    fps += list(folder.glob(\"*.nc\"))\n",
    "print(f\"Found {len(fps)} time-series\")\n",
    "\n",
    "# Create h5 file\n",
    "dataset_fp = READY_PATH / f\"dataset_{extraction_strategy}.h5\""
   ]
  },
  {
   "cell_type": "code",
   "execution_count": null,
   "metadata": {},
   "outputs": [],
   "source": [
    "fp = fps[0]\n",
    "ts = xr.open_dataarray(fp)\n",
    "ts.stack(band_stacked=(\"x\", \"y\", \"band\"))"
   ]
  },
  {
   "cell_type": "code",
   "execution_count": null,
   "metadata": {},
   "outputs": [],
   "source": [
    "ts.stack(band)"
   ]
  }
 ],
 "metadata": {
  "kernelspec": {
   "display_name": "Python 3",
   "language": "python",
   "name": "python3"
  },
  "language_info": {
   "codemirror_mode": {
    "name": "ipython",
    "version": 3
   },
   "file_extension": ".py",
   "mimetype": "text/x-python",
   "name": "python",
   "nbconvert_exporter": "python",
   "pygments_lexer": "ipython3",
   "version": "3.8.18"
  }
 },
 "nbformat": 4,
 "nbformat_minor": 2
}
