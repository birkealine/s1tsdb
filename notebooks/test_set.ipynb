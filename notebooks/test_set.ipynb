{
 "cells": [
  {
   "cell_type": "code",
   "execution_count": null,
   "metadata": {},
   "outputs": [],
   "source": [
    "%load_ext autoreload\n",
    "%autoreload 2"
   ]
  },
  {
   "cell_type": "markdown",
   "metadata": {},
   "source": [
    "# Find Test Set"
   ]
  },
  {
   "cell_type": "code",
   "execution_count": null,
   "metadata": {},
   "outputs": [],
   "source": [
    "from src.data import load_unosat_labels, load_unosat_aois\n",
    "from src.data.utils import aoi_to_city\n",
    "\n",
    "labels_to_keep = [1,2]\n",
    "aois = load_unosat_aois()\n",
    "aois['city'] = aois['aoi'].apply(aoi_to_city)\n",
    "labels = load_unosat_labels(labels_to_keep=labels_to_keep)\n",
    "grouped = labels.groupby(['aoi', 'damage']).size().reset_index(name='counts')\n",
    "df_count = grouped.pivot(index='aoi', columns='damage', values='counts').fillna(0).astype(int)\n",
    "df_count['total'] = df_count.sum(axis=1)\n",
    "for l in labels_to_keep:\n",
    "    df_count[f'{l} (%)'] = df_count[l] / df_count[l].sum() * 100\n",
    "df_count['total (%)'] = df_count['total'] / df_count['total'].sum() * 100\n",
    "print('Number of labels per AOI and damage level:')\n",
    "df_count.round(2)"
   ]
  },
  {
   "cell_type": "markdown",
   "metadata": {},
   "source": [
    "## Old one\n",
    "\n",
    "F1 = 0.859 (labels=[1,2])\n",
    "\n",
    "F1 = 0.810 (labels=[1,2,3])"
   ]
  },
  {
   "cell_type": "code",
   "execution_count": null,
   "metadata": {},
   "outputs": [],
   "source": [
    "aois_test_old = ['UKR6', 'UKR8', 'UKR12', 'UKR15']\n",
    "n_test = df_count.loc[aois_test_old].sum()\n",
    "n_train = df_count.drop(aois_test_old).sum()\n",
    "n_tot = df_count.sum()\n",
    "\n",
    "for d in labels_to_keep:\n",
    "    print(f\"Damage {d}:\")\n",
    "    print(f\"  - Train: {n_train[d]} ({n_train[f'{d} (%)']:.2f}%)\")\n",
    "    print(f\"  - Test: {n_test[d]} ({n_test[f'{d} (%)']:.2f}%)\")\n",
    "print('Total')\n",
    "print(f\"  - Train: {n_train['total']} ({n_train['total (%)']:.2f}%)\")\n",
    "print(f\"  - Test: {n_test['total']} ({n_test['total (%)']:.2f}%)\")"
   ]
  },
  {
   "cell_type": "code",
   "execution_count": null,
   "metadata": {},
   "outputs": [],
   "source": [
    "def my_colormap(value):  # scalar value defined in 'column'\n",
    "    if value >= 1:\n",
    "        return \"orange\"\n",
    "    return \"blue\"\n",
    "\n",
    "aois_ = aois.copy()\n",
    "aois_.geometry = aois_.geometry.centroid\n",
    "aois_['is_test'] = aois_['aoi'].isin(aois_test_old).astype(int)\n",
    "aois_['color'] = aois_['is_test'].apply(my_colormap)\n",
    "\n",
    "# Explore dataframe based on column 'is_test'. Color is_test==1 in green and is_test==0 in red\n",
    "aois_.explore(color=aois_['color'], style_kwds={'weight':10})"
   ]
  },
  {
   "cell_type": "markdown",
   "metadata": {},
   "source": [
    "## New one"
   ]
  },
  {
   "cell_type": "code",
   "execution_count": null,
   "metadata": {},
   "outputs": [],
   "source": [
    "aois_test = [f\"UKR{i}\" for i in range(1,19) if i not in [1,2,3,4]]#[\"UKR6\", \"UKR7\", \"UKR8\", \"UKR10\", \"UKR12\", \"UKR14\"]\n",
    "n_test = df_count.loc[aois_test].sum()\n",
    "n_train = df_count.drop(aois_test).sum()\n",
    "n_tot = df_count.sum()\n",
    "\n",
    "for d in labels_to_keep:\n",
    "    print(f\"Damage {d}:\")\n",
    "    print(f\"  - Train: {n_train[d]} ({n_train[f'{d} (%)']:.2f}%)\")\n",
    "    print(f\"  - Test: {n_test[d]} ({n_test[f'{d} (%)']:.2f}%)\")\n",
    "print('Total')\n",
    "print(f\"  - Train: {n_train['total']} ({n_train['total (%)']:.2f}%)\")\n",
    "print(f\"  - Test: {n_test['total']} ({n_test['total (%)']:.2f}%)\")"
   ]
  },
  {
   "cell_type": "code",
   "execution_count": null,
   "metadata": {},
   "outputs": [],
   "source": [
    "aois_ = aois.copy()\n",
    "aois_.geometry = aois_.geometry.centroid\n",
    "aois_['is_test'] = aois_['aoi'].isin(aois_test).astype(int)\n",
    "aois_['color'] = aois_['is_test'].apply(my_colormap)\n",
    "\n",
    "# Explore dataframe based on column 'is_test'. Color is_test==1 in green and is_test==0 in red\n",
    "aois_.explore(color=aois_['color'], style_kwds={'weight':10})"
   ]
  },
  {
   "cell_type": "code",
   "execution_count": null,
   "metadata": {},
   "outputs": [],
   "source": []
  },
  {
   "cell_type": "code",
   "execution_count": null,
   "metadata": {},
   "outputs": [],
   "source": [
    "from src.postprocessing.preds_buildings import load_buildings_with_preds\n",
    "run_name = \"240212\"\n",
    "aoi = \"UKR2\"\n",
    "gdf = load_buildings_with_preds(aoi, run_name)"
   ]
  },
  {
   "cell_type": "code",
   "execution_count": null,
   "metadata": {},
   "outputs": [],
   "source": []
  }
 ],
 "metadata": {
  "kernelspec": {
   "display_name": "Python 3",
   "language": "python",
   "name": "python3"
  },
  "language_info": {
   "codemirror_mode": {
    "name": "ipython",
    "version": 3
   },
   "file_extension": ".py",
   "mimetype": "text/x-python",
   "name": "python",
   "nbconvert_exporter": "python",
   "pygments_lexer": "ipython3",
   "version": "3.8.18"
  }
 },
 "nbformat": 4,
 "nbformat_minor": 2
}
