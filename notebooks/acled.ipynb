{
 "cells": [
  {
   "cell_type": "code",
   "execution_count": null,
   "metadata": {},
   "outputs": [],
   "source": [
    "import pandas as pd\n",
    "from src.constants import EXTERNAL_PATH"
   ]
  },
  {
   "cell_type": "code",
   "execution_count": null,
   "metadata": {},
   "outputs": [],
   "source": [
    "event_types = [\n",
    "    \"Strategic developments\",\n",
    "    \"Battles\",\n",
    "    \"Explosions/Remote violence\",\n",
    "    \"Violence against civilians\",\n",
    "    \"Protests\",\n",
    "    \"Riots\",\n",
    "]\n",
    "sub_event_types = [\n",
    "    \"Remote explosive/landmine/IED\",\n",
    "    \"Armed clash\",\n",
    "    \"Shelling/artillery/missile attack\",\n",
    "    \"Air/drone strike\",\n",
    "    \"Attack\" \"Non-state actor overtakes territory\",\n",
    "    \"Grenade\",\n",
    "    \"Abduction/forced disappearance\",\n",
    "    \"Government regains territory\",\n",
    "    \"Sexual violence\",\n",
    "    \"Suicide bomb\",\n",
    "]\n",
    "\n",
    "def get_acled_data():\n",
    "    acled = pd.read_excel(EXTERNAL_PATH / \"ACLED__Ukraine_Black_Sea_2020_2023_Feb09.xlsx\")\n",
    "    acled = acled[acled[\"COUNTRY\"] == \"Ukraine\"]  # only Ukraine\n",
    "    acled[\"EVENT_DATE\"] = pd.to_datetime(acled[\"EVENT_DATE\"])\n",
    "    date_of_war = \"2022-02-24\"\n",
    "    acled = acled[acled[\"EVENT_DATE\"] >= pd.to_datetime(date_of_war)]\n",
    "\n",
    "    specific_event_types = [event_types[1], event_types[2], event_types[3]] # only battle, remote violence, violence against civilians\n",
    "    acled = acled[acled[\"EVENT_TYPE\"].isin(specific_event_types)]\n",
    "    specific_event_types = [sub_event_types[2], sub_event_types[3]]  # only \"Shelling/artillery/missile attack\", \"Air/drone strike\",\n",
    "    acled = acled[acled[\"SUB_EVENT_TYPE\"].isin(specific_event_types)]\n",
    "    return acled"
   ]
  },
  {
   "cell_type": "code",
   "execution_count": null,
   "metadata": {},
   "outputs": [],
   "source": [
    "df = get_acled_data()\n",
    "print(df.shape)\n",
    "df.head()"
   ]
  },
  {
   "cell_type": "code",
   "execution_count": null,
   "metadata": {},
   "outputs": [],
   "source": [
    "d_admin1_to_acled = {\n",
    "    \"Autonomous Republic of Crimea\": \"Crimea\",\n",
    "    'Cherkaska':'Cherkasy',\n",
    "    'Chernihivska':'Chernihiv',\n",
    "    'Chernivetska': 'Chernivtsi',\n",
    "    'Dnipropetrovska': 'Dnipropetrovsk',\n",
    "    'Donetska':'Donetsk',\n",
    "    'Ivano-Frankivska':'Ivano-Frankivsk',\n",
    "    'Kharkivska':'Kharkiv',\n",
    "    'Khersonska':'Kherson',\n",
    "    'Khmelnytska':'Khmelnytskyi',\n",
    "    'Kirovohradska':'Kirovograd',\n",
    "    'Kyiv':'Kyiv City',\n",
    "    'Kyivska':'Kyiv',\n",
    "    'Luhanska':'Luhansk',\n",
    "    'Lvivska':'Lviv',\n",
    "    'Mykolaivska':'Mykolaiv',\n",
    "    'Odeska':'Odesa',\n",
    "    'Poltavska':'Poltava',\n",
    "    'Rivnenska':'Rivne',\n",
    "    'Sevastopol':'Sevastopol City',\n",
    "    'Sumska':'Sumy',\n",
    "    'Ternopilska':'Ternopil',\n",
    "    'Vinnytska':'Vinnytsia',\n",
    "    'Volynska':'Volyn',\n",
    "    'Zakarpatska':'Zakarpattia',\n",
    "    'Zaporizka':'Zaporizhia',\n",
    "    'Zhytomyrska':'Zhytomyr'\n",
    "}\n",
    "d_acled_to_admin1 = {v: k for k, v in d_admin1_to_acled.items()}"
   ]
  },
  {
   "cell_type": "code",
   "execution_count": null,
   "metadata": {},
   "outputs": [],
   "source": [
    "df = df.dropna(subset=['ADMIN1'])\n",
    "df['ADM1_EN'] = df['ADMIN1'].apply(lambda x: d_acled_to_admin1[x])"
   ]
  },
  {
   "cell_type": "code",
   "execution_count": null,
   "metadata": {},
   "outputs": [],
   "source": [
    "from src.utils.geometry import load_ukraine_admin_polygons\n",
    "\n",
    "adm1 = load_ukraine_admin_polygons(adm_level=1)"
   ]
  },
  {
   "cell_type": "code",
   "execution_count": null,
   "metadata": {},
   "outputs": [],
   "source": [
    "# merge dataset on ADM1_EN\n",
    "df_acled_count = df.merge(adm1, on='ADM1_EN', how='left').groupby(\"ADM1_EN\").size().to_frame(\"acled_count\").reset_index()\n",
    "adm1_ = adm1.merge(df_acled_count, on=\"ADM1_EN\", how=\"left\")\n",
    "adm1_"
   ]
  },
  {
   "cell_type": "code",
   "execution_count": null,
   "metadata": {},
   "outputs": [],
   "source": [
    "adm1_.explore('acled_count',cmap='YlOrRd',  vmin=0, vmax=15000, tiles='Esri.WorldGrayCanvas')"
   ]
  },
  {
   "cell_type": "code",
   "execution_count": null,
   "metadata": {},
   "outputs": [],
   "source": [
    "from src.constants import PREDS_PATH\n",
    "import geopandas as gpd\n",
    "\n",
    "run_name = '240301'\n",
    "\n",
    "def load_all_oblasts_aggregated(run_name, folder_preds_agg=\"oblasts_with_preds_agg\"):\n",
    "\n",
    "    folder = PREDS_PATH / run_name / folder_preds_agg\n",
    "    adm1 = load_ukraine_admin_polygons(adm_level=1)\n",
    "    gdf = pd.concat(\n",
    "        [\n",
    "            gpd.read_file(folder / f\"preds_agg_{o}.geojson\")\n",
    "            for o in adm1.ADM1_EN.unique()\n",
    "            if (folder / f\"preds_agg_{o}.geojson\").exists()\n",
    "        ]\n",
    "    )\n",
    "    gdf.set_index([\"admin_id\", \"post_date\"], inplace=True)\n",
    "    return gdf\n",
    "\n",
    "\n",
    "gdf = load_all_oblasts_aggregated(run_name, folder_preds_agg=\"oblasts_with_preds_agg\")"
   ]
  },
  {
   "cell_type": "code",
   "execution_count": null,
   "metadata": {},
   "outputs": [],
   "source": [
    "idx = pd.IndexSlice\n",
    "gdf_preds = gdf.loc[idx[:,'2023-02-24'],:][[c for c in gdf.columns if not c.startswith('count')] + ['count_mean_0.65']]\n",
    "gdf_preds"
   ]
  },
  {
   "cell_type": "code",
   "execution_count": null,
   "metadata": {},
   "outputs": [],
   "source": [
    "df_preds_count = gdf_preds.groupby('ADM1_EN')['count_mean_0.65'].sum().to_frame('preds_count').reset_index()\n",
    "adm1_all = adm1_.merge(df_preds_count, on=\"ADM1_EN\", how=\"left\")\n",
    "adm1_all"
   ]
  },
  {
   "cell_type": "code",
   "execution_count": null,
   "metadata": {},
   "outputs": [],
   "source": [
    "# plot columns acled_count vs preds_count to visualize correlation, logx and logy\n",
    "\n",
    "import matplotlib.pyplot as plt\n",
    "import seaborn as sns\n",
    "\n",
    "fig, ax = plt.subplots()\n",
    "sns.scatterplot(data=adm1_all, x='acled_count', y='preds_count', ax=ax)\n",
    "ax.set_xscale('log')\n",
    "ax.set_yscale('log')\n",
    "ax.set_xlabel('ACLED count')\n",
    "ax.set_ylabel('Predicted count')\n",
    "ax.set_title('ACLED count vs Predicted count for each oblast')\n",
    "\n",
    "# draw best line fit\n",
    "import numpy as np\n",
    "from scipy.stats import linregress\n",
    "\n",
    "x = adm1_all['acled_count']\n",
    "y = adm1_all['preds_count']\n",
    "mask = ~np.isnan(x) & ~np.isnan(y)\n",
    "x = x[mask]\n",
    "y = y[mask]\n",
    "slope, intercept, r_value, p_value, std_err = linregress(np.log(x), np.log(y))\n",
    "print(r_value)\n",
    "x = np.linspace(1, x.max(), 100)\n",
    "y = np.exp(intercept) * x ** slope\n",
    "ax.plot(x, y, color='red', label=f'Best fit line, slope={slope:.2f}, r_value={r_value:.2f}')\n",
    "ax.legend()\n",
    "\n",
    "plt.show()"
   ]
  },
  {
   "cell_type": "code",
   "execution_count": null,
   "metadata": {},
   "outputs": [],
   "source": []
  }
 ],
 "metadata": {
  "kernelspec": {
   "display_name": "Python 3",
   "language": "python",
   "name": "python3"
  },
  "language_info": {
   "codemirror_mode": {
    "name": "ipython",
    "version": 3
   },
   "file_extension": ".py",
   "mimetype": "text/x-python",
   "name": "python",
   "nbconvert_exporter": "python",
   "pygments_lexer": "ipython3",
   "version": "3.8.18"
  }
 },
 "nbformat": 4,
 "nbformat_minor": 2
}
