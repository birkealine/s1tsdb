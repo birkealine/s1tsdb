{
  "cells": [
    {
      "cell_type": "code",
      "execution_count": 1,
      "metadata": {},
      "outputs": [],
      "source": [
        "%load_ext autoreload\n",
        "%autoreload 2"
      ]
    },
    {
      "cell_type": "markdown",
      "metadata": {},
      "source": [
        "# Full country-wide scale"
      ]
    },
    {
      "cell_type": "code",
      "execution_count": 2,
      "metadata": {},
      "outputs": [
        {
          "data": {
            "text/plain": [
              "((27, 3), (139, 4), (1769, 5), (29708, 6))"
            ]
          },
          "execution_count": 2,
          "metadata": {},
          "output_type": "execute_result"
        }
      ],
      "source": [
        "from src.utils.geometry import load_ukraine_admin_polygons\n",
        "\n",
        "adm1 = load_ukraine_admin_polygons(adm_level=1).rename({'admin_id': 'adm1_id'},axis=1)\n",
        "adm2 = load_ukraine_admin_polygons(adm_level=2).rename({'admin_id': 'adm2_id'},axis=1)\n",
        "adm3 = load_ukraine_admin_polygons(adm_level=3).rename({'admin_id': 'adm3_id'},axis=1)\n",
        "adm4 = load_ukraine_admin_polygons(adm_level=4).rename({'admin_id': 'adm4_id'},axis=1)\n",
        "d_adm = {i+1: adm for i, adm in enumerate([adm1, adm2, adm3, adm4])}\n",
        "adm1.shape, adm2.shape, adm3.shape, adm4.shape"
      ]
    },
    {
      "cell_type": "code",
      "execution_count": 3,
      "metadata": {},
      "outputs": [],
      "source": [
        "import duckdb\n",
        "from src.constants import PREDS_PATH\n",
        "import geopandas as gpd\n",
        "\n",
        "run_name = '240307'\n",
        "db_name = PREDS_PATH / run_name / 'buildings_preds.db'\n",
        "\n",
        "db = duckdb.connect(f'{db_name}')"
      ]
    },
    {
      "cell_type": "code",
      "execution_count": 4,
      "metadata": {},
      "outputs": [],
      "source": [
        "def get_condition_damaged(threshold=0.65):\n",
        "    post_dates_neg = ['2021-02-24', '2021-05-24', '2021-08-24', '2021-11-24']\n",
        "    post_dates = ['2022-02-24', '2022-05-24', '2022-08-24', '2022-11-24', '2023-02-24', '2023-05-24', '2023-08-24', '2023-11-24']\n",
        "    condition = ' OR '.join([f'\"{post_date}\" >= 255*{threshold}' for post_date in post_dates])\n",
        "    conditon_neg = ' AND '.join([f'\"{post_date}\" < 255*{threshold}' for post_date in post_dates_neg])\n",
        "    condition_damaged = f'({condition}) AND ({conditon_neg})'\n",
        "    return condition_damaged"
      ]
    },
    {
      "cell_type": "code",
      "execution_count": 5,
      "metadata": {},
      "outputs": [],
      "source": [
        "def get_df_adm_with_n_buildings(adm_level, threshold=0.65, save=False):\n",
        "\n",
        "    adm_id = f'adm{adm_level}_id'\n",
        "    adm_en = f'ADM{adm_level}_EN'\n",
        "    df_adm = d_adm[adm_level].set_index([adm_id, adm_en])\n",
        "\n",
        "\n",
        "\n",
        "    df_damaged = db.execute(\n",
        "        f\"\"\"\n",
        "            SELECT {adm_id}, {adm_en}, COUNT(*) as n_buildings_damaged, SUM(area) as area_damaged\n",
        "            FROM buildings_preds\n",
        "            WHERE {get_condition_damaged(threshold)} AND area > 50\n",
        "            GROUP BY {adm_id}, {adm_en}\n",
        "        \"\"\"\n",
        "    ).fetchdf().set_index([adm_id, adm_en])\n",
        "    df_intact = db.execute(\n",
        "        f\"\"\"\n",
        "            SELECT {adm_id}, {adm_en}, COUNT(*) as n_buildings, SUM(area) as area\n",
        "            FROM buildings_preds\n",
        "            WHERE area > 50\n",
        "            GROUP BY {adm_id}, {adm_en}\n",
        "        \"\"\"\n",
        "    ).fetchdf().set_index([adm_id, adm_en])\n",
        "\n",
        "    df_with_geo = df_adm[['geometry']].join(df_intact, how='left').join(df_damaged, how='left').fillna(0)\n",
        "    gdf = gpd.GeoDataFrame(df_with_geo, crs=df_adm.crs)\n",
        "\n",
        "    if save:\n",
        "        fp = PREDS_PATH / run_name / f\"n_buildings_damaged_adm{adm_level}_t{f'{threshold}'.replace('.', '_')}.geojson\"\n",
        "        gdf.to_file(fp, driver='GeoJSON')\n",
        "        print(f'Saved to {fp}')\n",
        "    return gdf"
      ]
    },
    {
      "cell_type": "code",
      "execution_count": 6,
      "metadata": {},
      "outputs": [],
      "source": [
        "d = {}\n",
        "for i in range(1,5):\n",
        "    d[i] = get_df_adm_with_n_buildings(i, save=False)"
      ]
    },
    {
      "cell_type": "markdown",
      "metadata": {},
      "source": [
        "# UNOSAT evaluation"
      ]
    },
    {
      "cell_type": "code",
      "execution_count": 12,
      "metadata": {},
      "outputs": [
        {
          "data": {
            "text/plain": [
              "0.7560808830712122"
            ]
          },
          "execution_count": 12,
          "metadata": {},
          "output_type": "execute_result"
        }
      ],
      "source": [
        "tp = db.execute(\n",
        "    f\"\"\"\n",
        "        SELECT COUNT(*) as n_buildings_damaged\n",
        "        FROM buildings_preds\n",
        "        WHERE (unosat_damage = 1 OR unosat_damage = 2) AND {get_condition_damaged(0.5)}\n",
        "    \"\"\"\n",
        ").fetchone()[0]\n",
        "\n",
        "fn = db.execute(\n",
        "    f\"\"\"\n",
        "        SELECT COUNT(*) as n_buildings_damaged\n",
        "        FROM buildings_preds\n",
        "        WHERE (unosat_damage = 1 OR unosat_damage = 2) AND NOT ({get_condition_damaged(0.5)})\n",
        "    \"\"\"\n",
        ").fetchone()[0]\n",
        "tp/(tp+fn)"
      ]
    },
    {
      "cell_type": "code",
      "execution_count": null,
      "metadata": {
        "kernelspec": {
          "display_name": "Python 3",
          "language": "python",
          "name": "python3"
        },
        "language_info": {
          "codemirror_mode": {
            "name": "ipython",
            "version": 3
          },
          "file_extension": ".py",
          "mimetype": "text/x-python",
          "name": "python",
          "nbconvert_exporter": "python",
          "pygments_lexer": "ipython3",
          "version": "3.8.18"
        }
      },
      "outputs": [],
      "source": []
    }
  ],
  "metadata": {
    "kernelspec": {
      "display_name": "Python 3",
      "language": "python",
      "name": "python3"
    },
    "language_info": {
      "codemirror_mode": {
        "name": "ipython",
        "version": 3
      },
      "file_extension": ".py",
      "mimetype": "text/x-python",
      "name": "python",
      "nbconvert_exporter": "python",
      "pygments_lexer": "ipython3",
      "version": "3.8.18"
    }
  },
  "nbformat": 4,
  "nbformat_minor": 2
}
