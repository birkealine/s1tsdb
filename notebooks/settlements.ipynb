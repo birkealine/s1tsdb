{
 "cells": [
  {
   "cell_type": "code",
   "execution_count": null,
   "metadata": {},
   "outputs": [],
   "source": [
    "%load_ext autoreload\n",
    "%autoreload 2"
   ]
  },
  {
   "cell_type": "code",
   "execution_count": null,
   "metadata": {},
   "outputs": [],
   "source": [
    "import ee\n",
    "import geemap\n",
    "import geopandas as gpd\n",
    "import numpy as np\n",
    "import pandas as pd\n",
    "from rasterstats import zonal_stats\n",
    "import rioxarray as rxr\n",
    "from rioxarray.merge import merge_arrays\n",
    "\n",
    "from src.utils.geometry import load_country_boundaries, reproject_geo\n",
    "from src.constants import RAW_PATH, EXTERNAL_PATH, PROCESSED_PATH\n",
    "\n",
    "\n",
    "from src.utils.gee import init_gee\n",
    "init_gee()"
   ]
  },
  {
   "cell_type": "code",
   "execution_count": null,
   "metadata": {},
   "outputs": [],
   "source": [
    "ops = ee.data.listOperations()\n",
    "ops_ = [o for o in ops if o['metadata']['state'] in ['PENDING', 'READY', 'RUNNING']]"
   ]
  },
  {
   "cell_type": "markdown",
   "metadata": {},
   "source": [
    "# Creation"
   ]
  },
  {
   "cell_type": "markdown",
   "metadata": {},
   "source": [
    "## Global Human Settlement Layer (GSHL)\n",
    "## SMOD (Settlement Model) product\n",
    "Downloaded the data from [here](https://ghsl.jrc.ec.europa.eu/download.php?ds=smod)\n",
    "\n",
    "The settlement grid at level 2 represents these definitions on a layer grid. Each pixel is classified as follow: \n",
    "\n",
    "* Class 30: “Urban Centre grid cell”, if the cell belongs to an Urban Centre spatial entity; \n",
    "* Class 23: “Dense Urban Cluster grid cell”, if the cell belongs to a Dense Urban Cluster spatial entity; \n",
    "* Class  22:  “Semi-dense  Urban  Cluster  grid  cell”,  if  the  cell  belongs  to  a  Semi-dense  Urban  Cluster  \n",
    "spatial entity; \n",
    "* Class  21:  “Suburban  or  per-urban  grid  cell”,  if  the  cell  belongs  to  an  Urban  Cluster  cells  at  first  \n",
    "hierarchical level but is not part of a Dense or Semi-dense Urban Cluster; \n",
    "* Class 13: “Rural cluster grid cell”, if the cell belongs to a Rural Cluster spatial entity; \n",
    "* Class 12: “Low Density Rural grid cell”, if the cell is classified as Rural grid cells at first hierarchical \n",
    "level, has more than 50 inhabitant and is not part of a Rural Cluster; \n",
    "* Class 11: “Very low density rural grid cell”, if the cell is classified as Rural grid cells at first hierarchical \n",
    "level, has less than 50 inhabitant and is not part of a Rural Cluster; \n",
    "* Class  10:  “Water  grid cell”, if the cell has 0.5 share covered by permanent surface water and is not \n",
    "populated nor built."
   ]
  },
  {
   "cell_type": "code",
   "execution_count": null,
   "metadata": {},
   "outputs": [],
   "source": [
    "GSHL_SMOD_PATH = RAW_PATH / 'ghsl_smod'\n",
    "geo_ukr = load_country_boundaries('Ukraine')\n",
    "smod_paths = sorted(GSHL_SMOD_PATH.glob('*.tif'))\n",
    "\n",
    "smods = [rxr.open_rasterio(p) for p in smod_paths]\n",
    "geo_ukr_reproj = reproject_geo(geo_ukr, 'EPSG:4326', smods[0].rio.crs)\n",
    "smods_merged = merge_arrays(smods)\n",
    "smod_ukr = smods_merged.rio.clip([geo_ukr_reproj])"
   ]
  },
  {
   "cell_type": "code",
   "execution_count": null,
   "metadata": {},
   "outputs": [],
   "source": [
    "smod_ukr.rio.to_raster(PROCESSED_PATH / 'gshl_smod_ukraine.tif')"
   ]
  },
  {
   "cell_type": "code",
   "execution_count": null,
   "metadata": {},
   "outputs": [],
   "source": [
    "smod_ukr.where(smod_ukr!=smod_ukr.rio.nodata).plot()"
   ]
  },
  {
   "cell_type": "code",
   "execution_count": null,
   "metadata": {},
   "outputs": [],
   "source": [
    "# Compute percentage of pixels that are above 12 among all pixels that are not nodata\n",
    "min_level = 13\n",
    "n_pix_urban = smod_ukr.where(smod_ukr!=smod_ukr.rio.nodata).where(smod_ukr>=min_level).count().item()\n",
    "n_pix_tot = smod_ukr.where(smod_ukr!=smod_ukr.rio.nodata).count().item()\n",
    "print(f'Percentage of urban or rural cluster: {100*n_pix_urban / n_pix_tot:.2f}%')\n",
    "smod_ukr.where(smod_ukr!=smod_ukr.rio.nodata).where(smod_ukr>=min_level).plot();"
   ]
  },
  {
   "cell_type": "code",
   "execution_count": null,
   "metadata": {},
   "outputs": [],
   "source": [
    "# Binarize the data\n",
    "smod_bin = smod_ukr.where((smod_ukr>=min_level)|(smod_ukr==smod_ukr.rio.nodata), 0).where(smod_ukr<min_level,1)\n",
    "smod_bin.where(smod_bin!=smod_bin.rio.nodata).plot()"
   ]
  },
  {
   "cell_type": "code",
   "execution_count": null,
   "metadata": {},
   "outputs": [],
   "source": [
    "perc_build_up = 100*(smod_bin==1).sum() / ((smod_bin==0).sum() + (smod_bin==1).sum())\n",
    "print(f\"{perc_build_up:.2f}% of Ukraine is town or city\")"
   ]
  },
  {
   "cell_type": "markdown",
   "metadata": {},
   "source": [
    "## Ukraine Administrative Boundaries\n",
    "Downloaded the data from [here](https://data.humdata.org/dataset/cod-ab-ukr?)"
   ]
  },
  {
   "cell_type": "code",
   "execution_count": null,
   "metadata": {},
   "outputs": [],
   "source": [
    "# level 4 is the finest one\n",
    "ukraine_regions_path = sorted((EXTERNAL_PATH / 'UKR_admin_boundaries').glob('*_adm4*.shp'))[0]\n",
    "ukr_regions = gpd.read_file(ukraine_regions_path)[['ADM4_EN','ADM3_EN','ADM2_EN','ADM1_EN', 'geometry']]\n",
    "ukr_regions.shape"
   ]
  },
  {
   "cell_type": "code",
   "execution_count": null,
   "metadata": {},
   "outputs": [],
   "source": [
    "df = pd.DataFrame(zonal_stats(\n",
    "    vectors=ukr_regions.to_crs(smod_bin.rio.crs),\n",
    "    raster=smod_bin.squeeze().values,\n",
    "    affine=smod_bin.rio.transform(),\n",
    "    stats=['mean'],\n",
    "    nodata=smod_bin.rio.nodata))\n",
    "\n",
    "ukr_regions['perc_build_up'] = df['mean']\n",
    "ukr_regions.head()"
   ]
  },
  {
   "cell_type": "code",
   "execution_count": null,
   "metadata": {},
   "outputs": [],
   "source": [
    "ukr_regions.to_file('./all_adm4.geojson', driver='GeoJSON')"
   ]
  },
  {
   "cell_type": "code",
   "execution_count": null,
   "metadata": {},
   "outputs": [],
   "source": [
    "ukr_regions.explore()"
   ]
  },
  {
   "cell_type": "markdown",
   "metadata": {},
   "source": [
    "## Match with population data\n",
    "From WorldPop: [Ukraine 1km population](https://data.humdata.org/dataset/worldpop-population-density-for-ukraine?)"
   ]
  },
  {
   "cell_type": "code",
   "execution_count": null,
   "metadata": {},
   "outputs": [],
   "source": [
    "ukr_pop = rxr.open_rasterio(EXTERNAL_PATH / 'ukr_population_density_2020_1km.tif')"
   ]
  },
  {
   "cell_type": "code",
   "execution_count": null,
   "metadata": {},
   "outputs": [],
   "source": [
    "df = pd.DataFrame(zonal_stats(\n",
    "    vectors=ukr_regions.to_crs(ukr_pop.rio.crs),\n",
    "    raster=ukr_pop.squeeze().values,\n",
    "    affine=ukr_pop.rio.transform(),\n",
    "    stats=['sum'],\n",
    "    nodata=ukr_pop.rio.nodata),\n",
    ")\n",
    "ukr_regions['population'] = df['sum']\n",
    "ukr_regions.head()"
   ]
  },
  {
   "cell_type": "markdown",
   "metadata": {},
   "source": [
    "## Filter settlements"
   ]
  },
  {
   "cell_type": "code",
   "execution_count": null,
   "metadata": {},
   "outputs": [],
   "source": [
    "threshold_urban = 0.1\n",
    "poly_settlements = ukr_regions[ukr_regions['perc_build_up']>=threshold_urban].copy()\n",
    "print(f'There are {poly_settlements.shape[0]} settlements in Ukraine with {100*threshold_urban}% or more urban pixels')"
   ]
  },
  {
   "cell_type": "code",
   "execution_count": null,
   "metadata": {},
   "outputs": [],
   "source": [
    "poly_settlements.explore()"
   ]
  },
  {
   "cell_type": "code",
   "execution_count": null,
   "metadata": {},
   "outputs": [],
   "source": [
    "from shapely.geometry import box\n",
    "poly_settlements['geometry_box'] = poly_settlements.geometry.apply(lambda g: box(*g.bounds))"
   ]
  },
  {
   "cell_type": "code",
   "execution_count": null,
   "metadata": {},
   "outputs": [],
   "source": [
    "import warnings\n",
    "with warnings.catch_warnings():\n",
    "    warnings.simplefilter(\"ignore\")\n",
    "    print(f'{len(poly_settlements)} settlements')\n",
    "    print(f'representing {100*poly_settlements.area.sum() / geo_ukr.area:.2f}% of the country')\n",
    "    print(f'({100*poly_settlements.geometry_box.area.sum() / geo_ukr.area:.2f}% when box)')\n",
    "    print(f'and {int(poly_settlements.population.sum())/10**6:.1f}M people')"
   ]
  },
  {
   "cell_type": "code",
   "execution_count": null,
   "metadata": {},
   "outputs": [],
   "source": [
    "poly_settlements.drop('geometry_box', axis=1).to_file(PROCESSED_PATH / 'ukraine_settlements.geojson', driver='GeoJSON')"
   ]
  },
  {
   "cell_type": "markdown",
   "metadata": {},
   "source": [
    "## To GEE"
   ]
  },
  {
   "cell_type": "code",
   "execution_count": null,
   "metadata": {},
   "outputs": [],
   "source": [
    "from shapely.geometry import box\n",
    "gdf_path = PROCESSED_PATH / 'ukraine_settlements.geojson'\n",
    "gdf = gpd.read_file(gdf_path)\n",
    "gdf['geometry'] = gdf['geometry'].apply(lambda g: box(*g.bounds))\n",
    "gdf.shape"
   ]
  },
  {
   "cell_type": "code",
   "execution_count": null,
   "metadata": {},
   "outputs": [],
   "source": [
    "# filter box that are fully within another one\n",
    "joined_gdf = gdf.sjoin(gdf, how='inner', predicate='within')\n",
    "indices_within_others = joined_gdf[joined_gdf.index!=joined_gdf.index_right].index\n",
    "gdf = gdf[~gdf.index.isin(indices_within_others)]\n",
    "gdf.shape"
   ]
  },
  {
   "cell_type": "code",
   "execution_count": null,
   "metadata": {},
   "outputs": [],
   "source": [
    "import warnings\n",
    "with warnings.catch_warnings():\n",
    "    warnings.simplefilter(\"ignore\")\n",
    "    geo_ukr = load_country_boundaries('Ukraine')\n",
    "    print(f'area final = {100*gdf.area.sum() / geo_ukr.area:.2f}% of the country')"
   ]
  },
  {
   "cell_type": "code",
   "execution_count": null,
   "metadata": {},
   "outputs": [],
   "source": [
    "gdf_final = gdf.reset_index().rename(columns={'index':'settlement_id'})\n",
    "gdf_final.to_file(PROCESSED_PATH / 'ukraine_settlements_gee_final.geojson', driver='GeoJSON')"
   ]
  },
  {
   "cell_type": "code",
   "execution_count": null,
   "metadata": {},
   "outputs": [],
   "source": [
    "gdf_ee = geemap.geopandas_to_ee(gdf_final)\n",
    "asset_id = ASSETS_PATH + f's1tsdd_Ukraine/ukraine_settlements'\n",
    "geemap.ee_export_vector_to_asset(\n",
    "    gdf_ee,\n",
    "    description=f\"Ukraine Settlements\",\n",
    "    assetId=asset_id,\n",
    ")"
   ]
  },
  {
   "cell_type": "markdown",
   "metadata": {},
   "source": [
    "# Exploration"
   ]
  },
  {
   "cell_type": "code",
   "execution_count": null,
   "metadata": {},
   "outputs": [],
   "source": [
    "from src.data.settlements import load_gdf_settlements\n",
    "\n",
    "gdf = load_gdf_settlements()\n",
    "gdf.head()"
   ]
  },
  {
   "cell_type": "code",
   "execution_count": null,
   "metadata": {},
   "outputs": [],
   "source": [
    "gdf.explore()"
   ]
  },
  {
   "cell_type": "code",
   "execution_count": null,
   "metadata": {},
   "outputs": [],
   "source": []
  },
  {
   "cell_type": "code",
   "execution_count": null,
   "metadata": {},
   "outputs": [],
   "source": [
    "gdf[gdf.ADM4_EN=='Chernihiv'].to_file('Chernihiv.shp')"
   ]
  },
  {
   "cell_type": "code",
   "execution_count": null,
   "metadata": {},
   "outputs": [],
   "source": [
    "from src.constants import PREDS_PATH\n",
    "from src.data.settlements import load_gdf_settlements\n",
    "\n",
    "preds = sorted((PREDS_PATH / '240224' / 'buildings_with_preds').glob('*.geojson'))\n",
    "existing_ids = [int(p.stem) for p in preds]\n",
    "gdf_settlements = load_gdf_settlements()\n",
    "gdf_settlements = gdf_settlements[~gdf_settlements.index.isin(existing_ids)]\n",
    "gdf_settlements"
   ]
  },
  {
   "cell_type": "code",
   "execution_count": null,
   "metadata": {},
   "outputs": [],
   "source": [
    "for id_ in [2397,2398,2405,2406,2407]:\n",
    "    print(gdf_settlements.loc[id_].ADM4_EN)"
   ]
  },
  {
   "cell_type": "code",
   "execution_count": null,
   "metadata": {},
   "outputs": [],
   "source": [
    "from src.data.settlements import MSFT_SETTLEMENTS_PATH\n",
    "from tqdm import tqdm\n",
    "for i in tqdm(gdf_settlements.index):\n",
    "    gdf_buildings = gpd.read_file(MSFT_SETTLEMENTS_PATH / f'{i}.geojson')\n",
    "    if not gdf_buildings.empty:\n",
    "        print(i)"
   ]
  },
  {
   "cell_type": "code",
   "execution_count": null,
   "metadata": {},
   "outputs": [],
   "source": [
    "gdf"
   ]
  },
  {
   "cell_type": "code",
   "execution_count": null,
   "metadata": {},
   "outputs": [],
   "source": [
    "from shapely.geometry import Point\n",
    "coords = Point(37.502168,47.941873)\n",
    "gdf[gdf.geometry.contains(coords)]"
   ]
  },
  {
   "cell_type": "code",
   "execution_count": null,
   "metadata": {},
   "outputs": [],
   "source": [
    "import geopandas as gpd\n",
    "from src.constants import PREDS_PATH\n",
    "run_name = '240224'\n",
    "folder =  PREDS_PATH / run_name / 'buildings_with_preds'\n",
    "gdf = gpd.read_file(folder / '0.geojson')\n",
    "gdf.head()"
   ]
  },
  {
   "cell_type": "code",
   "execution_count": null,
   "metadata": {},
   "outputs": [],
   "source": []
  }
 ],
 "metadata": {
  "kernelspec": {
   "display_name": "Python 3",
   "language": "python",
   "name": "python3"
  },
  "language_info": {
   "codemirror_mode": {
    "name": "ipython",
    "version": 3
   },
   "file_extension": ".py",
   "mimetype": "text/x-python",
   "name": "python",
   "nbconvert_exporter": "python",
   "pygments_lexer": "ipython3",
   "version": "3.8.18"
  }
 },
 "nbformat": 4,
 "nbformat_minor": 2
}
