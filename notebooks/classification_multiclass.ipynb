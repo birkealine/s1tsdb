{
 "cells": [
  {
   "cell_type": "code",
   "execution_count": null,
   "metadata": {},
   "outputs": [],
   "source": [
    "%load_ext autoreload\n",
    "%autoreload 2"
   ]
  },
  {
   "cell_type": "markdown",
   "metadata": {},
   "source": [
    "# Classification Multi-Class"
   ]
  },
  {
   "cell_type": "code",
   "execution_count": null,
   "metadata": {},
   "outputs": [],
   "source": [
    "from omegaconf import OmegaConf\n",
    "import pandas as pd\n",
    "\n",
    "from src.constants import AOIS_TEST\n",
    "from src.data import UNOSAT_S1TS_Dataset\n",
    "from src.classification.model_factory import load_model\n",
    "from src.classification.trainer import S1TSDD_Trainer"
   ]
  },
  {
   "cell_type": "code",
   "execution_count": null,
   "metadata": {},
   "outputs": [],
   "source": [
    "def extract_features(df, start, end, prefix=\"\"):\n",
    "\n",
    "    # columns are datetime -> can slice directly between two dates\n",
    "    df = df.loc[:, start:end]\n",
    "\n",
    "    # features\n",
    "    df_features = pd.DataFrame(index=df.index)\n",
    "    df_features[\"mean\"] = df.mean(axis=1)\n",
    "    df_features[\"std\"] = df.std(axis=1)\n",
    "    df_features[\"median\"] = df.median(axis=1)\n",
    "    df_features[\"min\"] = df.min(axis=1)\n",
    "    df_features[\"max\"] = df.max(axis=1)\n",
    "    df_features[\"skew\"] = df.skew(axis=1)\n",
    "    df_features[\"kurt\"] = df.kurt(axis=1)\n",
    "\n",
    "    # rename columns using band, prefix (eg pre/post/pre_3x3, ...)\n",
    "    df_vv = df_features.xs(\"VV\", level=\"band\")\n",
    "    df_vh = df_features.xs(\"VH\", level=\"band\")\n",
    "    df_vv.columns = [f\"VV_{prefix}_{col}\" for col in df_vv.columns]\n",
    "    df_vh.columns = [f\"VH_{prefix}_{col}\" for col in df_vh.columns]\n",
    "    return pd.concat([df_vv, df_vh], axis=1)\n",
    "\n",
    "\n",
    "cfg = OmegaConf.create(\n",
    "    dict(\n",
    "        aggregation_method=\"mean\",\n",
    "        model_name=\"random_forest\",\n",
    "        model_kwargs=dict(\n",
    "            n_estimators=100,\n",
    "            n_jobs=12,\n",
    "        ),\n",
    "        data=dict(\n",
    "            aois_test = [f'UKR{i}' for i in range(1,19) if i not in [1,2,3,4]], #[\"UKR6\", \"UKR8\", \"UKR12\", \"UKR15\"],\n",
    "            damages_to_keep=[1,2,3],\n",
    "            extract_winds = ['3x3'], # ['1x1', '3x3', '5x5']\n",
    "            random_neg_labels=0.0,  # percentage of negative labels to add in training set (eg 0.1 for 10%)\n",
    "            time_periods_pos = dict(\n",
    "                pre= ('2021-02-24', '2022-02-24'),\n",
    "                post= ('2022-02-24', '2023-02-24')\n",
    "            ),\n",
    "            time_periods_neg = dict(\n",
    "                pre= ('2020-02-24', '2021-02-24'),\n",
    "                post= ('2021-02-24', '2022-02-24')\n",
    "            )\n",
    "        ),\n",
    "        seed=123,\n",
    "        run_name=None,\n",
    "    )\n",
    ")\n",
    "\n",
    "ds = UNOSAT_S1TS_Dataset(cfg.data, extract_features=extract_features)"
   ]
  },
  {
   "cell_type": "code",
   "execution_count": null,
   "metadata": {},
   "outputs": [],
   "source": [
    "import numpy as np\n",
    "from sklearn.ensemble import RandomForestClassifier\n",
    "from sklearn.metrics import classification_report\n",
    "\n",
    "df = ds.df\n",
    "X = df[[c for c in df.columns if c.startswith((\"VV\", \"VH\"))]].values\n",
    "y = df[\"damage\"].values\n",
    "\n",
    "model = RandomForestClassifier(**cfg.model_kwargs, random_state=cfg.seed, class_weight=\"balanced\")\n",
    "\n",
    "model.fit(X, y)\n",
    "\n",
    "df_test = ds.df_test\n",
    "X_test = df_test[[c for c in df_test.columns if c.startswith((\"VV\", \"VH\"))]].values\n",
    "y_test = df_test[\"damage\"].values\n",
    "preds = model.predict(X_test)\n",
    "\n",
    "print(classification_report(y_test, preds, target_names=[\"no damage\", \"Destroyed\", \"severe damage\", \"moderate damage\"]))"
   ]
  },
  {
   "cell_type": "code",
   "execution_count": null,
   "metadata": {},
   "outputs": [],
   "source": []
  }
 ],
 "metadata": {
  "kernelspec": {
   "display_name": "Python 3",
   "language": "python",
   "name": "python3"
  },
  "language_info": {
   "codemirror_mode": {
    "name": "ipython",
    "version": 3
   },
   "file_extension": ".py",
   "mimetype": "text/x-python",
   "name": "python",
   "nbconvert_exporter": "python",
   "pygments_lexer": "ipython3",
   "version": "3.8.18"
  }
 },
 "nbformat": 4,
 "nbformat_minor": 2
}
