{
 "cells": [
  {
   "cell_type": "code",
   "execution_count": null,
   "metadata": {},
   "outputs": [],
   "source": [
    "%load_ext autoreload\n",
    "%autoreload 2"
   ]
  },
  {
   "cell_type": "markdown",
   "metadata": {},
   "source": [
    "# Evaluate Google Earth Engine model on test data"
   ]
  },
  {
   "cell_type": "code",
   "execution_count": null,
   "metadata": {},
   "outputs": [],
   "source": [
    "from src.data.unosat import get_unosat_geometry\n",
    "from src.postprocessing.preds_buildings import vectorize_xarray_with_gdf\n",
    "from src.postprocessing.utils import read_fp_within_geo\n",
    "from src.constants import PREDS_PATH\n",
    "from src.data.buildings.microsoft_unosat import load_buildings_aoi\n",
    "from src.data import load_unosat_labels\n",
    "\n",
    "RUN_NAME = '240224'\n",
    "AOIS_TEST = [f'UKR{i}' for i in range(1, 19) if i not in [1,2,3,4]]\n",
    "LABELS_TO_KEEP = [1,2]"
   ]
  },
  {
   "cell_type": "markdown",
   "metadata": {},
   "source": [
    "## Point-wise"
   ]
  },
  {
   "cell_type": "code",
   "execution_count": null,
   "metadata": {},
   "outputs": [],
   "source": [
    "from tqdm import tqdm\n",
    "\n",
    "labels = load_unosat_labels(AOIS_TEST, labels_to_keep=LABELS_TO_KEEP)\n",
    "labels_with_preds = labels[['damage', 'geometry', 'aoi']].copy()\n",
    "for name_period, dates in dict(pre=(\"2021-02-24\", \"2022-02-23\"), post=(\"2022-02-24\", \"2023-02-23\")).items():\n",
    "    print(name_period, dates)\n",
    "\n",
    "    fp_preds = PREDS_PATH / RUN_NAME / '_'.join(dates) / 'ukraine_padded.tif'\n",
    "    labels_with_preds[f'preds_{name_period}'] = 0\n",
    "    for aoi in tqdm(AOIS_TEST):\n",
    "        geo = get_unosat_geometry(aoi)\n",
    "        preds = read_fp_within_geo(fp_preds, geo)\n",
    "        labels_aoi = labels_with_preds[labels_with_preds.aoi== aoi]\n",
    "        labels_with_preds.loc[labels_aoi.index, f'preds_{name_period}'] = labels_aoi.geometry.apply(lambda geo: preds.sel(x=geo.x, y=geo.y, method='nearest').values[0]) / 255"
   ]
  },
  {
   "cell_type": "code",
   "execution_count": null,
   "metadata": {},
   "outputs": [],
   "source": [
    "def compute_metrics(labels_with_preds, threshold=0.5, verbose=0):\n",
    "    tp = len(labels_with_preds[labels_with_preds.preds_post>=threshold])\n",
    "    fn = len(labels_with_preds[labels_with_preds.preds_post<threshold])\n",
    "    fp = len(labels_with_preds[labels_with_preds.preds_pre>=threshold])\n",
    "    tn = len(labels_with_preds[labels_with_preds.preds_pre<threshold])\n",
    "\n",
    "    precision = tp / (tp + fp)\n",
    "    recall = tp / (tp + fn)\n",
    "    f1 = 2 * (precision * recall) / (precision + recall)\n",
    "    if verbose:\n",
    "        print(f'precision: {precision:.2f}, recall: {recall:.2f}, f1: {f1:.2f}, n_support: {len(labels_with_preds)}')\n",
    "\n",
    "    return {'precision': precision, 'recall': recall, 'f1': f1, 'threshold': threshold, 'tp': tp, 'fn': fn, 'fp': fp, 'tn': tn}\n"
   ]
  },
  {
   "cell_type": "code",
   "execution_count": null,
   "metadata": {},
   "outputs": [],
   "source": [
    "print(labels_with_preds.shape)\n",
    "labels_with_preds_ = labels_with_preds[labels_with_preds.preds_post!=0]\n",
    "print(labels_with_preds_.shape)\n",
    "labels_with_preds_ = labels_with_preds_[labels_with_preds_.preds_pre!=0]\n",
    "print(labels_with_preds_.shape)"
   ]
  },
  {
   "cell_type": "code",
   "execution_count": null,
   "metadata": {},
   "outputs": [],
   "source": [
    "threshold = 0.5\n",
    "compute_metrics(labels_with_preds_, threshold, verbose=1);"
   ]
  },
  {
   "cell_type": "code",
   "execution_count": null,
   "metadata": {},
   "outputs": [],
   "source": [
    "import numpy as np\n",
    "metrics = []\n",
    "for t in np.arange(0.1, 0.9, 0.02):\n",
    "    metrics.append(compute_metrics(labels_with_preds, t, verbose=0))\n",
    "\n",
    "import matplotlib.pyplot as plt\n",
    "import pandas as pd\n",
    "metrics = pd.DataFrame(metrics).set_index('threshold')[['precision', 'recall', 'f1']]\n",
    "metrics.plot();"
   ]
  },
  {
   "cell_type": "markdown",
   "metadata": {},
   "source": [
    "## Building-wise"
   ]
  },
  {
   "cell_type": "code",
   "execution_count": null,
   "metadata": {},
   "outputs": [],
   "source": [
    "all_preds = None\n",
    "for aoi in tqdm(AOIS_TEST):\n",
    "    gdf_buildings = load_buildings_aoi(aoi)\n",
    "    if gdf_buildings.empty:\n",
    "        print(f'no buildings for {aoi}')\n",
    "        continue\n",
    "    gdf_buildings = gdf_buildings[gdf_buildings.damage_5m.isin(LABELS_TO_KEEP)]\n",
    "    gdf_buildings_with_preds = gdf_buildings.copy()\n",
    "\n",
    "    for name_period, dates in dict(pre=(\"2021-02-24\", \"2022-02-23\"), post=(\"2022-02-24\", \"2023-02-23\")).items():\n",
    "\n",
    "        fp_preds = PREDS_PATH / RUN_NAME / '_'.join(dates) / 'ukraine_padded.tif'\n",
    "        geo = get_unosat_geometry(aoi)\n",
    "        preds = read_fp_within_geo(fp_preds, geo)\n",
    "\n",
    "        preds_vectorized = vectorize_xarray_with_gdf(preds, gdf_buildings_with_preds, name_id=\"building_id\", verbose=0)\n",
    "        d_rename = {c: f'{c}_{name_period}' for c in ['weighted_mean', 'max']}\n",
    "        preds_vectorized = preds_vectorized.rename(columns=d_rename)\n",
    "        gdf_buildings_with_preds = gdf_buildings_with_preds.merge(preds_vectorized, on=\"building_id\")\n",
    "\n",
    "    if all_preds is None:\n",
    "        all_preds = gdf_buildings_with_preds\n",
    "    else:\n",
    "        all_preds = pd.concat([all_preds, gdf_buildings_with_preds])\n",
    "all_preds.to_file('240224_preds_with_buildings.geojson', driver='GeoJSON')"
   ]
  },
  {
   "cell_type": "code",
   "execution_count": null,
   "metadata": {},
   "outputs": [],
   "source": [
    "import geopandas as gpd\n",
    "target_col = 'weighted_mean'\n",
    "buildings_with_preds = gpd.read_file('240224_preds_with_buildings.geojson')\n",
    "buildings_with_preds.rename(columns={f'{target_col}_pre': 'preds_pre', f'{target_col}_post': 'preds_post'}, inplace=True)\n",
    "buildings_with_preds[['preds_pre']] /= 255\n",
    "buildings_with_preds[['preds_post']] /= 255"
   ]
  },
  {
   "cell_type": "code",
   "execution_count": null,
   "metadata": {},
   "outputs": [],
   "source": [
    "print(buildings_with_preds.shape)\n",
    "buildings_with_preds_ = buildings_with_preds[buildings_with_preds.preds_post!=0]\n",
    "print(buildings_with_preds_.shape)\n",
    "buildings_with_preds_ = buildings_with_preds_[buildings_with_preds_.preds_pre!=0]\n",
    "print(buildings_with_preds_.shape)"
   ]
  },
  {
   "cell_type": "code",
   "execution_count": null,
   "metadata": {},
   "outputs": [],
   "source": [
    "compute_metrics(buildings_with_preds_, threshold, verbose=1);"
   ]
  },
  {
   "cell_type": "code",
   "execution_count": null,
   "metadata": {},
   "outputs": [],
   "source": [
    "import numpy as np\n",
    "metrics = []\n",
    "for t in np.arange(0.1, 0.9, 0.02):\n",
    "    metrics.append(compute_metrics(buildings_with_preds_, t, verbose=0))\n",
    "\n",
    "import matplotlib.pyplot as plt\n",
    "import pandas as pd\n",
    "metrics = pd.DataFrame(metrics).set_index('threshold')[['precision', 'recall', 'f1']]\n",
    "metrics.plot();"
   ]
  },
  {
   "cell_type": "markdown",
   "metadata": {},
   "source": [
    "## Check prediction in settlement that was not affected"
   ]
  },
  {
   "cell_type": "code",
   "execution_count": null,
   "metadata": {},
   "outputs": [],
   "source": [
    "from src.data.settlements import load_gdf_settlements\n",
    "gdf_settlements = load_gdf_settlements()"
   ]
  },
  {
   "cell_type": "code",
   "execution_count": null,
   "metadata": {},
   "outputs": [],
   "source": [
    "settlement_id = 2802 # Chernivtsi, does not seem to have been attacked\n",
    "geo  = gdf_settlements.loc[settlement_id, 'geometry']\n",
    "#gdf_settlements.loc[[settlement_id]].explore()"
   ]
  },
  {
   "cell_type": "code",
   "execution_count": null,
   "metadata": {},
   "outputs": [],
   "source": [
    "from src.postprocessing.preds_buildings import vectorize_xarray_with_gdf\n",
    "from src.postprocessing.utils import read_fp_within_geo\n",
    "from src.data.settlements import MSFT_SETTLEMENTS_PATH\n",
    "\n",
    "# Load precomputed building footprints for the settlement\n",
    "gdf_buildings = gpd.read_file(MSFT_SETTLEMENTS_PATH / f'{settlement_id}.geojson')\n",
    "assert not gdf_buildings.empty, f'no buildings for {settlement_id}'\n",
    "gdf_buildings_with_preds = gdf_buildings.copy()\n",
    "\n",
    "for name_period, dates in dict(pre=(\"2021-02-24\", \"2022-02-23\"), post=(\"2022-02-24\", \"2023-02-23\")).items():\n",
    "\n",
    "    # Load prediction\n",
    "    fp_preds = PREDS_PATH / RUN_NAME / \"_\".join(dates) / \"ukraine_padded.tif\"\n",
    "    preds = read_fp_within_geo(fp_preds, geo)\n",
    "\n",
    "    # Vectorize predictions (weighted mean and max)\n",
    "    preds_vectorized = vectorize_xarray_with_gdf(preds, gdf_buildings, name_id=\"building_id\", verbose=0)\n",
    "    preds_vectorized[[\"weighted_mean\", \"max\"]]/= 255\n",
    "    d_rename = {c: f'{c}_{name_period}' for c in ['weighted_mean', 'max']}\n",
    "    preds_vectorized = preds_vectorized.rename(columns=d_rename)\n",
    "    gdf_buildings_with_preds = gdf_buildings_with_preds.merge(preds_vectorized, on=\"building_id\")"
   ]
  },
  {
   "cell_type": "code",
   "execution_count": null,
   "metadata": {},
   "outputs": [],
   "source": [
    "threshold = 0.5\n",
    "n_destroyed_post = len(gdf_buildings_with_preds[gdf_buildings_with_preds.weighted_mean_post>threshold])\n",
    "n_destroyed_pre = len(gdf_buildings_with_preds[gdf_buildings_with_preds.weighted_mean_pre>threshold])\n",
    "n_destroyed_pre, n_destroyed_post"
   ]
  },
  {
   "cell_type": "code",
   "execution_count": null,
   "metadata": {},
   "outputs": [],
   "source": [
    "n_destroyed_posts = []\n",
    "n_destroyed_pres = []\n",
    "n_destroyed_post_not_pres = []\n",
    "thresholds = np.arange(0.5, 0.95, 0.05)\n",
    "for t in np.arange(0.5, 0.95, 0.05):\n",
    "    n_destroyed_post = len(gdf_buildings_with_preds[gdf_buildings_with_preds.weighted_mean_post>=t])\n",
    "    n_destroyed_pre = len(gdf_buildings_with_preds[gdf_buildings_with_preds.weighted_mean_pre>=t])\n",
    "    n_destroyed_post_not_pre = len(gdf_buildings_with_preds[(gdf_buildings_with_preds.weighted_mean_post>=t) & (gdf_buildings_with_preds.weighted_mean_pre<t)])\n",
    "\n",
    "    if t == 0.5:\n",
    "        print(n_destroyed_pre, n_destroyed_post, n_destroyed_post_not_pre)\n",
    "\n",
    "    n_destroyed_posts.append(n_destroyed_post)\n",
    "    n_destroyed_pres.append(n_destroyed_pre)\n",
    "    n_destroyed_post_not_pres.append(n_destroyed_post_not_pre)"
   ]
  },
  {
   "cell_type": "code",
   "execution_count": null,
   "metadata": {},
   "outputs": [],
   "source": [
    "n_destroyed_posts"
   ]
  },
  {
   "cell_type": "code",
   "execution_count": null,
   "metadata": {},
   "outputs": [],
   "source": [
    "import matplotlib.pyplot as plt\n",
    "\n",
    "fig, ax = plt.subplots(figsize=(10, 5))\n",
    "width = 0.01\n",
    "x_adjustments = [-width, 0, width]\n",
    "labels = [\n",
    "    'Damaged in 2022',\n",
    "    'Damaged in 2021',\n",
    "    'Damaged in 2022 but not in 2021'\n",
    "]\n",
    "for i, ns in enumerate([n_destroyed_posts, n_destroyed_pres, n_destroyed_post_not_pres]):\n",
    "    ax.bar(thresholds + x_adjustments[i], ns, width=width, label=labels[i])\n",
    "ax.legend()\n",
    "ax.set_xlabel('threshold')\n",
    "ax.set_ylabel('Number buildings damaged')\n",
    "ax.set_title('Chernivtsi')\n",
    "plt.show()"
   ]
  },
  {
   "cell_type": "code",
   "execution_count": null,
   "metadata": {},
   "outputs": [],
   "source": []
  }
 ],
 "metadata": {
  "kernelspec": {
   "display_name": "Python 3",
   "language": "python",
   "name": "python3"
  },
  "language_info": {
   "codemirror_mode": {
    "name": "ipython",
    "version": 3
   },
   "file_extension": ".py",
   "mimetype": "text/x-python",
   "name": "python",
   "nbconvert_exporter": "python",
   "pygments_lexer": "ipython3",
   "version": "3.8.18"
  }
 },
 "nbformat": 4,
 "nbformat_minor": 2
}
