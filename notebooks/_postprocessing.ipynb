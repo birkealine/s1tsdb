{
 "cells": [
  {
   "cell_type": "code",
   "execution_count": null,
   "metadata": {},
   "outputs": [],
   "source": [
    "%load_ext autoreload\n",
    "%autoreload 2"
   ]
  },
  {
   "cell_type": "markdown",
   "metadata": {},
   "source": [
    "# Predictions x Buildings Footprints"
   ]
  },
  {
   "cell_type": "code",
   "execution_count": null,
   "metadata": {},
   "outputs": [],
   "source": [
    "from pathlib import Path\n",
    "import matplotlib.pyplot as plt\n",
    "import numpy as np\n",
    "import rioxarray as rxr\n",
    "from shapely.geometry import box\n",
    "from src.data.microsoft_buildings import load_microsoft_unosat_buildings\n",
    "from src.constants import CRS_GLOBAL, NO_DATA_VALUE\n",
    "from src.data.unosat import get_unosat_geometry\n",
    "import geopandas as gpd\n",
    "import pandas as pd\n",
    "from matplotlib.colors import ListedColormap\n",
    "from tqdm import tqdm\n",
    "\n",
    "\n",
    "def extract_raster_value(point, raster):\n",
    "    value = raster.sel(x=point.x, y=point.y, method=\"nearest\").item()\n",
    "    return value\n",
    "\n",
    "\n",
    "def get_buildings_with_preds_proba(aoi, folder, geo=None):\n",
    "    # Load Microsoft buildings footprints\n",
    "    buildings = load_microsoft_unosat_buildings(aoi)\n",
    "\n",
    "    # Default to entire AOI\n",
    "    if geo is None:\n",
    "        geo = get_unosat_geometry(aoi)\n",
    "\n",
    "    start_dates = pd.date_range(\"2020-06-01\", \"2022-06-01\", freq=\"MS\").strftime(\"%Y-%m-%d\").tolist()\n",
    "    for i, start_date in tqdm(enumerate(start_dates)):\n",
    "        # Read predictions\n",
    "        preds = rxr.open_rasterio(folder / f\"{start_date}.tif\").squeeze()\n",
    "\n",
    "        if i == 0:\n",
    "            # Clip buildings to geo and compute centroids\n",
    "            geo_crs = gpd.GeoDataFrame(None, geometry=[geo], crs=CRS_GLOBAL).to_crs(preds.rio.crs).iloc[0].geometry\n",
    "            buildings_ = buildings.to_crs(preds.rio.crs).copy()\n",
    "            buildings_ = buildings_[buildings_.intersects(geo_crs)].clip(geo_crs).copy()\n",
    "            buildings_[\"centroid\"] = buildings_.geometry.centroid\n",
    "\n",
    "        # Extract prediction values for each building\n",
    "        preds_clipped = preds.rio.clip([geo_crs])\n",
    "        buildings_[start_date] = buildings_[\"centroid\"].apply(lambda x: extract_raster_value(x, preds_clipped))\n",
    "\n",
    "    buildings_ = buildings_.replace(NO_DATA_VALUE, 0)\n",
    "    return buildings_"
   ]
  },
  {
   "cell_type": "markdown",
   "metadata": {},
   "source": [
    "## Get buildings with predictions probabilities"
   ]
  },
  {
   "cell_type": "code",
   "execution_count": null,
   "metadata": {},
   "outputs": [],
   "source": [
    "from src.constants import LOGS_PATH\n",
    "aoi = \"UKR6\"\n",
    "# folder = Path(\"./preds_sliding_window_3x3_UKR6/\")\n",
    "folder = LOGS_PATH / \"sliding_window_train_random15\" / 'predictions' / aoi\n",
    "geo = box(31.365, 51.525, 31.375, 51.53)\n",
    "buildings_with_preds = get_buildings_with_preds_proba(aoi, folder, geo=geo)"
   ]
  },
  {
   "cell_type": "markdown",
   "metadata": {},
   "source": [
    "## Visualize predictions"
   ]
  },
  {
   "cell_type": "code",
   "execution_count": null,
   "metadata": {},
   "outputs": [],
   "source": [
    "from src.constants import DAMAGE_SCHEME, DAMAGE_COLORS\n",
    "import matplotlib.patches as mpatches\n",
    "import contextily as ctx\n",
    "import ipywidgets as widgets\n",
    "from ipywidgets import interact\n",
    "\n",
    "\n",
    "def plot_buildings_unosat(buildings, ax=None, legend=True, damage_key=\"damage_2m\", labels_to_keep=None, **kwargs):\n",
    "    if buildings.empty:\n",
    "        return ax\n",
    "\n",
    "    if ax is None:\n",
    "        _, ax = plt.subplots()\n",
    "\n",
    "    # Plot destroyed buildings with corresponding color\n",
    "    buildings_ = buildings[~buildings[damage_key].isna()]\n",
    "\n",
    "    if labels_to_keep is not None:\n",
    "        buildings_ = buildings_[buildings_[damage_key].isin(labels_to_keep)]\n",
    "\n",
    "    for key, group in buildings_.groupby(damage_key):\n",
    "        group.plot(color=DAMAGE_COLORS[key], ax=ax, **kwargs)\n",
    "\n",
    "    # Plot buildings outline\n",
    "    buildings.plot(ax=ax, facecolor=\"none\", edgecolor=\"k\")\n",
    "\n",
    "    if legend:\n",
    "        # Create a patch (proxy artist) for each damage category\n",
    "        patches = [\n",
    "            mpatches.Patch(color=DAMAGE_COLORS[key], label=DAMAGE_SCHEME[key])\n",
    "            for key in sorted(buildings_[damage_key].unique())\n",
    "        ]\n",
    "\n",
    "        # Add legend to the plot\n",
    "        ax.legend(handles=patches, title=\"Damage Categories\", fontsize=\"small\")\n",
    "\n",
    "    ax.set_title(\"Msft Buildings with UNOSAT Labels\")\n",
    "    ctx.add_basemap(ax, crs=buildings.crs, zoom=14, source=ctx.providers.Stadia.StamenTonerLite)\n",
    "\n",
    "    return ax\n",
    "\n",
    "\n",
    "import matplotlib.cm as cm\n",
    "import matplotlib.colors as colors\n",
    "\n",
    "\n",
    "def plot_preds_msft(buildings, start_date, threshold=0.5, ax=None):\n",
    "    if ax is None:\n",
    "        _, ax = plt.subplots()\n",
    "\n",
    "    im = buildings[buildings[start_date] > threshold].plot(\n",
    "        start_date,\n",
    "        cmap=\"YlOrRd\",\n",
    "        ax=ax,\n",
    "        vmin=0.5,\n",
    "        vmax=1.0,\n",
    "        legend=True,\n",
    "        legend_kwds={\"label\": \"Probability\", \"fraction\": 0.046, \"pad\": 0.04},\n",
    "    )\n",
    "    buildings.plot(ax=ax, facecolor=\"none\", edgecolor=\"k\")\n",
    "    ax.set_title(f\"Msft Buildings with Predictions - {start_date}\")\n",
    "    ctx.add_basemap(ax, crs=buildings.crs, zoom=14, source=ctx.providers.Stadia.StamenTonerLite) #CartoDB.VoyagerNoLabels)\n",
    "\n",
    "    # Create a fake ScalarMappable for the colorbar\n",
    "    # cmap = cm.YlOrRd\n",
    "    # norm = colors.Normalize(vmin=0.5, vmax=1.0)\n",
    "    # sm = cm.ScalarMappable(cmap=cmap, norm=norm)\n",
    "    # sm.set_array([])  # You can set an array of values here if you want different color ranges\n",
    "    return ax\n",
    "\n",
    "\n",
    "def plot_buildings_labels_vs_preds(start_date, threshold):\n",
    "    _, axs = plt.subplots(1, 2, figsize=(20, 14))\n",
    "    plot_buildings_unosat(buildings_with_preds, ax=axs[0], labels_to_keep=[1, 2])\n",
    "    plot_preds_msft(buildings_with_preds, start_date=start_date, threshold=threshold, ax=axs[1])\n",
    "    plt.show()\n",
    "\n",
    "\n",
    "def plot_buildings_labels_vs_preds_slider():\n",
    "    threshold_slider = widgets.SelectionSlider(\n",
    "        options=[0.5, 0.55, 0.6, 0.65, 0.7, 0.75, 0.8, 0.85], description=\"Threshold\", continuous_update=True\n",
    "    )\n",
    "    start_dates = pd.date_range(\"2020-06-01\", \"2022-06-01\", freq=\"MS\").strftime(\"%Y-%m-%d\").tolist()\n",
    "    dates_slider = widgets.SelectionSlider(options=start_dates, description=\"Start Date\", continuous_update=True)\n",
    "    interact(plot_buildings_labels_vs_preds, start_date=dates_slider, threshold=threshold_slider)"
   ]
  },
  {
   "cell_type": "code",
   "execution_count": null,
   "metadata": {},
   "outputs": [],
   "source": [
    "plot_buildings_labels_vs_preds_slider()"
   ]
  },
  {
   "cell_type": "code",
   "execution_count": null,
   "metadata": {},
   "outputs": [],
   "source": [
    "def plot_buildings_detroyed_over_time(buildings):\n",
    "    _, ax = plt.subplots(figsize=(12, 5))\n",
    "\n",
    "    # Bin values every 0.05\n",
    "    bin_ranges = np.arange(0.5, 1.05, 0.05)\n",
    "    bin_labels = [f\"{bin_ranges[i]:.2f}-{bin_ranges[i+1]:.2f}\" for i in range(len(bin_ranges) - 1)]\n",
    "    bin_counts = {label: [] for label in bin_labels}\n",
    "\n",
    "    start_dates = pd.date_range(\"2020-06-01\", \"2022-06-01\", freq=\"MS\").strftime(\"%Y-%m-%d\").tolist()\n",
    "    for start_date in start_dates:\n",
    "        bin_series = pd.cut(buildings[start_date], bins=bin_ranges, labels=bin_labels, include_lowest=True)\n",
    "        bin_counts_col = bin_series.value_counts().reindex(bin_labels, fill_value=0)\n",
    "        for label in bin_labels:\n",
    "            bin_counts[label].append(bin_counts_col[label])\n",
    "\n",
    "    # Get same colormap as for preds\n",
    "    cmap = plt.cm.YlOrRd\n",
    "    colors = cmap(np.linspace(0, 1, len(bin_labels)))\n",
    "    bin_counts_df = pd.DataFrame(bin_counts, index=start_dates)\n",
    "    bin_counts_df.plot.area(stacked=True, ax=ax, color=colors)\n",
    "    ax.legend(title='Probs of destruction')\n",
    "    ax.set_title(f\"Evolution of buildings destruction probability over time for {aoi}\")\n",
    "    ax.set_xlabel(\"Start Date\")\n",
    "    ax.set_ylabel(\"Percentage of Buildings with given probabilities\")\n",
    "    plt.show()"
   ]
  },
  {
   "cell_type": "code",
   "execution_count": null,
   "metadata": {},
   "outputs": [],
   "source": [
    "plot_buildings_detroyed_over_time(buildings_with_preds)"
   ]
  },
  {
   "cell_type": "code",
   "execution_count": null,
   "metadata": {},
   "outputs": [],
   "source": []
  }
 ],
 "metadata": {
  "kernelspec": {
   "display_name": "Python 3",
   "language": "python",
   "name": "python3"
  },
  "language_info": {
   "codemirror_mode": {
    "name": "ipython",
    "version": 3
   },
   "file_extension": ".py",
   "mimetype": "text/x-python",
   "name": "python",
   "nbconvert_exporter": "python",
   "pygments_lexer": "ipython3",
   "version": "3.8.18"
  }
 },
 "nbformat": 4,
 "nbformat_minor": 2
}
