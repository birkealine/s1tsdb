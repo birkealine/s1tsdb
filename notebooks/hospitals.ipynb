{
 "cells": [
  {
   "cell_type": "code",
   "execution_count": null,
   "metadata": {},
   "outputs": [],
   "source": [
    "%load_ext autoreload\n",
    "%autoreload 2"
   ]
  },
  {
   "cell_type": "markdown",
   "metadata": {},
   "source": [
    "# Explore"
   ]
  },
  {
   "cell_type": "code",
   "execution_count": null,
   "metadata": {},
   "outputs": [],
   "source": [
    "from src.postprocessing.hospitals import load_gdf_hospitals\n",
    "gdf = load_gdf_hospitals()"
   ]
  },
  {
   "cell_type": "code",
   "execution_count": null,
   "metadata": {},
   "outputs": [],
   "source": [
    "# visualize\n",
    "gdf[['osmid', 'name', 'name:en', 'geometry']].explore()"
   ]
  },
  {
   "cell_type": "markdown",
   "metadata": {},
   "source": [
    "# Cross with predictions"
   ]
  },
  {
   "cell_type": "code",
   "execution_count": null,
   "metadata": {},
   "outputs": [],
   "source": [
    "from src.postprocessing.utils import read_fp_within_geo\n",
    "from src.constants import PREDS_PATH, RAW_PATH\n",
    "from shapely.geometry import Polygon\n",
    "import geopandas as gpd\n",
    "\n",
    "OSM_RAW_PATH = RAW_PATH / \"osm\"\n",
    "\n",
    "# Read raster with predictions\n",
    "run_name = \"240212\"\n",
    "folder_preds = PREDS_PATH / run_name\n",
    "fp_global_preds = folder_preds / f\"{run_name}_global_ukraine_preds_padded.tif\"\n",
    "assert fp_global_preds.exists()\n",
    "\n",
    "# Get dataframe with hospitals (keep only polygons)\n",
    "gdf = gpd.read_file(OSM_RAW_PATH / \"Ukraine_hospitals.geojson\")\n",
    "gdf = gdf[gdf.geometry.apply(lambda x: isinstance(x, Polygon))]\n",
    "gdf.shape"
   ]
  },
  {
   "cell_type": "code",
   "execution_count": null,
   "metadata": {},
   "outputs": [],
   "source": [
    "import multiprocessing as mp\n",
    "import pandas as pd\n",
    "from tqdm import tqdm\n",
    "from src.postprocessing.utils import get_prediction_for_geo\n",
    "from src.utils.time import timeit\n",
    "\n",
    "def _process_hospital(args):\n",
    "    id_, fp, geo = args\n",
    "    return dict(osmid=id_, weighted_mean=get_prediction_for_geo(fp, geo))\n",
    "\n",
    "@timeit\n",
    "def process_all_hospitals(gdf_hospitals, fp):\n",
    "\n",
    "    args = [(row.osmid, fp, row.geometry) for _, row in gdf_hospitals.iterrows()]\n",
    "    with mp.Pool(processes=mp.cpu_count()) as pool:\n",
    "        preds = pool.map(_process_hospital, args)\n",
    "    return gdf_hospitals.merge(pd.DataFrame(preds), on='osmid')"
   ]
  },
  {
   "cell_type": "code",
   "execution_count": null,
   "metadata": {},
   "outputs": [],
   "source": [
    "gdf_with_preds = process_all_hospitals(gdf, fp_global_preds)\n",
    "gdf_with_preds[['geometry', 'weighted_mean', 'osmid']].head()"
   ]
  },
  {
   "cell_type": "code",
   "execution_count": null,
   "metadata": {},
   "outputs": [],
   "source": [
    "import numpy as np\n",
    "threhsolds = np.arange(0.5, 1, 0.05)\n",
    "n_destroyed = []\n",
    "for th in threhsolds:\n",
    "    n_destroyed.append((gdf_with_preds.weighted_mean > 255*th).sum())"
   ]
  },
  {
   "cell_type": "code",
   "execution_count": null,
   "metadata": {},
   "outputs": [],
   "source": [
    "import matplotlib.pyplot as plt\n",
    "\n",
    "_, ax = plt.subplots(figsize=(10,6))\n",
    "ax.plot(threhsolds, n_destroyed)\n",
    "ax.set_xlabel(\"Threshold\")\n",
    "ax.set_ylabel(\"Number of destroyed hospitals\")\n",
    "ax.set_title(\"Number of destroyed hospitals vs threshold\")\n",
    "for i, txt in enumerate(n_destroyed):\n",
    "    ax.annotate(txt, (threhsolds[i], n_destroyed[i]))\n",
    "plt.show()"
   ]
  },
  {
   "cell_type": "code",
   "execution_count": null,
   "metadata": {},
   "outputs": [],
   "source": [
    "t = 0.65\n",
    "hospitals_destroyed = gdf_with_preds[gdf_with_preds.weighted_mean > 255*t]\n",
    "hospitals_destroyed[['osmid', 'name', 'name:en', 'geometry', 'weighted_mean']]"
   ]
  },
  {
   "cell_type": "code",
   "execution_count": null,
   "metadata": {},
   "outputs": [],
   "source": [
    "hospitals_destroyed_ = hospitals_destroyed.copy()\n",
    "hospitals_destroyed_.geometry = hospitals_destroyed_.geometry.centroid\n",
    "hospitals_destroyed_[['osmid', 'name', 'name:en', 'geometry', 'weighted_mean']].explore(style_kwds={'weight':10})"
   ]
  },
  {
   "cell_type": "code",
   "execution_count": null,
   "metadata": {},
   "outputs": [],
   "source": []
  }
 ],
 "metadata": {
  "kernelspec": {
   "display_name": "Python 3",
   "language": "python",
   "name": "python3"
  },
  "language_info": {
   "codemirror_mode": {
    "name": "ipython",
    "version": 3
   },
   "file_extension": ".py",
   "mimetype": "text/x-python",
   "name": "python",
   "nbconvert_exporter": "python",
   "pygments_lexer": "ipython3",
   "version": "3.8.18"
  }
 },
 "nbformat": 4,
 "nbformat_minor": 2
}
