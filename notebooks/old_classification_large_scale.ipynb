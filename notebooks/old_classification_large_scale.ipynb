{
 "cells": [
  {
   "cell_type": "code",
   "execution_count": null,
   "metadata": {},
   "outputs": [],
   "source": [
    "%load_ext autoreload\n",
    "%autoreload 2"
   ]
  },
  {
   "cell_type": "code",
   "execution_count": null,
   "metadata": {},
   "outputs": [],
   "source": [
    "import ee\n",
    "import geemap\n",
    "\n",
    "from src.gee.utils import init_gee\n",
    "init_gee()"
   ]
  },
  {
   "cell_type": "code",
   "execution_count": null,
   "metadata": {},
   "outputs": [],
   "source": [
    "orbits_train = ee.List([14, 21, 36, 43, 65, 87, 94, 109, 116, 138, 145, 160, 167])\n",
    "orbits_test = ee.List([14, 36, 65, 87, 116, 138, 160])\n",
    "orbits_ukraine = [7, 14, 21, 29, 36, 43, 58, 65, 72, 80, 87, 94, 102, 109, 116, 131, 138, 145, 153, 160, 167]"
   ]
  },
  {
   "cell_type": "markdown",
   "metadata": {},
   "source": [
    "# Train Classifier without intermediate steps (not working)"
   ]
  },
  {
   "cell_type": "code",
   "execution_count": null,
   "metadata": {},
   "outputs": [],
   "source": [
    "#from src.gee.constants import ASSETS_PATH\n",
    "#ds_train = ee.FeatureCollection(ASSETS_PATH + 's1tsdd_Ukraine/unosat_points_train')\n",
    "#ds_test = ee.FeatureCollection(ASSETS_PATH + 's1tsdd_Ukraine/unosat_points_test')"
   ]
  },
  {
   "cell_type": "code",
   "execution_count": null,
   "metadata": {},
   "outputs": [],
   "source": [
    "from src.gee.data.datasets import load_dataset, get_all_start_dates\n",
    "from omegaconf import OmegaConf\n",
    "\n",
    "first_start_date = \"2020-06-01\"\n",
    "last_start_date = \"2022-05-01\"\n",
    "every_n_months = 1\n",
    "#start_dates = get_all_start_dates(first_start_date, last_start_date, every_n_months=every_n_months)\n",
    "\n",
    "# start_dates = [\"2020-06-01\", \"2020-10-01\", \"2021-06-01\", \"2021-10-01\"]\n",
    "start_dates = [\"2020-10-01\", \"2021-10-01\"]\n",
    "print(f\"Start dates: {start_dates}\")\n",
    "\n",
    "\n",
    "cfg_train = OmegaConf.create(\n",
    "    dict(\n",
    "        split=\"train\",\n",
    "        fold=None,\n",
    "        random_loc=0,\n",
    "        keep_damage=[1, 2],\n",
    "        n_tiles=32,\n",
    "        extract_window=30,\n",
    "        start_dates=start_dates,\n",
    "        save_if_doesnt_exist=True,\n",
    "    )\n",
    ")\n",
    "\n",
    "cfg_test = OmegaConf.create(\n",
    "    dict(\n",
    "        split=\"test\",\n",
    "        fold=None,\n",
    "        random_loc=0,\n",
    "        keep_damage=[1, 2],\n",
    "        n_tiles=32,\n",
    "        extract_window=30,\n",
    "        start_dates=[\"2020-10-01\", \"2021-10-01\"],\n",
    "        save_if_doesnt_exist=True,\n",
    "    )\n",
    ")\n",
    "\n",
    "ds_train = load_dataset(**cfg_train).select(['unosat_id', 'orbit', 'label'])\n",
    "ds_test = load_dataset(**cfg_test).select(['unosat_id', 'orbit', 'label'])\n"
   ]
  },
  {
   "cell_type": "code",
   "execution_count": null,
   "metadata": {},
   "outputs": [],
   "source": [
    "from src.utils.geometry import load_country_boundaries\n",
    "from src.utils.gee import shapely_to_gee\n",
    "ukraine_geo = load_country_boundaries('Ukraine')\n",
    "ukraine_geo_ee = shapely_to_gee(ukraine_geo)"
   ]
  },
  {
   "cell_type": "code",
   "execution_count": null,
   "metadata": {},
   "outputs": [],
   "source": [
    "from src.gee.data.unosat import get_unosat_geo\n",
    "from src.gee.constants import TRAIN_AOIS, TEST_AOIS\n",
    "\n",
    "def get_fc_aois(aois):\n",
    "    fs = []\n",
    "    for aoi in aois:\n",
    "        geo = get_unosat_geo(aoi)\n",
    "        fs.append(ee.Feature(geo, {'name': aoi}))\n",
    "    return ee.FeatureCollection(fs)\n",
    "\n",
    "geo_train = get_fc_aois(TRAIN_AOIS)\n",
    "geo_test = get_fc_aois(TEST_AOIS)"
   ]
  },
  {
   "cell_type": "code",
   "execution_count": null,
   "metadata": {},
   "outputs": [],
   "source": [
    "stats_reducers = (\n",
    "    ee.Reducer.mean()\n",
    "    .combine(reducer2=ee.Reducer.stdDev(), sharedInputs=True)\n",
    "    .combine(reducer2=ee.Reducer.median(), sharedInputs=True)\n",
    "    .combine(reducer2=ee.Reducer.max(), sharedInputs=True)\n",
    "    .combine(reducer2=ee.Reducer.min(), sharedInputs=True)\n",
    "    .combine(reducer2=ee.Reducer.skew(), sharedInputs=True)\n",
    "    .combine(reducer2=ee.Reducer.kurtosis(), sharedInputs=True)\n",
    "    .combine(reducer2=ee.Reducer.variance(), sharedInputs=True)\n",
    ")"
   ]
  },
  {
   "cell_type": "code",
   "execution_count": null,
   "metadata": {},
   "outputs": [],
   "source": [
    "def compute_stats_orbit(orbit, geo, ds):\n",
    "\n",
    "    s1 = (\n",
    "        ee.ImageCollection(\"COPERNICUS/S1_GRD\")\n",
    "        .filter(ee.Filter.listContains(\"transmitterReceiverPolarisation\", \"VV\"))\n",
    "        .filter(ee.Filter.listContains(\"transmitterReceiverPolarisation\", \"VH\"))\n",
    "        .filter(ee.Filter.eq(\"instrumentMode\", \"IW\"))\n",
    "        .filter(ee.Filter.eq(\"platform_number\", \"A\"))\n",
    "        .filter(ee.Filter.eq(\"relativeOrbitNumber_start\", orbit))\n",
    "        .filterBounds(geo)\n",
    "        .select(['VV', 'VH'])\n",
    "    )\n",
    "\n",
    "    def compute_stats_labels(label):\n",
    "        s1_label = ee.ImageCollection(ee.Algorithms.If(\n",
    "            label,\n",
    "            s1.filterDate('2021-10-01', '2022-10-01'),\n",
    "            s1.filterDate('2020-10-01', '2021-10-01')\n",
    "        ))\n",
    "        stats = s1_label.reduce(stats_reducers)\n",
    "\n",
    "        def sample_region(f):\n",
    "            local_stats = stats.reduceRegion(\n",
    "                reducer=ee.Reducer.first(),\n",
    "                geometry=f.geometry(),\n",
    "                scale=10,\n",
    "            )\n",
    "            return f.set(local_stats)\n",
    "\n",
    "        ds_orbit_label = ds.filterMetadata('orbit', 'equals', orbit).filterMetadata('label', 'equals', label)\n",
    "        fc_label = ds_orbit_label.map(sample_region)\n",
    "        return fc_label\n",
    "\n",
    "    fc = ee.FeatureCollection(ee.List([0, 1]).map(compute_stats_labels)).flatten()\n",
    "    return fc\n",
    "\n",
    "orbits_train = ee.List([14, 21, 36, 43, 65, 87, 94, 109, 116, 138, 145, 160, 167])\n",
    "orbits_test = ee.List([14, 36, 65, 87, 116, 138, 160])\n",
    "fc_train = ee.FeatureCollection(orbits_train.map(lambda orbit: compute_stats_orbit(orbit, geo_train, ds_train))).flatten()\n",
    "# fc_train_post = ee.FeatureCollection(orbits_train.map(lambda orbit: compute_stats_orbit(orbit, label=1))).flatten()\n",
    "# fc_train = fc_train_pre.merge(fc_train_post)\n",
    "fc_test = ee.FeatureCollection(orbits_test.map(lambda orbit: compute_stats_orbit(orbit, geo_test, ds_test))).flatten()\n",
    "# fc_test_post = ee.FeatureCollection(orbits_test.map(lambda orbit: compute_stats_orbit(orbit, label=1))).flatten()\n",
    "# fc_test = fc_test_pre.merge(fc_test_post)"
   ]
  },
  {
   "cell_type": "code",
   "execution_count": null,
   "metadata": {},
   "outputs": [],
   "source": [
    "fc_train.size()"
   ]
  },
  {
   "cell_type": "code",
   "execution_count": null,
   "metadata": {},
   "outputs": [],
   "source": [
    "bands = fc_train.first().propertyNames().filter(\n",
    "    ee.Filter.Or(ee.Filter.stringStartsWith(\"item\", \"VV_\"), ee.Filter.stringStartsWith(\"item\", \"VH_\"))\n",
    ")"
   ]
  },
  {
   "cell_type": "code",
   "execution_count": null,
   "metadata": {},
   "outputs": [],
   "source": [
    "bands.getInfo()"
   ]
  },
  {
   "cell_type": "code",
   "execution_count": null,
   "metadata": {},
   "outputs": [],
   "source": [
    "clf = ee.Classifier.smileRandomForest(50).train(fc_train, 'label', bands)"
   ]
  },
  {
   "cell_type": "code",
   "execution_count": null,
   "metadata": {},
   "outputs": [],
   "source": [
    "preds = fc_test.classify(clf)"
   ]
  },
  {
   "cell_type": "markdown",
   "metadata": {},
   "source": [
    "### Not working from here"
   ]
  },
  {
   "cell_type": "code",
   "execution_count": null,
   "metadata": {},
   "outputs": [],
   "source": [
    "from src.gee.classification.utils import compute_metrics\n",
    "compute_metrics(preds)"
   ]
  },
  {
   "cell_type": "code",
   "execution_count": null,
   "metadata": {},
   "outputs": [],
   "source": [
    "trained_clf = clf.setOutputMode('PROBABILITY')\n",
    "preds_proba = ds_test.classify(trained_clf)"
   ]
  },
  {
   "cell_type": "code",
   "execution_count": null,
   "metadata": {},
   "outputs": [],
   "source": [
    "def aggregate_predictions(preds):\n",
    "    unique_dates = preds.aggregate_array(\"startDate\").distinct()\n",
    "\n",
    "    def aggregate_date(date):\n",
    "        preds_date = preds.filter(ee.Filter.eq(\"startDate\", date))\n",
    "        unique_ids = preds_date.aggregate_array(\"unosat_id\").distinct()\n",
    "\n",
    "        def aggregate_id(id):\n",
    "            all_preds_date_id = preds_date.filter(ee.Filter.eq(\"unosat_id\", id))\n",
    "            geo = all_preds_date_id.first().geometry()\n",
    "            new_props = {\n",
    "                \"label\": ee.String(all_preds_date_id.first().get(\"label\")),\n",
    "                \"unosat_id\": ee.String(id),\n",
    "                \"start_date\": ee.String(date),\n",
    "                \"classification\": all_preds_date_id.aggregate_mean(\"classification\"),\n",
    "            }\n",
    "            new_feature = ee.Feature(ee.Geometry(geo), new_props)\n",
    "            return new_feature\n",
    "\n",
    "        _preds = ee.FeatureCollection(unique_ids.map(aggregate_id))\n",
    "        return _preds\n",
    "\n",
    "    return ee.FeatureCollection(unique_dates.map(aggregate_date)).flatten()"
   ]
  },
  {
   "cell_type": "code",
   "execution_count": null,
   "metadata": {},
   "outputs": [],
   "source": [
    "agg_preds = aggregate_predictions(preds_proba)\n",
    "agg_preds = agg_preds.map(lambda f: f.set(\"classification_bin\", ee.Number(f.get(\"classification\")).gte(0.5)))\n",
    "compute_metrics(agg_preds, preds_name=\"classification_bin\")"
   ]
  },
  {
   "cell_type": "markdown",
   "metadata": {},
   "source": [
    "# Train Classifier from precomputed features"
   ]
  },
  {
   "cell_type": "markdown",
   "metadata": {},
   "source": [
    "## Dataset"
   ]
  },
  {
   "cell_type": "code",
   "execution_count": null,
   "metadata": {},
   "outputs": [],
   "source": [
    "from src.gee.data.datasets import load_dataset, get_all_start_dates\n",
    "from omegaconf import OmegaConf\n",
    "\n",
    "# first_start_date = \"2020-06-01\"\n",
    "# last_start_date = \"2022-05-01\"\n",
    "# every_n_months = 1\n",
    "# start_dates = get_all_start_dates(first_start_date, last_start_date, every_n_months=every_n_months)\n",
    "\n",
    "# start_dates = [\"2020-06-01\", \"2020-10-01\", \"2021-06-01\", \"2021-10-01\"]\n",
    "start_dates = [\"2020-10-01\", \"2021-10-01\"]\n",
    "print(f\"Start dates: {start_dates}\")\n",
    "\n",
    "\n",
    "cfg_train = OmegaConf.create(\n",
    "    dict(\n",
    "        split=\"train\",\n",
    "        fold=None,\n",
    "        random_loc=0,\n",
    "        keep_damage=[1, 2],\n",
    "        n_tiles=32,\n",
    "        extract_window=30,\n",
    "        start_dates=start_dates,\n",
    "        save_if_doesnt_exist=True,\n",
    "    )\n",
    ")\n",
    "\n",
    "cfg_test = OmegaConf.create(\n",
    "    dict(\n",
    "        split=\"test\",\n",
    "        fold=None,\n",
    "        random_loc=0,\n",
    "        keep_damage=[1, 2],\n",
    "        n_tiles=32,\n",
    "        extract_window=30,\n",
    "        start_dates=[\"2020-10-01\", \"2021-10-01\"],\n",
    "        save_if_doesnt_exist=True,\n",
    "    )\n",
    ")\n",
    "\n",
    "ds_train = load_dataset(**cfg_train)\n",
    "ds_test = load_dataset(**cfg_test)"
   ]
  },
  {
   "cell_type": "code",
   "execution_count": null,
   "metadata": {},
   "outputs": [],
   "source": [
    "# def get_dataset_start_dates(\n",
    "#     start_dates,\n",
    "#     split='train',\n",
    "#     fold=None,\n",
    "#     random_loc=0,\n",
    "#     keep_damage=[1,2],\n",
    "#     n_tiles=32,\n",
    "#     extract_window=30,\n",
    "#     save_if_doesnt_exist=True\n",
    "# ):\n",
    "#     start_dates = start_dates if isinstance(start_dates, list) else [start_dates]\n",
    "#     cfg = OmegaConf.create(\n",
    "#         dict(\n",
    "#             split=split,\n",
    "#             fold=fold,\n",
    "#             random_loc=random_loc,\n",
    "#             keep_damage=keep_damage,\n",
    "#             n_tiles=n_tiles,\n",
    "#             extract_window=extract_window,\n",
    "#             start_dates=start_dates,\n",
    "#             save_if_doesnt_exist=save_if_doesnt_exist,\n",
    "#         )\n",
    "#     )\n",
    "#     return load_dataset(**cfg)"
   ]
  },
  {
   "cell_type": "markdown",
   "metadata": {},
   "source": [
    "## Classifier"
   ]
  },
  {
   "cell_type": "code",
   "execution_count": null,
   "metadata": {},
   "outputs": [],
   "source": [
    "n_trees = 50\n",
    "#classifier = ee.Classifier.smileGradientTreeBoost(n_trees)\n",
    "classifier = ee.Classifier.smileRandomForest(n_trees)\n",
    "features_names = [\n",
    "    'VV_mean','VV_stdDev','VV_median','VV_max','VV_min','VV_skew',\n",
    "    'VV_kurtosis','VV_variance','VH_mean','VH_stdDev','VH_median',\n",
    "    'VH_max','VH_min','VH_skew','VH_kurtosis','VH_variance',\n",
    "    'VV_ptp', 'VH_ptp',\n",
    "    'VV_mean_slice0', 'VV_stdDev_slice0',\n",
    "    'VV_mean_slice1', 'VV_stdDev_slice1', 'VV_mean_slice2',\n",
    "    'VV_stdDev_slice2', 'VV_mean_slice3', 'VV_stdDev_slice3',\n",
    "    'VV_mean_slice4', 'VV_stdDev_slice4', 'VV_mean_slice5',\n",
    "    'VV_stdDev_slice5', 'VV_mean_slice6', 'VV_stdDev_slice6',\n",
    "    'VV_mean_slice7', 'VV_stdDev_slice7',\n",
    "    'VH_mean_slice0', 'VH_stdDev_slice0',\n",
    "    'VH_mean_slice1', 'VH_stdDev_slice1', 'VH_mean_slice2',\n",
    "    'VH_stdDev_slice2', 'VH_mean_slice3', 'VH_stdDev_slice3',\n",
    "    'VH_mean_slice4', 'VH_stdDev_slice4', 'VH_mean_slice5',\n",
    "    'VH_stdDev_slice5', 'VH_mean_slice6', 'VH_stdDev_slice6',\n",
    "    'VH_mean_slice7', 'VH_stdDev_slice7'\n",
    "]\n",
    "trained_clf = classifier.train(features=ds_train.merge(ds_test), classProperty=\"label\", inputProperties=ee.List(features_names))"
   ]
  },
  {
   "cell_type": "code",
   "execution_count": null,
   "metadata": {},
   "outputs": [],
   "source": [
    "# first_start_date = \"2020-06-01\"\n",
    "# last_start_date = \"2021-12-01\"\n",
    "# every_n_months = 2\n",
    "# start_dates = get_all_start_dates(first_start_date, last_start_date, every_n_months=every_n_months)\n",
    "\n",
    "# start_dates = ['2020-06-01', '2020-10-01', '2021-06-01', '2021-10-01']\n",
    "\n",
    "# ds_test = get_dataset_start_dates([\"2020-10-01\", \"2021-10-01\"], split='test')\n",
    "# classifier = ee.Classifier.smileRandomForest(50)\n",
    "# ds_train = None\n",
    "# for start_date in start_dates:\n",
    "#     ds_train = ds_train.merge(get_dataset_start_dates(start_date)) if ds_train else get_dataset_start_dates(start_date)\n",
    "\n",
    "\n",
    "# classifier = classifier.train(features=ds_train, classProperty=\"label\", inputProperties=ee.List(features_names))\n",
    "\n",
    "# preds = ds_test.classify(classifier)\n",
    "# # compute_metrics(preds)"
   ]
  },
  {
   "cell_type": "code",
   "execution_count": null,
   "metadata": {},
   "outputs": [],
   "source": [
    "from src.gee.classification.utils import infer_and_compute_metrics\n",
    "infer_and_compute_metrics(ds_test, trained_clf, aggregate_preds=True)"
   ]
  },
  {
   "cell_type": "markdown",
   "metadata": {},
   "source": [
    "## Classification entire country"
   ]
  },
  {
   "cell_type": "code",
   "execution_count": null,
   "metadata": {},
   "outputs": [],
   "source": [
    "from src.utils.geometry import load_country_boundaries\n",
    "from src.utils.gee import shapely_to_gee\n",
    "ukraine_geo = load_country_boundaries('Ukraine')\n",
    "ukraine_geo_ee = shapely_to_gee(ukraine_geo)"
   ]
  },
  {
   "cell_type": "code",
   "execution_count": null,
   "metadata": {},
   "outputs": [],
   "source": [
    "n_tiles = 32\n",
    "start_date = ee.Date(\"2021-10-01\")\n",
    "end_date = start_date.advance(12*(n_tiles+1)-1, 'day')\n",
    "s1 = (\n",
    "    ee.ImageCollection(\"COPERNICUS/S1_GRD\")\n",
    "    .filter(ee.Filter.listContains(\"transmitterReceiverPolarisation\", \"VV\"))\n",
    "    .filter(ee.Filter.listContains(\"transmitterReceiverPolarisation\", \"VH\"))\n",
    "    .filter(ee.Filter.eq(\"instrumentMode\", \"IW\"))\n",
    "    .filter(ee.Filter.eq(\"platform_number\", \"A\"))\n",
    "    .filterDate(start_date, end_date)\n",
    "    .filterBounds(ukraine_geo_ee)\n",
    "    .select(['VV', 'VH'])\n",
    ")"
   ]
  },
  {
   "cell_type": "code",
   "execution_count": null,
   "metadata": {},
   "outputs": [],
   "source": [
    "from src.gee.classification.features_extractor import manual_stats_from_s1\n",
    "\n",
    "trained_clf = trained_clf.setOutputMode('PROBABILITY')\n",
    "\n",
    "\n",
    "def infer_orbit(orbit):\n",
    "\n",
    "    s1_orbit = s1.filter(ee.Filter.eq('relativeOrbitNumber_start', orbit))\n",
    "    stats_orbit = manual_stats_from_s1(s1_orbit, start_date)\n",
    "\n",
    "    preds_proba_orbit = stats_orbit.classify(trained_clf)\n",
    "    return preds_proba_orbit\n",
    "\n",
    "orbits= ee.List(orbits_ukraine)\n",
    "orbits_preds = ee.ImageCollection(orbits.map(infer_orbit)).mean()"
   ]
  },
  {
   "cell_type": "code",
   "execution_count": null,
   "metadata": {},
   "outputs": [],
   "source": [
    "threshold = 0.75\n",
    "orbits_preds = orbits_preds.updateMask(orbits_preds.gt(threshold))\n",
    "\n",
    "urban = ee.ImageCollection(\"GOOGLE/DYNAMICWORLD/V1\").filterDate(\"2020-02-24\", \"2022-02-24\").mean().select(\"built\")\n",
    "orbits_preds = orbits_preds.updateMask(urban.gt(0.1))"
   ]
  },
  {
   "cell_type": "code",
   "execution_count": null,
   "metadata": {},
   "outputs": [],
   "source": [
    "map = geemap.Map()\n",
    "map.centerObject(ukraine_geo_ee, 6)\n",
    "map.addLayer(urban.updateMask(urban.gt(0.1)), {'min': 0, 'max': 1, 'palette': ['yellow', 'red']}, 'urban')\n",
    "map"
   ]
  },
  {
   "cell_type": "code",
   "execution_count": null,
   "metadata": {},
   "outputs": [],
   "source": [
    "map = geemap.Map()\n",
    "map.centerObject(ukraine_geo_ee, 6)\n",
    "map.addLayer(orbits_preds, {'min': threshold, 'max': 1, 'palette': ['yellow', 'red']}, 'urban_preds_above')\n",
    "map"
   ]
  },
  {
   "cell_type": "markdown",
   "metadata": {},
   "source": [
    "# Pipeline export global predictions"
   ]
  },
  {
   "cell_type": "code",
   "execution_count": null,
   "metadata": {},
   "outputs": [],
   "source": [
    "from omegaconf import OmegaConf\n",
    "\n",
    "from src.gee.data.datasets import load_dataset\n",
    "from src.utils.geometry import load_country_boundaries\n",
    "from src.utils.gee import shapely_to_gee\n",
    "from src.gee.classification.features_extractor import manual_stats_from_s1\n",
    "\n",
    "def preds_full_pipeline(start_dates_training, random_loc, n_tiles, start_date_inference, geo_inference, orbits_inference=None, verbose=1):\n",
    "    # training dataset\n",
    "    cfg_train = OmegaConf.create(\n",
    "        dict(\n",
    "            split=\"train\",\n",
    "            fold=None,\n",
    "            random_loc=random_loc,\n",
    "            keep_damage=[1, 2],\n",
    "            n_tiles=n_tiles,\n",
    "            extract_window=30,\n",
    "            start_dates=start_dates_training,\n",
    "            save_if_doesnt_exist=True,\n",
    "            verbose=verbose\n",
    "        )\n",
    "    )\n",
    "    ds_train = load_dataset(**cfg_train)\n",
    "    if verbose:\n",
    "        print(f'start_dates_training: {start_dates_training} - random_loc: {random_loc} - n_tiles: {n_tiles}')\n",
    "\n",
    "    # train classifier\n",
    "    classifier = ee.Classifier.smileRandomForest(50)\n",
    "    features_names = [\n",
    "        'VV_mean','VV_stdDev','VV_median','VV_max','VV_min','VV_skew',\n",
    "        'VV_kurtosis','VV_variance','VH_mean','VH_stdDev','VH_median',\n",
    "        'VH_max','VH_min','VH_skew','VH_kurtosis','VH_variance',\n",
    "        'VV_ptp', 'VH_ptp',\n",
    "        'VV_mean_slice0', 'VV_stdDev_slice0',\n",
    "        'VV_mean_slice1', 'VV_stdDev_slice1', 'VV_mean_slice2',\n",
    "        'VV_stdDev_slice2', 'VV_mean_slice3', 'VV_stdDev_slice3',\n",
    "        'VV_mean_slice4', 'VV_stdDev_slice4', 'VV_mean_slice5',\n",
    "        'VV_stdDev_slice5', 'VV_mean_slice6', 'VV_stdDev_slice6',\n",
    "        'VV_mean_slice7', 'VV_stdDev_slice7',\n",
    "        'VH_mean_slice0', 'VH_stdDev_slice0',\n",
    "        'VH_mean_slice1', 'VH_stdDev_slice1', 'VH_mean_slice2',\n",
    "        'VH_stdDev_slice2', 'VH_mean_slice3', 'VH_stdDev_slice3',\n",
    "        'VH_mean_slice4', 'VH_stdDev_slice4', 'VH_mean_slice5',\n",
    "        'VH_stdDev_slice5', 'VH_mean_slice6', 'VH_stdDev_slice6',\n",
    "        'VH_mean_slice7', 'VH_stdDev_slice7'\n",
    "    ]\n",
    "    trained_clf = classifier.train(features=ds_train, classProperty=\"label\", inputProperties=ee.List(features_names))\n",
    "    if verbose:\n",
    "        print('Classifier trained.')\n",
    "\n",
    "    # Sentinel-1 data\n",
    "    start_date_ee  = ee.Date(start_date_inference)\n",
    "    end_date_ee = start_date_ee.advance(12*(n_tiles+1)-1, 'day')\n",
    "    s1 = (\n",
    "        ee.ImageCollection(\"COPERNICUS/S1_GRD\")\n",
    "        .filter(ee.Filter.listContains(\"transmitterReceiverPolarisation\", \"VV\"))\n",
    "        .filter(ee.Filter.listContains(\"transmitterReceiverPolarisation\", \"VH\"))\n",
    "        .filter(ee.Filter.eq(\"instrumentMode\", \"IW\"))\n",
    "        .filter(ee.Filter.eq(\"platform_number\", \"A\"))\n",
    "        .filterDate(start_date_ee, end_date_ee)\n",
    "        .filterBounds(geo_inference)\n",
    "        .select(['VV', 'VH'])\n",
    "    )\n",
    "    if verbose:\n",
    "        print(f'Sentinel-1 data loaded from {start_date_inference}')\n",
    "\n",
    "    # Inference for each orbit and mean\n",
    "    trained_clf = trained_clf.setOutputMode('PROBABILITY')\n",
    "    def infer_orbit(orbit):\n",
    "        s1_orbit = s1.filter(ee.Filter.eq('relativeOrbitNumber_start', orbit))\n",
    "        stats_orbit = manual_stats_from_s1(s1_orbit, start_date_inference)\n",
    "        preds_proba_orbit = stats_orbit.classify(trained_clf)\n",
    "        return preds_proba_orbit\n",
    "\n",
    "    if orbits_inference is None:\n",
    "        orbits_inference = s1.aggregate_array('relativeOrbitNumber_start').distinct()\n",
    "    orbits_preds = ee.ImageCollection(ee.List(orbits_inference).map(infer_orbit)).mean()\n",
    "    if verbose:\n",
    "        print('Inference done.')\n",
    "    return orbits_preds"
   ]
  },
  {
   "cell_type": "code",
   "execution_count": null,
   "metadata": {},
   "outputs": [],
   "source": [
    "cfg_inference = dict(\n",
    "    # training\n",
    "    start_dates_training = [\"2020-10-01\", \"2021-10-01\"],\n",
    "    random_loc = 0,\n",
    "    n_tiles = 32,\n",
    "    # inference\n",
    "    start_date_inference = \"2021-10-01\",\n",
    "    geo_inference = shapely_to_gee(load_country_boundaries('Ukraine')),\n",
    "    orbits_inference = orbits_ukraine,\n",
    ")\n",
    "preds = preds_full_pipeline(**cfg_inference)"
   ]
  },
  {
   "cell_type": "code",
   "execution_count": null,
   "metadata": {},
   "outputs": [],
   "source": [
    "#  Export it\n",
    "task = ee.batch.Export.image.toDrive(\n",
    "    image=preds.multiply(2**8-1).toUint8(),\n",
    "    description=f'Predition-Ukraine-{cfg_inference[\"start_date_inference\"]}',\n",
    "    folder = 'S1tsdd-Ukraine',\n",
    "    fileNamePrefix=f'preds_Ukraine_{cfg_inference[\"start_date_inference\"]}_2dates',\n",
    "    region=cfg_inference['geo_inference'],\n",
    "    scale=10,\n",
    "    maxPixels=1e13\n",
    ")\n",
    "task.start()"
   ]
  },
  {
   "cell_type": "markdown",
   "metadata": {},
   "source": [
    "# Global predictions but for each settlements separately"
   ]
  },
  {
   "cell_type": "code",
   "execution_count": null,
   "metadata": {},
   "outputs": [],
   "source": [
    "from pathlib import Path\n",
    "from src.gee.constants import ASSETS_PATH\n",
    "\n",
    "\n",
    "def infer_for_all_settlements(settlements, start_dates_training, random_loc, n_tiles, start_date_inference):\n",
    "\n",
    "    def infer_one_settlements(f):\n",
    "        geo = f.geometry()\n",
    "        preds = preds_full_pipeline(\n",
    "            start_dates_training,\n",
    "            random_loc,\n",
    "            n_tiles,\n",
    "            start_date_inference,\n",
    "            geo,\n",
    "            orbits_inference=None,\n",
    "            verbose=0\n",
    "        )\n",
    "        preds = preds.set('settlement_id', f.get('settlement_id'))\n",
    "        return preds\n",
    "\n",
    "    preds = settlements.map(infer_one_settlements)\n",
    "    return preds"
   ]
  },
  {
   "cell_type": "code",
   "execution_count": null,
   "metadata": {},
   "outputs": [],
   "source": [
    "settlements = ee.FeatureCollection(ASSETS_PATH + 's1tsdd_Ukraine/ukraine_settlements')\n",
    "settlements = settlements.limit(5)\n",
    "cfg_inference = {\n",
    "    \"start_dates_training\": [\"2020-10-01\", \"2021-10-01\"],\n",
    "    \"random_loc\": 0,\n",
    "    \"n_tiles\": 32,\n",
    "    \"start_date_inference\": \"2021-10-01\",\n",
    "}\n",
    "preds = infer_for_all_settlements(settlements, **cfg_inference)"
   ]
  },
  {
   "cell_type": "code",
   "execution_count": null,
   "metadata": {},
   "outputs": [],
   "source": [
    "id_ = 3\n",
    "folder = \"settlements_preds_2021-10-01_2dates_32d\"\n",
    "name = f'settlement_{id_}'\n",
    "pred_settlement = ee.Image(preds.filterMetadata('settlement_id', 'equals', id_).first())\n",
    "geo = settlements.filterMetadata('settlement_id', 'equals', id_).first().geometry()\n",
    "description = f'Ukraine_settlement_{id_}_2021-10-01_2dates_32d'\n",
    "# geemap.ee_export_image(\n",
    "#     pred_settlement.multiply(2**8-1).toUint8(),\n",
    "#     filename=f'{name}.tif',\n",
    "#     scale=10,\n",
    "#     region=geo\n",
    "# )\n",
    "# task = ee.batch.Export.image.toDrive(\n",
    "#     image=pred_settlement.multiply(2**8-1).toUint8(),\n",
    "#     description=description,\n",
    "#     folder=folder,\n",
    "#     fileNamePrefix=name,\n",
    "#     region=geo,\n",
    "#     scale=10,\n",
    "# )\n",
    "# task.start()"
   ]
  },
  {
   "cell_type": "code",
   "execution_count": null,
   "metadata": {},
   "outputs": [],
   "source": [
    "map = geemap.Map()\n",
    "map.addLayer(pred_settlement, {'min': 0, 'max': 1, 'palette': ['yellow', 'red']}, 'urban_preds_above')\n",
    "map"
   ]
  },
  {
   "cell_type": "code",
   "execution_count": null,
   "metadata": {},
   "outputs": [],
   "source": [
    "folder = \"settlements_preds_2021-10-01_2dates_32d\"\n",
    "for id_ in settlements.aggregate_array('settlement_id').getInfo():\n",
    "    name = f'settlement_{id_}'\n",
    "    pred_settlement = ee.Image(preds.filterMetadata('settlement_id', 'equals', id_).first())\n",
    "    geo = settlements.filterMetadata('settlement_id', 'equals', id_).first().geometry()\n",
    "    description = f'Ukraine_settlement_{id_}_2021-10-01_2dates_32d'\n",
    "    task = ee.batch.Export.image.toDrive(\n",
    "        image=pred_settlement.multiply(2**8-1).toUint8(),\n",
    "        description=description,\n",
    "        folder=folder,\n",
    "        fileNamePrefix=name,\n",
    "        region=geo,\n",
    "        scale=10,\n",
    "    )\n",
    "    task.start()"
   ]
  },
  {
   "cell_type": "code",
   "execution_count": null,
   "metadata": {},
   "outputs": [],
   "source": [
    "from src.gee.utils import draw_polygon_edges\n",
    "threshold = 0.65\n",
    "pred_settlement = pred_settlement.updateMask(pred_settlement.gt(threshold))\n",
    "\n",
    "#urban = ee.ImageCollection(\"GOOGLE/DYNAMICWORLD/V1\").filterDate(\"2020-02-24\", \"2022-02-24\").mean().select(\"built\")\n",
    "#orbits_preds = orbits_preds.updateMask(urban.gt(0.1))\n",
    "\n",
    "map = geemap.Map()\n",
    "map.centerObject(geo, 12)\n",
    "draw_polygon_edges(geo, map)\n",
    "map.addLayer(pred_settlement, {'min': threshold, 'max': 1, 'palette': ['yellow', 'red']}, 'urban_preds_above')\n",
    "map"
   ]
  },
  {
   "cell_type": "code",
   "execution_count": null,
   "metadata": {},
   "outputs": [],
   "source": []
  },
  {
   "cell_type": "code",
   "execution_count": null,
   "metadata": {},
   "outputs": [],
   "source": [
    "map = geemap.Map()\n",
    "map.centerObject(geo, 12)\n",
    "map.addLayer(pred_settlement.multiply(2**8-1).toUint8(), {'min': 128, 'max': 255, 'palette': ['yellow', 'red']}, 'preds')\n",
    "map"
   ]
  },
  {
   "cell_type": "code",
   "execution_count": null,
   "metadata": {},
   "outputs": [],
   "source": [
    "list_tasks = []\n",
    "list_errors = []\n",
    "folder = \"settlements_preds_2021-10-01_2dates_32d\"\n",
    "for id_ in settlements.aggregate_array('settlement_id').getInfo():\n",
    "\n",
    "    name = f'settlement_{id_}'\n",
    "    try:\n",
    "        pred_settlement = ee.Image(preds.filterMetadata('settlement_id', 'equals', id_).first())\n",
    "        geo = settlements.filterMetadata('settlement_id', 'equals', id_).first().geometry()\n",
    "        description = f'Ukraine_settlement_{id_}_2021-10-01_2dates_32d'\n",
    "        task = ee.batch.Export.image.toDrive(\n",
    "            image=pred_settlement.multiply(2**8-1).toUint8(),\n",
    "            description=description,\n",
    "            folder=folder,\n",
    "            fileNamePrefix=name,\n",
    "            region=geo,\n",
    "            scale=10,\n",
    "\n",
    "        )\n",
    "        task.start()\n",
    "        list_tasks.append(name)\n",
    "        if id_ % 10 == 0:\n",
    "            print(f'Exporting {name}...')\n",
    "    except Exception as e:\n",
    "        print(e)\n",
    "        list_errors.append(name)"
   ]
  },
  {
   "cell_type": "code",
   "execution_count": null,
   "metadata": {},
   "outputs": [],
   "source": [
    "from src.gee.utils import draw_polygon_edges\n",
    "threshold = 0.65\n",
    "preds = preds.updateMask(preds.gt(threshold))\n",
    "\n",
    "#urban = ee.ImageCollection(\"GOOGLE/DYNAMICWORLD/V1\").filterDate(\"2020-02-24\", \"2022-02-24\").mean().select(\"built\")\n",
    "#orbits_preds = orbits_preds.updateMask(urban.gt(0.1))\n",
    "\n",
    "map = geemap.Map()\n",
    "map.centerObject(settlement, 12)\n",
    "draw_polygon_edges(settlement.geometry(), map)\n",
    "map.addLayer(preds, {'min': threshold, 'max': 1, 'palette': ['yellow', 'red']}, 'urban_preds_above')\n",
    "map"
   ]
  }
 ],
 "metadata": {
  "kernelspec": {
   "display_name": "Python 3",
   "language": "python",
   "name": "python3"
  },
  "language_info": {
   "codemirror_mode": {
    "name": "ipython",
    "version": 3
   },
   "file_extension": ".py",
   "mimetype": "text/x-python",
   "name": "python",
   "nbconvert_exporter": "python",
   "pygments_lexer": "ipython3",
   "version": "3.8.18"
  }
 },
 "nbformat": 4,
 "nbformat_minor": 2
}
