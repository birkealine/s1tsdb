{
<<<<<<< HEAD
 "cells": [
  {
   "cell_type": "code",
   "execution_count": null,
   "metadata": {},
   "outputs": [],
   "source": [
    "%load_ext autoreload\n",
    "%autoreload 2"
   ]
  },
  {
   "cell_type": "markdown",
   "metadata": {},
   "source": [
    "# Demo Progress 08.12.2023"
   ]
  },
  {
   "cell_type": "code",
   "execution_count": null,
   "metadata": {},
   "outputs": [],
   "source": [
    "run_name = 'sliding_window_train_random15'"
   ]
  },
  {
   "cell_type": "markdown",
   "metadata": {},
   "source": [
    "## How the model currently works"
   ]
  },
  {
   "cell_type": "markdown",
   "metadata": {},
   "source": [
    "### Sliding window"
   ]
  },
  {
   "cell_type": "code",
   "execution_count": null,
   "metadata": {},
   "outputs": [],
   "source": [
    "import numpy as np\n",
    "import pandas as pd\n",
    "import matplotlib.pyplot as plt\n",
    "import ipywidgets as widgets\n",
    "from ipywidgets import interact\n",
    "import datetime as dt\n",
    "from src.visualization.time_series import plot_ts\n",
    "from src.data.utils import read_ts\n",
    "from src.data.time_series.create_dataset_ts import get_df_ts\n",
    "from src.full_run import extract_features\n",
    "\n",
    "SLIDING_COLOR = \"lightgray\"\n",
    "PREDS_COLOR = \"firebrick\"\n",
    "\n",
    "\n",
    "def predict_for_each_date(ts, model, start_dates):\n",
    "    results = {}\n",
    "    for start_date in start_dates:\n",
    "        df_ts = get_df_ts(ts, start_date, n_dates=32).set_index(\n",
    "            [\"aoi\", \"orbit\", \"unosat_id\", \"start_month\", \"label\", \"band\"]\n",
    "        )\n",
    "        df_stats = extract_features(df_ts)\n",
    "        X = df_stats[[c for c in df_stats.columns if c.startswith((\"VV\", \"VH\"))]].values\n",
    "        y = df_stats.label.values\n",
    "        preds = model.predict_proba(X)\n",
    "        results[start_date] = {\"preds\": preds[0, 1], \"label\": y[0] if y[0] != -1 else None}\n",
    "    df_results = pd.DataFrame(results).T\n",
    "    df_results.index = pd.to_datetime(df_results.index)\n",
    "    return df_results\n",
    "\n",
    "\n",
    "def _plot_label(df, ax, color):\n",
    "    \"\"\"Plot separately negative and postiive to avoid line between them\"\"\"\n",
    "    df_pos = df[df.label == 1]\n",
    "    df_neg = df[df.label == 0]\n",
    "    ax.plot(df_neg.index, df_neg.label, color=color, label=\"label\")\n",
    "    ax.plot(df_pos.index, df_pos.label, color=color)\n",
    "    return ax\n",
    "\n",
    "\n",
    "def sliding_predictions(ts, model, earliest_date=\"2020-06-01\", latest_date=\"2022-06-01\"):\n",
    "    # For each model, predict for each month\n",
    "    start_dates = pd.date_range(earliest_date, latest_date, freq=\"MS\").strftime(\"%Y-%m-%d\").tolist()\n",
    "    df_results = predict_for_each_date(ts, model, start_dates)\n",
    "\n",
    "    def analyze_result(start_date):\n",
    "        ts_ = ts.sel(date=slice(start_date, None)).isel(date=slice(0, 32))\n",
    "        first_date = ts_.date[0].dt.strftime(\"%Y-%m-%d\").item()\n",
    "        last_date = ts_.date[-1].dt.strftime(\"%Y-%m-%d\").item()\n",
    "\n",
    "        _, axs = plt.subplots(2, 1, figsize=(10, 10))\n",
    "\n",
    "        # Plot TS with sliding window\n",
    "        plot_ts(ts, axs[0], loc_legend=\"lower left\")\n",
    "        axs[0].set_xlim(\n",
    "            [dt.date.fromisoformat(earliest_date), dt.date.fromisoformat(latest_date) + dt.timedelta(days=32 * 12)]\n",
    "        )\n",
    "        axs[0].axvspan(first_date, last_date, color=SLIDING_COLOR, alpha=0.3)\n",
    "\n",
    "        # Plot predictions for each model vs true labels\n",
    "        _plot_label(df_results, ax=axs[1], color=\"k\")\n",
    "\n",
    "        label = f\"predictions\"\n",
    "        axs[1].plot(df_results.index, df_results.preds, label=label, color=PREDS_COLOR)\n",
    "        axs[1].axvline(dt.date.fromisoformat(start_date), color=SLIDING_COLOR, linewidth=3)\n",
    "        axs[1].axhline(0.5, color=\"k\", linestyle=\"--\")\n",
    "        axs[1].set_title(\"Predictions vs Labels\")\n",
    "        axs[1].set_ylabel(\"Probability of destruction\")\n",
    "        axs[1].set_xlabel(\"Start Month\")\n",
    "        axs[1].legend(loc=\"upper left\")\n",
    "        plt.tight_layout()\n",
    "\n",
    "    date_slider = widgets.SelectionSlider(options=start_dates, description=\"Start Date\", continuous_update=True)\n",
    "    interact(analyze_result, start_date=date_slider)"
   ]
  },
  {
   "cell_type": "code",
   "execution_count": null,
   "metadata": {},
   "outputs": [],
   "source": [
    "from src.constants import LOGS_PATH\n",
    "import joblib\n",
    "\n",
    "aoi = \"UKR15\"\n",
    "orbit = 65\n",
    "id_ = 15487\n",
    "extraction_strategy = \"3x3\"\n",
    "ts = read_ts(aoi, orbit, id_, extraction_strategy=extraction_strategy)\n",
    "model = joblib.load(LOGS_PATH / run_name / 'model' / f'{run_name}.joblib')\n",
    "sliding_predictions(ts, model)"
   ]
  },
  {
   "cell_type": "markdown",
   "metadata": {},
   "source": [
    "### Make video"
   ]
  },
  {
   "cell_type": "code",
   "execution_count": null,
   "metadata": {},
   "outputs": [],
   "source": [
    "from pathlib import Path\n",
    "from PIL import Image\n",
    "from tqdm import tqdm\n",
    "\n",
    "aoi = \"UKR15\"\n",
    "orbit = 65\n",
    "id_ = 15487\n",
    "extraction_strategy = \"3x3\"\n",
    "ts = read_ts(aoi, orbit, id_, extraction_strategy=extraction_strategy)\n",
    "earliest_date = \"2020-06-01\"\n",
    "latest_date = \"2022-06-01\"\n",
    "start_dates = pd.date_range(earliest_date, latest_date, freq=\"MS\").strftime(\"%Y-%m-%d\").tolist()\n",
    "df_results = predict_for_each_date(ts, model, start_dates)\n",
    "\n",
    "# Plot TS with sliding window\n",
    "frames = []\n",
    "imgs_folder = Path('./preds_video')\n",
    "imgs_folder.mkdir(exist_ok=True)\n",
    "for i, start_date in tqdm(enumerate(start_dates)):\n",
    "    _, axs = plt.subplots(2, 1, figsize=(10, 10))\n",
    "\n",
    "    ts_ = ts.sel(date=slice(start_date, None)).isel(date=slice(0, 32))\n",
    "    first_date = ts_.date[0].dt.strftime(\"%Y-%m-%d\").item()\n",
    "    last_date = ts_.date[-1].dt.strftime(\"%Y-%m-%d\").item()\n",
    "    plot_ts(ts, axs[0], loc_legend=\"lower left\")\n",
    "    axs[0].set_xlim(\n",
    "        [dt.date.fromisoformat(earliest_date), dt.date.fromisoformat(latest_date) + dt.timedelta(days=32 * 12)]\n",
    "    )\n",
    "    axs[0].axvspan(first_date, last_date, color=SLIDING_COLOR, alpha=0.7)\n",
    "    _plot_label(df_results, ax=axs[1], color=\"k\")\n",
    "\n",
    "    label = f\"predictions\"\n",
    "    axs[1].plot(df_results.index[:i+1], df_results.preds[:i+1], label=label, color=PREDS_COLOR, marker=\"o\")\n",
    "    axs[1].axvline(dt.date.fromisoformat(start_date), color=SLIDING_COLOR, linewidth=3)\n",
    "    axs[1].set_xlim([dt.date.fromisoformat(earliest_date), dt.date.fromisoformat(latest_date)])\n",
    "    axs[1].axhline(0.5, color=\"k\", linestyle=\"--\")\n",
    "    axs[1].set_title(\"Predictions vs Labels\")\n",
    "    axs[1].set_ylabel(\"Probability of destruction\")\n",
    "    axs[1].set_xlabel(\"Start Month\")\n",
    "    axs[1].legend(loc=\"upper left\")\n",
    "    # plt.tight_layout()\n",
    "\n",
    "    filename = imgs_folder / f'{i:03d}.png'\n",
    "    plt.tight_layout()\n",
    "    plt.savefig(filename, bbox_inches='tight')\n",
    "    plt.close()\n",
    "\n",
    "    frames.append(Image.open(filename))\n",
    "\n",
    "# Save into a GIF\n",
    "frames[0].save(imgs_folder / 'output.gif', format='GIF',\n",
    "               append_images=frames[1:],\n",
    "               save_all=True,\n",
    "               duration=300, loop=0)"
   ]
  },
  {
   "cell_type": "markdown",
   "metadata": {},
   "source": [
    "### Average over all satellite passes"
   ]
  },
  {
   "cell_type": "code",
   "execution_count": null,
   "metadata": {},
   "outputs": [],
   "source": [
    "from src.data.utils import get_all_ts_orbit\n",
    "\n",
    "def predict_all_ts(d_ts, model, start_dates):\n",
    "    # Get single datafrme with all TS\n",
    "    df_ = []\n",
    "    for ts in d_ts.values():\n",
    "        for start_date in start_dates:\n",
    "            df_ts = get_df_ts(ts, start_date, n_dates=32).set_index(\n",
    "                [\"aoi\", \"orbit\", \"unosat_id\", \"start_month\", \"label\", \"band\"]\n",
    "            )\n",
    "            df_.append(df_ts)\n",
    "    df_ts = pd.concat(df_)\n",
    "\n",
    "    # Extract features\n",
    "    df_stats = extract_features(df_ts)\n",
    "    df_stats.loc[(df_stats.label == -1), \"label\"] = None\n",
    "    X = df_stats[[c for c in df_stats.columns if c.startswith((\"VV\", \"VH\"))]].values\n",
    "\n",
    "    # Predict and store in dataframe\n",
    "    df_preds = df_stats[[\"orbit\", \"start_month\", \"label\"]].copy()\n",
    "    preds = model.predict_proba(X)[:, 1]\n",
    "    df_preds[f\"preds\"] = preds\n",
    "    df_preds.start_month = pd.to_datetime(df_preds.start_month)\n",
    "    df_preds.set_index([\"orbit\", \"start_month\", \"label\"], inplace=True)\n",
    "    return df_preds\n",
    "\n",
    "\n",
    "def sliding_predictions_all_orbits(\n",
    "    aoi, id_, extraction_strategy, model, earliest_date=\"2020-06-01\", latest_date=\"2022-06-01\"\n",
    "):\n",
    "    # Read all TS\n",
    "    d_ts = get_all_ts_orbit(aoi, id_, extraction_strategy=extraction_strategy)\n",
    "    start_dates = pd.date_range(earliest_date, latest_date, freq=\"MS\").strftime(\"%Y-%m-%d\").tolist()\n",
    "\n",
    "    # For each model, predict each month\n",
    "    df_preds = predict_all_ts(d_ts, model, start_dates)\n",
    "    d_agg = {\"preds\": \"mean\", \"label\": \"first\"}\n",
    "    df_preds_agg = df_preds.reset_index().groupby([\"start_month\"]).agg(d_agg)\n",
    "\n",
    "    def plot_results(start_date, plot_all_orbits):\n",
    "\n",
    "        # Prepare axes\n",
    "        grid_rows = 2 if len(d_ts) > 2 else 1\n",
    "        grid_cols = 2\n",
    "        fig = plt.figure(figsize=(grid_cols * 10, (grid_rows + 1) * 5))\n",
    "        axs = []\n",
    "        for i in range(len(d_ts)):\n",
    "            axs.append(plt.subplot2grid((grid_rows + 1, grid_cols), (i // grid_cols, i % grid_cols)))\n",
    "        ax_last = plt.subplot2grid((grid_rows + 1, grid_cols), (grid_rows, 0), colspan=grid_cols)\n",
    "\n",
    "        for i, (orbit, ts) in enumerate(d_ts.items()):\n",
    "            # Plot Time Series\n",
    "            ts_ = ts.sel(date=slice(start_date, None)).isel(date=slice(0, 32))\n",
    "            first_date = ts_.date[0].dt.strftime(\"%Y-%m-%d\").item()\n",
    "            last_date = ts_.date[-1].dt.strftime(\"%Y-%m-%d\").item()\n",
    "            plot_ts(ts, axs[i], loc_legend=\"lower left\")\n",
    "            axs[i].set_xlim(\n",
    "                [dt.date.fromisoformat(earliest_date), dt.date.fromisoformat(latest_date) + dt.timedelta(days=32 * 12)]\n",
    "            )\n",
    "            axs[i].axvspan(first_date, last_date, color=SLIDING_COLOR, alpha=0.3)\n",
    "\n",
    "            # Plot predictions\n",
    "            if plot_all_orbits:\n",
    "                df_preds_orbit = df_preds.reset_index(level='label').loc[orbit]\n",
    "                ax_last.plot(df_preds_orbit.index, df_preds_orbit[f\"preds\"], color=PREDS_COLOR, alpha=0.4, linestyle='--')\n",
    "\n",
    "        # Plot predictions aggregated\n",
    "        label = \"predictions\"\n",
    "        ax_last.plot(\n",
    "            df_preds_agg.index,\n",
    "            df_preds_agg[f\"preds\"],\n",
    "            label=label,\n",
    "            color=PREDS_COLOR,\n",
    "            linewidth=3,\n",
    "        )\n",
    "\n",
    "        # Plot labels\n",
    "        _plot_label(df_preds_agg, ax=ax_last, color=\"k\")\n",
    "\n",
    "        ax_last.axvline(dt.date.fromisoformat(start_date), color=SLIDING_COLOR, linewidth=3)\n",
    "        ax_last.axhline(0.5, color=\"k\", linestyle=\"--\")\n",
    "        ax_last.set_ylim([-0.05, 1.05]) # to see the label\n",
    "        ax_last.set_title(\"Predictions vs Labels\")\n",
    "        ax_last.set_ylabel(\"Probability\")\n",
    "        ax_last.set_xlabel(\"Start Month\")\n",
    "        ax_last.legend(loc=\"upper left\")\n",
    "        plt.tight_layout()\n",
    "\n",
    "    date_slider = widgets.SelectionSlider(options=start_dates, description=\"Start Date\", continuous_update=True)\n",
    "    all_orbits_checkbox = widgets.Checkbox(value=True, description=\"Plot all orbits\")\n",
    "    interact(plot_results, start_date=date_slider, plot_all_orbits=all_orbits_checkbox)"
   ]
  },
  {
   "cell_type": "code",
   "execution_count": null,
   "metadata": {},
   "outputs": [],
   "source": [
    "aoi = \"UKR15\"\n",
    "id_ = 15487\n",
    "extraction_strategy = \"3x3\"\n",
    "sliding_predictions_all_orbits(aoi, id_, extraction_strategy, model)"
   ]
  },
  {
   "cell_type": "code",
   "execution_count": null,
   "metadata": {},
   "outputs": [],
   "source": [
    "from src.data.utils import get_random_id\n",
    "from src.constants import AOIS_TEST\n",
    "id_, aoi = get_random_id(AOIS_TEST, return_aoi=True, seed=42)\n",
    "sliding_predictions_all_orbits(aoi, id_, extraction_strategy, model)"
   ]
  },
  {
   "cell_type": "code",
   "execution_count": null,
   "metadata": {},
   "outputs": [],
   "source": [
    "id_, aoi = get_random_id(AOIS_TEST, return_aoi=True, seed=12)\n",
    "sliding_predictions_all_orbits(aoi, id_, extraction_strategy, model)"
   ]
  },
  {
   "cell_type": "markdown",
   "metadata": {},
   "source": [
    "## Dense Predictions"
   ]
  },
  {
   "cell_type": "code",
   "execution_count": null,
   "metadata": {},
   "outputs": [],
   "source": [
    "import ipywidgets as widgets\n",
    "from ipywidgets import interact, fixed\n",
    "import pandas as pd\n",
    "from src.constants import LOGS_PATH\n",
    "\n",
    "from src.visualization.dense_predictions import plot_dense_predictions\n",
    "\n",
    "def plot_dense_predictions_slider(aoi, folder, earliest_date=\"2020-06-01\", latest_date=\"2022-06-01\"):\n",
    "\n",
    "    threshold_slider = widgets.SelectionSlider(\n",
    "        options=[0.5, 0.55, 0.6, 0.65, 0.7, 0.75, 0.8, 0.85], description=\"Threshold\", continuous_update=True\n",
    "    )\n",
    "    start_dates = pd.date_range(earliest_date, latest_date, freq=\"MS\").strftime(\"%Y-%m-%d\").tolist()\n",
    "    dates_slider = widgets.SelectionSlider(options=start_dates, description=\"Start Date\", continuous_update=True)\n",
    "    interact(plot_dense_predictions, start_date=dates_slider, threshold=threshold_slider, aoi=fixed(aoi), folder=fixed(folder), show=fixed(True), ax=fixed(None))"
   ]
  },
  {
   "cell_type": "code",
   "execution_count": null,
   "metadata": {},
   "outputs": [],
   "source": [
    "aoi = \"UKR6\"\n",
    "folder = LOGS_PATH / run_name / \"predictions\" / aoi\n",
    "plot_dense_predictions_slider(aoi, folder)"
   ]
  },
  {
   "cell_type": "code",
   "execution_count": null,
   "metadata": {},
   "outputs": [],
   "source": [
    "from src.constants import RAW_S1_PATH\n",
    "from src.data.sentinel1.utils import read_s1\n",
    "import os\n",
    "# get mean size of all images\n",
    "orbits = os.listdir(RAW_S1_PATH / 'Zaporizhzhya')\n",
    "for orbit in orbits:\n",
    "    fps = list((RAW_S1_PATH / 'Zaporizhzhya' / orbit).glob('*.tif'))\n",
    "    sizes = []\n",
    "    for fp in fps:\n",
    "        try:\n",
    "            s1 = read_s1(fp)\n",
    "        except:\n",
    "            print(fp.name)"
   ]
  },
  {
   "cell_type": "code",
   "execution_count": null,
   "metadata": {},
   "outputs": [],
   "source": [
    "def plot_dense_predictions_side_by_side(aoi, folder1, folder2, start_date, threshold):\n",
    "    fig, axs = plt.subplots(1, 2, figsize=(20, 10))\n",
    "    plot_dense_predictions(aoi, folder1, start_date, threshold, False, axs[0])\n",
    "    plot_dense_predictions(aoi, folder2, start_date, threshold, False, axs[1])\n",
    "    plt.suptitle(f'{folder1.parents[1].name} vs {folder2.parents[1].name}', fontsize=18)\n",
    "    plt.tight_layout()\n",
    "\n",
    "def plot_dense_predictions_slider_side_by_side(aoi, folder1, folder2, earliest_date=\"2020-06-01\", latest_date=\"2022-06-01\"):\n",
    "\n",
    "    threshold_slider = widgets.SelectionSlider(\n",
    "        options=[0.5, 0.55, 0.6, 0.65, 0.7, 0.75, 0.8, 0.85], description=\"Threshold\", continuous_update=True\n",
    "    )\n",
    "    start_dates = pd.date_range(earliest_date, latest_date, freq=\"MS\").strftime(\"%Y-%m-%d\").tolist()\n",
    "    dates_slider = widgets.SelectionSlider(options=start_dates, description=\"Start Date\", continuous_update=True)\n",
    "\n",
    "    interact(plot_dense_predictions_side_by_side, start_date=dates_slider, threshold=threshold_slider, aoi=fixed(aoi), folder1=fixed(folder1), folder2=fixed(folder2), show=fixed(True))"
   ]
  },
  {
   "cell_type": "code",
   "execution_count": null,
   "metadata": {},
   "outputs": [],
   "source": [
    "run_name2 = \"3x3\"\n",
    "folder2 = LOGS_PATH / run_name2 / \"predictions\" / aoi\n",
    "plot_dense_predictions_slider_side_by_side(aoi, folder, folder2)"
   ]
  },
  {
   "cell_type": "markdown",
   "metadata": {},
   "source": [
    "## Zooms on interesting areas\n",
    "cf QGIS/slides"
   ]
  },
  {
   "cell_type": "markdown",
   "metadata": {},
   "source": [
    "# Microsoft buildings"
   ]
  },
  {
   "cell_type": "code",
   "execution_count": null,
   "metadata": {},
   "outputs": [],
   "source": [
    "from pathlib import Path\n",
    "import matplotlib.pyplot as plt\n",
    "import numpy as np\n",
    "import rioxarray as rxr\n",
    "from shapely.geometry import box\n",
    "from src.data.microsoft_buildings import load_microsoft_unosat_buildings\n",
    "from src.constants import CRS_GLOBAL, NO_DATA_VALUE\n",
    "from src.data.unosat import get_unosat_geometry\n",
    "import geopandas as gpd\n",
    "import pandas as pd\n",
    "from matplotlib.colors import ListedColormap\n",
    "from tqdm import tqdm\n",
    "\n",
    "\n",
    "def extract_raster_value(point, raster):\n",
    "    value = raster.sel(x=point.x, y=point.y, method=\"nearest\").item()\n",
    "    return value\n",
    "\n",
    "\n",
    "def get_buildings_with_preds_proba(aoi, folder, geo=None):\n",
    "    # Load Microsoft buildings footprints\n",
    "    buildings = load_microsoft_unosat_buildings(aoi)\n",
    "\n",
    "    # Default to entire AOI\n",
    "    if geo is None:\n",
    "        geo = get_unosat_geometry(aoi)\n",
    "\n",
    "    start_dates = pd.date_range(\"2020-06-01\", \"2022-06-01\", freq=\"MS\").strftime(\"%Y-%m-%d\").tolist()\n",
    "    for i, start_date in tqdm(enumerate(start_dates)):\n",
    "        # Read predictions\n",
    "        preds = rxr.open_rasterio(folder / f\"{start_date}.tif\").squeeze()\n",
    "\n",
    "        if i == 0:\n",
    "            # Clip buildings to geo and compute centroids\n",
    "            geo_crs = gpd.GeoDataFrame(None, geometry=[geo], crs=CRS_GLOBAL).to_crs(preds.rio.crs).iloc[0].geometry\n",
    "            buildings_ = buildings.to_crs(preds.rio.crs).copy()\n",
    "            buildings_ = buildings_[buildings_.intersects(geo_crs)].clip(geo_crs).copy()\n",
    "            buildings_[\"centroid\"] = buildings_.geometry.centroid\n",
    "\n",
    "        # Extract prediction values for each building\n",
    "        preds_clipped = preds.rio.clip([geo_crs])\n",
    "        buildings_[start_date] = buildings_[\"centroid\"].apply(lambda x: extract_raster_value(x, preds_clipped))\n",
    "\n",
    "    buildings_ = buildings_.replace(NO_DATA_VALUE, 0)\n",
    "    return buildings_"
   ]
  },
  {
   "cell_type": "code",
   "execution_count": null,
   "metadata": {},
   "outputs": [],
   "source": [
    "from src.constants import LOGS_PATH\n",
    "from src.data.unosat import get_unosat_geometry\n",
    "\n",
    "aoi = \"UKR6\"\n",
    "folder = LOGS_PATH / run_name / \"predictions\" / aoi\n",
    "geo = get_unosat_geometry(aoi) #  box(31.365, 51.525, 31.375, 51.53)\n",
    "buildings_with_preds = get_buildings_with_preds_proba(aoi, folder, geo=geo)"
   ]
  },
  {
   "cell_type": "code",
<<<<<<< HEAD
<<<<<<< HEAD
=======
=======
>>>>>>> 74c5513f151a463e1bca389700135d3ff404a4db
   "execution_count": null,
   "metadata": {},
   "outputs": [],
   "source": [
    "aoi = \"UKR1\"\n",
    "folder = LOGS_PATH / run_name / \"predictions\" / aoi\n",
    "buildings = load_microsoft_unosat_buildings(aoi)\n",
    "buildings[['geometry']].explore()"
   ]
  },
  {
   "cell_type": "code",
>>>>>>> 74c5513 (save before holidays)
   "execution_count": null,
   "metadata": {},
   "outputs": [],
   "source": []
  },
  {
   "cell_type": "code",
   "execution_count": null,
   "metadata": {},
   "outputs": [],
   "source": [
    "buildings_with_preds.head()"
   ]
  },
  {
   "cell_type": "code",
   "execution_count": null,
   "metadata": {},
   "outputs": [],
   "source": [
    "buildings_with_preds.dtypes"
   ]
  },
  {
   "cell_type": "code",
   "execution_count": null,
   "metadata": {},
   "outputs": [],
   "source": []
  },
  {
   "cell_type": "code",
   "execution_count": null,
   "metadata": {},
   "outputs": [],
<<<<<<< HEAD
=======
   "source": [
    "buildings_with_preds.head()"
   ]
  },
  {
   "cell_type": "code",
   "execution_count": null,
   "metadata": {},
   "outputs": [],
   "source": [
    "buildings_with_preds.dtypes"
   ]
  },
  {
   "cell_type": "code",
   "execution_count": null,
   "metadata": {},
   "outputs": [],
   "source": []
  },
  {
   "cell_type": "code",
   "execution_count": null,
   "metadata": {},
   "outputs": [],
>>>>>>> 74c5513f151a463e1bca389700135d3ff404a4db
   "source": [
    "# save as geojson\n",
    "buildings_with_preds.drop(\"centroid\", axis=1).to_file(folder / \"buildings_with_preds.geojson\", driver=\"GeoJSON\")"
   ]
  },
  {
   "cell_type": "code",
   "execution_count": null,
   "metadata": {},
   "outputs": [],
   "source": [
    "from src.constants import DAMAGE_SCHEME, DAMAGE_COLORS\n",
    "import matplotlib.patches as mpatches\n",
    "import contextily as ctx\n",
    "import ipywidgets as widgets\n",
    "from ipywidgets import interact\n",
    "\n",
    "\n",
    "def plot_buildings_unosat(buildings, ax=None, legend=True, damage_key=\"damage_2m\", labels_to_keep=None, **kwargs):\n",
    "    if buildings.empty:\n",
    "        return ax\n",
    "\n",
    "    if ax is None:\n",
    "        _, ax = plt.subplots()\n",
    "\n",
    "    # Plot destroyed buildings with corresponding color\n",
    "    buildings_ = buildings[~buildings[damage_key].isna()]\n",
    "\n",
    "    if labels_to_keep is not None:\n",
    "        buildings_ = buildings_[buildings_[damage_key].isin(labels_to_keep)]\n",
    "\n",
    "    for key, group in buildings_.groupby(damage_key):\n",
    "        group.plot(color=DAMAGE_COLORS[key], ax=ax, **kwargs)\n",
    "\n",
    "    # Plot buildings outline\n",
    "    buildings.plot(ax=ax, facecolor=\"none\", edgecolor=\"k\")\n",
    "\n",
    "    if legend:\n",
    "        # Create a patch (proxy artist) for each damage category\n",
    "        patches = [\n",
    "            mpatches.Patch(color=DAMAGE_COLORS[key], label=DAMAGE_SCHEME[key])\n",
    "            for key in sorted(buildings_[damage_key].unique())\n",
    "        ]\n",
    "\n",
    "        # Add legend to the plot\n",
    "        ax.legend(handles=patches, title=\"Damage Categories\", fontsize=\"small\")\n",
    "\n",
    "    ax.set_title(\"Msft Buildings with UNOSAT Labels\")\n",
    "    ctx.add_basemap(ax, crs=buildings.crs, zoom=14, source=ctx.providers.CartoDB.VoyagerNoLabels)\n",
    "\n",
    "    return ax\n",
    "\n",
    "\n",
    "import matplotlib.cm as cm\n",
    "import matplotlib.colors as colors\n",
    "\n",
    "\n",
    "def plot_preds_msft(buildings, start_date, threshold=0.5, ax=None):\n",
    "    if ax is None:\n",
    "        _, ax = plt.subplots()\n",
    "\n",
    "    im = buildings[buildings[start_date] > threshold].plot(\n",
    "        start_date,\n",
    "        cmap=\"YlOrRd\",\n",
    "        ax=ax,\n",
    "        vmin=0.5,\n",
    "        vmax=1.0,\n",
    "        legend=True,\n",
    "        legend_kwds={\"label\": \"Probability\", \"fraction\": 0.046, \"pad\": 0.04},\n",
    "    )\n",
    "    buildings.plot(ax=ax, facecolor=\"none\", edgecolor=\"k\")\n",
    "    ax.set_title(f\"Msft Buildings with Predictions - {start_date}\")\n",
    "    ctx.add_basemap(\n",
    "        ax, crs=buildings.crs, zoom=14, source=ctx.providers.CartoDB.VoyagerNoLabels\n",
    "    )  # CartoDB.VoyagerNoLabels)\n",
    "\n",
    "    # Create a fake ScalarMappable for the colorbar\n",
    "    # cmap = cm.YlOrRd\n",
    "    # norm = colors.Normalize(vmin=0.5, vmax=1.0)\n",
    "    # sm = cm.ScalarMappable(cmap=cmap, norm=norm)\n",
    "    # sm.set_array([])  # You can set an array of values here if you want different color ranges\n",
    "    return ax\n",
    "\n",
    "\n",
    "def plot_buildings_labels_vs_preds(start_date, threshold, show=True, save_fp=None):\n",
    "    _, axs = plt.subplots(1, 2, figsize=(20, 14))\n",
    "    plot_buildings_unosat(buildings_with_preds, ax=axs[0], labels_to_keep=[1, 2])\n",
    "    plot_preds_msft(buildings_with_preds, start_date=start_date, threshold=threshold, ax=axs[1])\n",
    "    if save_fp:\n",
    "        plt.savefig(save_fp, dpi=300, bbox_inches=\"tight\")\n",
    "    if show:\n",
    "        plt.show()\n",
    "    else:\n",
    "        plt.close()\n",
    "\n",
    "\n",
    "def plot_buildings_labels_vs_preds_slider():\n",
    "    threshold_slider = widgets.SelectionSlider(\n",
    "        options=[0.5, 0.55, 0.6, 0.65, 0.7, 0.75, 0.8, 0.85], description=\"Threshold\", continuous_update=True\n",
    "    )\n",
    "    start_dates = pd.date_range(\"2020-06-01\", \"2022-06-01\", freq=\"MS\").strftime(\"%Y-%m-%d\").tolist()\n",
    "    dates_slider = widgets.SelectionSlider(options=start_dates, description=\"Start Date\", continuous_update=True)\n",
    "    interact(plot_buildings_labels_vs_preds, start_date=dates_slider, threshold=threshold_slider, show=fixed(True), save_fp=fixed(None))"
   ]
  },
  {
   "cell_type": "code",
   "execution_count": null,
   "metadata": {},
   "outputs": [],
   "source": [
    "plot_buildings_labels_vs_preds_slider()"
   ]
  },
  {
   "cell_type": "code",
   "execution_count": null,
   "metadata": {},
   "outputs": [],
   "source": [
    "start_dates = pd.date_range(\"2020-06-01\", \"2022-06-01\", freq=\"MS\").strftime(\"%Y-%m-%d\").tolist()\n",
    "video_folder = Path(\"./video\")\n",
    "video_folder.mkdir(exist_ok=True)\n",
    "for start_date in start_dates:\n",
    "    plot_buildings_labels_vs_preds(start_date, 0.5, show=False, save_fp=video_folder /f\"{start_date}.png\")"
   ]
  },
  {
   "cell_type": "code",
   "execution_count": null,
   "metadata": {},
   "outputs": [],
   "source": [
    "from PIL import Image\n",
    "import glob\n",
    "\n",
    "# Create the frames\n",
    "frames = []\n",
    "for start_date in start_dates:\n",
    "    fp = video_folder / f\"{start_date}.png\"\n",
    "    new_frame = Image.open(fp)\n",
    "    frames.append(new_frame)\n",
    "\n",
    "# Save into a GIF file that loops forever\n",
    "frames[0].save(video_folder / \"buildings.gif\", format=\"GIF\", append_images=frames[1:], save_all=True, duration=300, loop=0)"
   ]
  },
  {
   "cell_type": "code",
   "execution_count": null,
   "metadata": {},
   "outputs": [],
   "source": [
    "def plot_buildings_detroyed_over_time(buildings):\n",
    "    _, ax = plt.subplots(figsize=(12, 5))\n",
    "\n",
    "    # Bin values every 0.05\n",
    "    bin_ranges = np.arange(0.5, 1.05, 0.05)\n",
    "    bin_labels = [f\"{bin_ranges[i]:.2f}-{bin_ranges[i+1]:.2f}\" for i in range(len(bin_ranges) - 1)]\n",
    "    bin_counts = {label: [] for label in bin_labels}\n",
    "\n",
    "    start_dates = pd.date_range(\"2020-06-01\", \"2022-06-01\", freq=\"MS\").strftime(\"%Y-%m-%d\").tolist()\n",
    "    for start_date in start_dates:\n",
    "        bin_series = pd.cut(buildings[start_date], bins=bin_ranges, labels=bin_labels, include_lowest=True)\n",
    "        bin_counts_col = bin_series.value_counts().reindex(bin_labels, fill_value=0)\n",
    "        for label in bin_labels:\n",
    "            bin_counts[label].append(bin_counts_col[label])\n",
    "\n",
    "    # Get same colormap as for preds\n",
    "    cmap = plt.cm.YlOrRd\n",
    "    colors = cmap(np.linspace(0, 1, len(bin_labels)))\n",
    "    bin_counts_df = pd.DataFrame(bin_counts, index=start_dates)\n",
    "    bin_counts_df.plot.area(stacked=True, ax=ax, color=colors)\n",
    "    ax.legend(title=\"Probs of destruction\")\n",
    "    ax.set_title(f\"Evolution of buildings destruction probability over time for {aoi} (zoomed area)\")\n",
    "    ax.set_xlabel(\"Start Date\")\n",
    "    ax.set_ylabel(\"Percentage of Buildings with given probabilities\")\n",
    "    plt.show()"
   ]
  },
  {
   "cell_type": "code",
   "execution_count": null,
   "metadata": {},
   "outputs": [],
   "source": [
    "plot_buildings_detroyed_over_time(buildings_with_preds)"
   ]
  },
  {
   "cell_type": "code",
   "execution_count": null,
   "metadata": {},
   "outputs": [],
   "source": [
    "import pandas as pd\n",
    "from src.constants import READY_PATH\n",
    "folder = READY_PATH / 'time_series_datasets'\n",
    "extraction_strategy='3x3'\n",
    "df = pd.read_csv(folder / f'ts_32d_{extraction_strategy}.csv')\n",
    "df.shape"
   ]
  },
  {
   "cell_type": "code",
   "execution_count": null,
   "metadata": {},
   "outputs": [],
   "source": [
    "df.aoi.unique()"
   ]
  },
  {
   "cell_type": "code",
   "execution_count": null,
   "metadata": {},
   "outputs": [],
   "source": [
    "import geemap\n",
    "from src.utils.gee import init_gee\n",
    "init_gee()"
   ]
  },
  {
   "cell_type": "code",
   "execution_count": null,
   "metadata": {},
   "outputs": [],
   "source": [
    "from src.data.time_series.create_dataset_ts import df_to_gdf\n",
    "for crs, grp in df.groupby('crs'):\n",
    "    print(crs)"
   ]
  },
  {
   "cell_type": "code",
   "execution_count": null,
   "metadata": {},
   "outputs": [],
   "source": [
    "df[(df.aoi=='UKR1')&(df.orbit==43)&(df.unosat_id==105)][[c for c in df.columns if not c.startswith('T')]]"
   ]
  },
  {
   "cell_type": "code",
   "execution_count": null,
   "metadata": {},
   "outputs": [],
   "source": [
    "df[df.crs.str.startswith('PROJCS')]"
   ]
  },
  {
   "cell_type": "code",
   "execution_count": null,
   "metadata": {},
   "outputs": [],
   "source": [
    "gdf[['geometry']].iloc[:100].explore()"
   ]
  },
  {
   "cell_type": "code",
   "execution_count": null,
   "metadata": {},
   "outputs": [],
   "source": [
    "fc = geemap.gdf_to_ee(df)"
   ]
  },
  {
   "cell_type": "code",
   "execution_count": null,
   "metadata": {},
   "outputs": [],
   "source": []
  }
 ],
 "metadata": {
  "kernelspec": {
   "display_name": "Python 3",
   "language": "python",
   "name": "python3"
  },
  "language_info": {
   "codemirror_mode": {
    "name": "ipython",
    "version": 3
   },
   "file_extension": ".py",
   "mimetype": "text/x-python",
   "name": "python",
   "nbconvert_exporter": "python",
   "pygments_lexer": "ipython3",
   "version": "3.8.18"
  }
 },
 "nbformat": 4,
 "nbformat_minor": 2
=======
  "cells": [
    {
      "cell_type": "code",
      "execution_count": null,
      "metadata": {},
      "outputs": [],
      "source": [
        "%load_ext autoreload\n",
        "%autoreload 2"
      ]
    },
    {
      "cell_type": "markdown",
      "metadata": {},
      "source": [
        "# Demo Progress 08.12.2023"
      ]
    },
    {
      "cell_type": "code",
      "execution_count": null,
      "metadata": {},
      "outputs": [],
      "source": [
        "run_name = 'sliding_window_train_random15'"
      ]
    },
    {
      "cell_type": "markdown",
      "metadata": {},
      "source": [
        "## How the model currently works"
      ]
    },
    {
      "cell_type": "markdown",
      "metadata": {},
      "source": [
        "### Sliding window"
      ]
    },
    {
      "cell_type": "code",
      "execution_count": null,
      "metadata": {},
      "outputs": [],
      "source": [
        "import numpy as np\n",
        "import pandas as pd\n",
        "import matplotlib.pyplot as plt\n",
        "import ipywidgets as widgets\n",
        "from ipywidgets import interact\n",
        "import datetime as dt\n",
        "from src.visualization.time_series import plot_ts\n",
        "from src.data.utils import read_ts\n",
        "from src.data.time_series.create_dataset_ts import get_df_ts\n",
        "from src.full_run import extract_features\n",
        "\n",
        "SLIDING_COLOR = \"lightgray\"\n",
        "PREDS_COLOR = \"firebrick\"\n",
        "\n",
        "\n",
        "def predict_for_each_date(ts, model, start_dates):\n",
        "    results = {}\n",
        "    for start_date in start_dates:\n",
        "        df_ts = get_df_ts(ts, start_date, n_dates=32).set_index(\n",
        "            [\"aoi\", \"orbit\", \"unosat_id\", \"start_month\", \"label\", \"band\"]\n",
        "        )\n",
        "        df_stats = extract_features(df_ts)\n",
        "        X = df_stats[[c for c in df_stats.columns if c.startswith((\"VV\", \"VH\"))]].values\n",
        "        y = df_stats.label.values\n",
        "        preds = model.predict_proba(X)\n",
        "        results[start_date] = {\"preds\": preds[0, 1], \"label\": y[0] if y[0] != -1 else None}\n",
        "    df_results = pd.DataFrame(results).T\n",
        "    df_results.index = pd.to_datetime(df_results.index)\n",
        "    return df_results\n",
        "\n",
        "\n",
        "def _plot_label(df, ax, color):\n",
        "    \"\"\"Plot separately negative and postiive to avoid line between them\"\"\"\n",
        "    df_pos = df[df.label == 1]\n",
        "    df_neg = df[df.label == 0]\n",
        "    ax.plot(df_neg.index, df_neg.label, color=color, label=\"label\")\n",
        "    ax.plot(df_pos.index, df_pos.label, color=color)\n",
        "    return ax\n",
        "\n",
        "\n",
        "def sliding_predictions(ts, model, earliest_date=\"2020-06-01\", latest_date=\"2022-06-01\"):\n",
        "    # For each model, predict for each month\n",
        "    start_dates = pd.date_range(earliest_date, latest_date, freq=\"MS\").strftime(\"%Y-%m-%d\").tolist()\n",
        "    df_results = predict_for_each_date(ts, model, start_dates)\n",
        "\n",
        "    def analyze_result(start_date):\n",
        "        ts_ = ts.sel(date=slice(start_date, None)).isel(date=slice(0, 32))\n",
        "        first_date = ts_.date[0].dt.strftime(\"%Y-%m-%d\").item()\n",
        "        last_date = ts_.date[-1].dt.strftime(\"%Y-%m-%d\").item()\n",
        "\n",
        "        _, axs = plt.subplots(2, 1, figsize=(10, 10))\n",
        "\n",
        "        # Plot TS with sliding window\n",
        "        plot_ts(ts, axs[0], loc_legend=\"lower left\")\n",
        "        axs[0].set_xlim(\n",
        "            [dt.date.fromisoformat(earliest_date), dt.date.fromisoformat(latest_date) + dt.timedelta(days=32 * 12)]\n",
        "        )\n",
        "        axs[0].axvspan(first_date, last_date, color=SLIDING_COLOR, alpha=0.3)\n",
        "\n",
        "        # Plot predictions for each model vs true labels\n",
        "        _plot_label(df_results, ax=axs[1], color=\"k\")\n",
        "\n",
        "        label = f\"predictions\"\n",
        "        axs[1].plot(df_results.index, df_results.preds, label=label, color=PREDS_COLOR)\n",
        "        axs[1].axvline(dt.date.fromisoformat(start_date), color=SLIDING_COLOR, linewidth=3)\n",
        "        axs[1].axhline(0.5, color=\"k\", linestyle=\"--\")\n",
        "        axs[1].set_title(\"Predictions vs Labels\")\n",
        "        axs[1].set_ylabel(\"Probability of destruction\")\n",
        "        axs[1].set_xlabel(\"Start Month\")\n",
        "        axs[1].legend(loc=\"upper left\")\n",
        "        plt.tight_layout()\n",
        "\n",
        "    date_slider = widgets.SelectionSlider(options=start_dates, description=\"Start Date\", continuous_update=True)\n",
        "    interact(analyze_result, start_date=date_slider)"
      ]
    },
    {
      "cell_type": "code",
      "execution_count": null,
      "metadata": {},
      "outputs": [],
      "source": [
        "from src.constants import LOGS_PATH\n",
        "import joblib\n",
        "\n",
        "aoi = \"UKR15\"\n",
        "orbit = 65\n",
        "id_ = 15487\n",
        "extraction_strategy = \"3x3\"\n",
        "ts = read_ts(aoi, orbit, id_, extraction_strategy=extraction_strategy)\n",
        "model = joblib.load(LOGS_PATH / run_name / 'model' / f'{run_name}.joblib')\n",
        "sliding_predictions(ts, model)"
      ]
    },
    {
      "cell_type": "markdown",
      "metadata": {},
      "source": [
        "### Make video"
      ]
    },
    {
      "cell_type": "code",
      "execution_count": null,
      "metadata": {},
      "outputs": [],
      "source": [
        "from pathlib import Path\n",
        "from PIL import Image\n",
        "from tqdm import tqdm\n",
        "\n",
        "aoi = \"UKR15\"\n",
        "orbit = 65\n",
        "id_ = 15487\n",
        "extraction_strategy = \"3x3\"\n",
        "ts = read_ts(aoi, orbit, id_, extraction_strategy=extraction_strategy)\n",
        "earliest_date = \"2020-06-01\"\n",
        "latest_date = \"2022-06-01\"\n",
        "start_dates = pd.date_range(earliest_date, latest_date, freq=\"MS\").strftime(\"%Y-%m-%d\").tolist()\n",
        "df_results = predict_for_each_date(ts, model, start_dates)\n",
        "\n",
        "# Plot TS with sliding window\n",
        "frames = []\n",
        "imgs_folder = Path('./preds_video')\n",
        "imgs_folder.mkdir(exist_ok=True)\n",
        "for i, start_date in tqdm(enumerate(start_dates)):\n",
        "    _, axs = plt.subplots(2, 1, figsize=(10, 10))\n",
        "\n",
        "    ts_ = ts.sel(date=slice(start_date, None)).isel(date=slice(0, 32))\n",
        "    first_date = ts_.date[0].dt.strftime(\"%Y-%m-%d\").item()\n",
        "    last_date = ts_.date[-1].dt.strftime(\"%Y-%m-%d\").item()\n",
        "    plot_ts(ts, axs[0], loc_legend=\"lower left\")\n",
        "    axs[0].set_xlim(\n",
        "        [dt.date.fromisoformat(earliest_date), dt.date.fromisoformat(latest_date) + dt.timedelta(days=32 * 12)]\n",
        "    )\n",
        "    axs[0].axvspan(first_date, last_date, color=SLIDING_COLOR, alpha=0.7)\n",
        "    _plot_label(df_results, ax=axs[1], color=\"k\")\n",
        "\n",
        "    label = f\"predictions\"\n",
        "    axs[1].plot(df_results.index[:i+1], df_results.preds[:i+1], label=label, color=PREDS_COLOR, marker=\"o\")\n",
        "    axs[1].axvline(dt.date.fromisoformat(start_date), color=SLIDING_COLOR, linewidth=3)\n",
        "    axs[1].set_xlim([dt.date.fromisoformat(earliest_date), dt.date.fromisoformat(latest_date)])\n",
        "    axs[1].axhline(0.5, color=\"k\", linestyle=\"--\")\n",
        "    axs[1].set_title(\"Predictions vs Labels\")\n",
        "    axs[1].set_ylabel(\"Probability of destruction\")\n",
        "    axs[1].set_xlabel(\"Start Month\")\n",
        "    axs[1].legend(loc=\"upper left\")\n",
        "    # plt.tight_layout()\n",
        "\n",
        "    filename = imgs_folder / f'{i:03d}.png'\n",
        "    plt.tight_layout()\n",
        "    plt.savefig(filename, bbox_inches='tight')\n",
        "    plt.close()\n",
        "\n",
        "    frames.append(Image.open(filename))\n",
        "\n",
        "# Save into a GIF\n",
        "frames[0].save(imgs_folder / 'output.gif', format='GIF',\n",
        "               append_images=frames[1:],\n",
        "               save_all=True,\n",
        "               duration=300, loop=0)"
      ]
    },
    {
      "cell_type": "markdown",
      "metadata": {},
      "source": [
        "### Average over all satellite passes"
      ]
    },
    {
      "cell_type": "code",
      "execution_count": null,
      "metadata": {},
      "outputs": [],
      "source": [
        "from src.data.utils import get_all_ts_orbit\n",
        "\n",
        "def predict_all_ts(d_ts, model, start_dates):\n",
        "    # Get single datafrme with all TS\n",
        "    df_ = []\n",
        "    for ts in d_ts.values():\n",
        "        for start_date in start_dates:\n",
        "            df_ts = get_df_ts(ts, start_date, n_dates=32).set_index(\n",
        "                [\"aoi\", \"orbit\", \"unosat_id\", \"start_month\", \"label\", \"band\"]\n",
        "            )\n",
        "            df_.append(df_ts)\n",
        "    df_ts = pd.concat(df_)\n",
        "\n",
        "    # Extract features\n",
        "    df_stats = extract_features(df_ts)\n",
        "    df_stats.loc[(df_stats.label == -1), \"label\"] = None\n",
        "    X = df_stats[[c for c in df_stats.columns if c.startswith((\"VV\", \"VH\"))]].values\n",
        "\n",
        "    # Predict and store in dataframe\n",
        "    df_preds = df_stats[[\"orbit\", \"start_month\", \"label\"]].copy()\n",
        "    preds = model.predict_proba(X)[:, 1]\n",
        "    df_preds[f\"preds\"] = preds\n",
        "    df_preds.start_month = pd.to_datetime(df_preds.start_month)\n",
        "    df_preds.set_index([\"orbit\", \"start_month\", \"label\"], inplace=True)\n",
        "    return df_preds\n",
        "\n",
        "\n",
        "def sliding_predictions_all_orbits(\n",
        "    aoi, id_, extraction_strategy, model, earliest_date=\"2020-06-01\", latest_date=\"2022-06-01\"\n",
        "):\n",
        "    # Read all TS\n",
        "    d_ts = get_all_ts_orbit(aoi, id_, extraction_strategy=extraction_strategy)\n",
        "    start_dates = pd.date_range(earliest_date, latest_date, freq=\"MS\").strftime(\"%Y-%m-%d\").tolist()\n",
        "\n",
        "    # For each model, predict each month\n",
        "    df_preds = predict_all_ts(d_ts, model, start_dates)\n",
        "    d_agg = {\"preds\": \"mean\", \"label\": \"first\"}\n",
        "    df_preds_agg = df_preds.reset_index().groupby([\"start_month\"]).agg(d_agg)\n",
        "\n",
        "    def plot_results(start_date, plot_all_orbits):\n",
        "\n",
        "        # Prepare axes\n",
        "        grid_rows = 2 if len(d_ts) > 2 else 1\n",
        "        grid_cols = 2\n",
        "        fig = plt.figure(figsize=(grid_cols * 10, (grid_rows + 1) * 5))\n",
        "        axs = []\n",
        "        for i in range(len(d_ts)):\n",
        "            axs.append(plt.subplot2grid((grid_rows + 1, grid_cols), (i // grid_cols, i % grid_cols)))\n",
        "        ax_last = plt.subplot2grid((grid_rows + 1, grid_cols), (grid_rows, 0), colspan=grid_cols)\n",
        "\n",
        "        for i, (orbit, ts) in enumerate(d_ts.items()):\n",
        "            # Plot Time Series\n",
        "            ts_ = ts.sel(date=slice(start_date, None)).isel(date=slice(0, 32))\n",
        "            first_date = ts_.date[0].dt.strftime(\"%Y-%m-%d\").item()\n",
        "            last_date = ts_.date[-1].dt.strftime(\"%Y-%m-%d\").item()\n",
        "            plot_ts(ts, axs[i], loc_legend=\"lower left\")\n",
        "            axs[i].set_xlim(\n",
        "                [dt.date.fromisoformat(earliest_date), dt.date.fromisoformat(latest_date) + dt.timedelta(days=32 * 12)]\n",
        "            )\n",
        "            axs[i].axvspan(first_date, last_date, color=SLIDING_COLOR, alpha=0.3)\n",
        "\n",
        "            # Plot predictions\n",
        "            if plot_all_orbits:\n",
        "                df_preds_orbit = df_preds.reset_index(level='label').loc[orbit]\n",
        "                ax_last.plot(df_preds_orbit.index, df_preds_orbit[f\"preds\"], color=PREDS_COLOR, alpha=0.4, linestyle='--')\n",
        "\n",
        "        # Plot predictions aggregated\n",
        "        label = \"predictions\"\n",
        "        ax_last.plot(\n",
        "            df_preds_agg.index,\n",
        "            df_preds_agg[f\"preds\"],\n",
        "            label=label,\n",
        "            color=PREDS_COLOR,\n",
        "            linewidth=3,\n",
        "        )\n",
        "\n",
        "        # Plot labels\n",
        "        _plot_label(df_preds_agg, ax=ax_last, color=\"k\")\n",
        "\n",
        "        ax_last.axvline(dt.date.fromisoformat(start_date), color=SLIDING_COLOR, linewidth=3)\n",
        "        ax_last.axhline(0.5, color=\"k\", linestyle=\"--\")\n",
        "        ax_last.set_ylim([-0.05, 1.05]) # to see the label\n",
        "        ax_last.set_title(\"Predictions vs Labels\")\n",
        "        ax_last.set_ylabel(\"Probability\")\n",
        "        ax_last.set_xlabel(\"Start Month\")\n",
        "        ax_last.legend(loc=\"upper left\")\n",
        "        plt.tight_layout()\n",
        "\n",
        "    date_slider = widgets.SelectionSlider(options=start_dates, description=\"Start Date\", continuous_update=True)\n",
        "    all_orbits_checkbox = widgets.Checkbox(value=True, description=\"Plot all orbits\")\n",
        "    interact(plot_results, start_date=date_slider, plot_all_orbits=all_orbits_checkbox)"
      ]
    },
    {
      "cell_type": "code",
      "execution_count": null,
      "metadata": {},
      "outputs": [],
      "source": [
        "aoi = \"UKR15\"\n",
        "id_ = 15487\n",
        "extraction_strategy = \"3x3\"\n",
        "sliding_predictions_all_orbits(aoi, id_, extraction_strategy, model)"
      ]
    },
    {
      "cell_type": "code",
      "execution_count": null,
      "metadata": {},
      "outputs": [],
      "source": [
        "from src.data.utils import get_random_id\n",
        "from src.constants import AOIS_TEST\n",
        "id_, aoi = get_random_id(AOIS_TEST, return_aoi=True, seed=42)\n",
        "sliding_predictions_all_orbits(aoi, id_, extraction_strategy, model)"
      ]
    },
    {
      "cell_type": "code",
      "execution_count": null,
      "metadata": {},
      "outputs": [],
      "source": [
        "id_, aoi = get_random_id(AOIS_TEST, return_aoi=True, seed=12)\n",
        "sliding_predictions_all_orbits(aoi, id_, extraction_strategy, model)"
      ]
    },
    {
      "cell_type": "markdown",
      "metadata": {},
      "source": [
        "## Dense Predictions"
      ]
    },
    {
      "cell_type": "code",
      "execution_count": null,
      "metadata": {},
      "outputs": [],
      "source": [
        "import ipywidgets as widgets\n",
        "from ipywidgets import interact, fixed\n",
        "import pandas as pd\n",
        "from src.constants import LOGS_PATH\n",
        "\n",
        "from src.visualization.dense_predictions import plot_dense_predictions\n",
        "\n",
        "def plot_dense_predictions_slider(aoi, folder, earliest_date=\"2020-06-01\", latest_date=\"2022-06-01\"):\n",
        "\n",
        "    threshold_slider = widgets.SelectionSlider(\n",
        "        options=[0.5, 0.55, 0.6, 0.65, 0.7, 0.75, 0.8, 0.85], description=\"Threshold\", continuous_update=True\n",
        "    )\n",
        "    start_dates = pd.date_range(earliest_date, latest_date, freq=\"MS\").strftime(\"%Y-%m-%d\").tolist()\n",
        "    dates_slider = widgets.SelectionSlider(options=start_dates, description=\"Start Date\", continuous_update=True)\n",
        "    interact(plot_dense_predictions, start_date=dates_slider, threshold=threshold_slider, aoi=fixed(aoi), folder=fixed(folder), show=fixed(True), ax=fixed(None))"
      ]
    },
    {
      "cell_type": "code",
      "execution_count": null,
      "metadata": {},
      "outputs": [],
      "source": [
        "aoi = \"UKR6\"\n",
        "folder = LOGS_PATH / run_name / \"predictions\" / aoi\n",
        "plot_dense_predictions_slider(aoi, folder)"
      ]
    },
    {
      "cell_type": "code",
      "execution_count": null,
      "metadata": {},
      "outputs": [],
      "source": [
        "from src.constants import RAW_S1_PATH\n",
        "from src.data.sentinel1.utils import read_s1\n",
        "import os\n",
        "# get mean size of all images\n",
        "orbits = os.listdir(RAW_S1_PATH / 'Zaporizhzhya')\n",
        "for orbit in orbits:\n",
        "    fps = list((RAW_S1_PATH / 'Zaporizhzhya' / orbit).glob('*.tif'))\n",
        "    sizes = []\n",
        "    for fp in fps:\n",
        "        try:\n",
        "            s1 = read_s1(fp)\n",
        "        except:\n",
        "            print(fp.name)"
      ]
    },
    {
      "cell_type": "code",
      "execution_count": null,
      "metadata": {},
      "outputs": [],
      "source": [
        "def plot_dense_predictions_side_by_side(aoi, folder1, folder2, start_date, threshold):\n",
        "    fig, axs = plt.subplots(1, 2, figsize=(20, 10))\n",
        "    plot_dense_predictions(aoi, folder1, start_date, threshold, False, axs[0])\n",
        "    plot_dense_predictions(aoi, folder2, start_date, threshold, False, axs[1])\n",
        "    plt.suptitle(f'{folder1.parents[1].name} vs {folder2.parents[1].name}', fontsize=18)\n",
        "    plt.tight_layout()\n",
        "\n",
        "def plot_dense_predictions_slider_side_by_side(aoi, folder1, folder2, earliest_date=\"2020-06-01\", latest_date=\"2022-06-01\"):\n",
        "\n",
        "    threshold_slider = widgets.SelectionSlider(\n",
        "        options=[0.5, 0.55, 0.6, 0.65, 0.7, 0.75, 0.8, 0.85], description=\"Threshold\", continuous_update=True\n",
        "    )\n",
        "    start_dates = pd.date_range(earliest_date, latest_date, freq=\"MS\").strftime(\"%Y-%m-%d\").tolist()\n",
        "    dates_slider = widgets.SelectionSlider(options=start_dates, description=\"Start Date\", continuous_update=True)\n",
        "\n",
        "    interact(plot_dense_predictions_side_by_side, start_date=dates_slider, threshold=threshold_slider, aoi=fixed(aoi), folder1=fixed(folder1), folder2=fixed(folder2), show=fixed(True))"
      ]
    },
    {
      "cell_type": "code",
      "execution_count": null,
      "metadata": {},
      "outputs": [],
      "source": [
        "run_name2 = \"3x3\"\n",
        "folder2 = LOGS_PATH / run_name2 / \"predictions\" / aoi\n",
        "plot_dense_predictions_slider_side_by_side(aoi, folder, folder2)"
      ]
    },
    {
      "cell_type": "markdown",
      "metadata": {},
      "source": [
        "## Zooms on interesting areas\n",
        "cf QGIS/slides"
      ]
    },
    {
      "cell_type": "markdown",
      "metadata": {},
      "source": [
        "# Microsoft buildings"
      ]
    },
    {
      "cell_type": "code",
      "execution_count": null,
      "metadata": {},
      "outputs": [],
      "source": [
        "from pathlib import Path\n",
        "import matplotlib.pyplot as plt\n",
        "import numpy as np\n",
        "import rioxarray as rxr\n",
        "from shapely.geometry import box\n",
        "from src.data.microsoft_buildings import load_microsoft_unosat_buildings\n",
        "from src.constants import CRS_GLOBAL, NO_DATA_VALUE\n",
        "from src.data.unosat import get_unosat_geometry\n",
        "import geopandas as gpd\n",
        "import pandas as pd\n",
        "from matplotlib.colors import ListedColormap\n",
        "from tqdm import tqdm\n",
        "\n",
        "\n",
        "def extract_raster_value(point, raster):\n",
        "    value = raster.sel(x=point.x, y=point.y, method=\"nearest\").item()\n",
        "    return value\n",
        "\n",
        "\n",
        "def get_buildings_with_preds_proba(aoi, folder, geo=None):\n",
        "    # Load Microsoft buildings footprints\n",
        "    buildings = load_microsoft_unosat_buildings(aoi)\n",
        "\n",
        "    # Default to entire AOI\n",
        "    if geo is None:\n",
        "        geo = get_unosat_geometry(aoi)\n",
        "\n",
        "    start_dates = pd.date_range(\"2020-06-01\", \"2022-06-01\", freq=\"MS\").strftime(\"%Y-%m-%d\").tolist()\n",
        "    for i, start_date in tqdm(enumerate(start_dates)):\n",
        "        # Read predictions\n",
        "        preds = rxr.open_rasterio(folder / f\"{start_date}.tif\").squeeze()\n",
        "\n",
        "        if i == 0:\n",
        "            # Clip buildings to geo and compute centroids\n",
        "            geo_crs = gpd.GeoDataFrame(None, geometry=[geo], crs=CRS_GLOBAL).to_crs(preds.rio.crs).iloc[0].geometry\n",
        "            buildings_ = buildings.to_crs(preds.rio.crs).copy()\n",
        "            buildings_ = buildings_[buildings_.intersects(geo_crs)].clip(geo_crs).copy()\n",
        "            buildings_[\"centroid\"] = buildings_.geometry.centroid\n",
        "\n",
        "        # Extract prediction values for each building\n",
        "        preds_clipped = preds.rio.clip([geo_crs])\n",
        "        buildings_[start_date] = buildings_[\"centroid\"].apply(lambda x: extract_raster_value(x, preds_clipped))\n",
        "\n",
        "    buildings_ = buildings_.replace(NO_DATA_VALUE, 0)\n",
        "    return buildings_"
      ]
    },
    {
      "cell_type": "code",
      "execution_count": null,
      "metadata": {},
      "outputs": [],
      "source": [
        "from src.constants import LOGS_PATH\n",
        "from src.data.unosat import get_unosat_geometry\n",
        "\n",
        "aoi = \"UKR6\"\n",
        "folder = LOGS_PATH / run_name / \"predictions\" / aoi\n",
        "geo = get_unosat_geometry(aoi) #  box(31.365, 51.525, 31.375, 51.53)\n",
        "buildings_with_preds = get_buildings_with_preds_proba(aoi, folder, geo=geo)"
      ]
    },
    {
      "cell_type": "code",
      "execution_count": null,
      "metadata": {},
      "outputs": [],
      "source": []
    },
    {
      "cell_type": "code",
      "execution_count": null,
      "metadata": {},
      "outputs": [],
      "source": [
        "buildings_with_preds.head()"
      ]
    },
    {
      "cell_type": "code",
      "execution_count": null,
      "metadata": {},
      "outputs": [],
      "source": [
        "buildings_with_preds.dtypes"
      ]
    },
    {
      "cell_type": "code",
      "execution_count": null,
      "metadata": {},
      "outputs": [],
      "source": []
    },
    {
      "cell_type": "code",
      "execution_count": null,
      "metadata": {},
      "outputs": [],
      "source": [
        "# save as geojson\n",
        "buildings_with_preds.drop(\"centroid\", axis=1).to_file(folder / \"buildings_with_preds.geojson\", driver=\"GeoJSON\")"
      ]
    },
    {
      "cell_type": "code",
      "execution_count": null,
      "metadata": {},
      "outputs": [],
      "source": [
        "from src.constants import DAMAGE_SCHEME, DAMAGE_COLORS\n",
        "import matplotlib.patches as mpatches\n",
        "import contextily as ctx\n",
        "import ipywidgets as widgets\n",
        "from ipywidgets import interact\n",
        "\n",
        "\n",
        "def plot_buildings_unosat(buildings, ax=None, legend=True, damage_key=\"damage_2m\", labels_to_keep=None, **kwargs):\n",
        "    if buildings.empty:\n",
        "        return ax\n",
        "\n",
        "    if ax is None:\n",
        "        _, ax = plt.subplots()\n",
        "\n",
        "    # Plot destroyed buildings with corresponding color\n",
        "    buildings_ = buildings[~buildings[damage_key].isna()]\n",
        "\n",
        "    if labels_to_keep is not None:\n",
        "        buildings_ = buildings_[buildings_[damage_key].isin(labels_to_keep)]\n",
        "\n",
        "    for key, group in buildings_.groupby(damage_key):\n",
        "        group.plot(color=DAMAGE_COLORS[key], ax=ax, **kwargs)\n",
        "\n",
        "    # Plot buildings outline\n",
        "    buildings.plot(ax=ax, facecolor=\"none\", edgecolor=\"k\")\n",
        "\n",
        "    if legend:\n",
        "        # Create a patch (proxy artist) for each damage category\n",
        "        patches = [\n",
        "            mpatches.Patch(color=DAMAGE_COLORS[key], label=DAMAGE_SCHEME[key])\n",
        "            for key in sorted(buildings_[damage_key].unique())\n",
        "        ]\n",
        "\n",
        "        # Add legend to the plot\n",
        "        ax.legend(handles=patches, title=\"Damage Categories\", fontsize=\"small\")\n",
        "\n",
        "    ax.set_title(\"Msft Buildings with UNOSAT Labels\")\n",
        "    ctx.add_basemap(ax, crs=buildings.crs, zoom=14, source=ctx.providers.CartoDB.VoyagerNoLabels)\n",
        "\n",
        "    return ax\n",
        "\n",
        "\n",
        "import matplotlib.cm as cm\n",
        "import matplotlib.colors as colors\n",
        "\n",
        "\n",
        "def plot_preds_msft(buildings, start_date, threshold=0.5, ax=None):\n",
        "    if ax is None:\n",
        "        _, ax = plt.subplots()\n",
        "\n",
        "    im = buildings[buildings[start_date] > threshold].plot(\n",
        "        start_date,\n",
        "        cmap=\"YlOrRd\",\n",
        "        ax=ax,\n",
        "        vmin=0.5,\n",
        "        vmax=1.0,\n",
        "        legend=True,\n",
        "        legend_kwds={\"label\": \"Probability\", \"fraction\": 0.046, \"pad\": 0.04},\n",
        "    )\n",
        "    buildings.plot(ax=ax, facecolor=\"none\", edgecolor=\"k\")\n",
        "    ax.set_title(f\"Msft Buildings with Predictions - {start_date}\")\n",
        "    ctx.add_basemap(\n",
        "        ax, crs=buildings.crs, zoom=14, source=ctx.providers.CartoDB.VoyagerNoLabels\n",
        "    )  # CartoDB.VoyagerNoLabels)\n",
        "\n",
        "    # Create a fake ScalarMappable for the colorbar\n",
        "    # cmap = cm.YlOrRd\n",
        "    # norm = colors.Normalize(vmin=0.5, vmax=1.0)\n",
        "    # sm = cm.ScalarMappable(cmap=cmap, norm=norm)\n",
        "    # sm.set_array([])  # You can set an array of values here if you want different color ranges\n",
        "    return ax\n",
        "\n",
        "\n",
        "def plot_buildings_labels_vs_preds(start_date, threshold, show=True, save_fp=None):\n",
        "    _, axs = plt.subplots(1, 2, figsize=(20, 14))\n",
        "    plot_buildings_unosat(buildings_with_preds, ax=axs[0], labels_to_keep=[1, 2])\n",
        "    plot_preds_msft(buildings_with_preds, start_date=start_date, threshold=threshold, ax=axs[1])\n",
        "    if save_fp:\n",
        "        plt.savefig(save_fp, dpi=300, bbox_inches=\"tight\")\n",
        "    if show:\n",
        "        plt.show()\n",
        "    else:\n",
        "        plt.close()\n",
        "\n",
        "\n",
        "def plot_buildings_labels_vs_preds_slider():\n",
        "    threshold_slider = widgets.SelectionSlider(\n",
        "        options=[0.5, 0.55, 0.6, 0.65, 0.7, 0.75, 0.8, 0.85], description=\"Threshold\", continuous_update=True\n",
        "    )\n",
        "    start_dates = pd.date_range(\"2020-06-01\", \"2022-06-01\", freq=\"MS\").strftime(\"%Y-%m-%d\").tolist()\n",
        "    dates_slider = widgets.SelectionSlider(options=start_dates, description=\"Start Date\", continuous_update=True)\n",
        "    interact(plot_buildings_labels_vs_preds, start_date=dates_slider, threshold=threshold_slider, show=fixed(True), save_fp=fixed(None))"
      ]
    },
    {
      "cell_type": "code",
      "execution_count": null,
      "metadata": {},
      "outputs": [],
      "source": [
        "plot_buildings_labels_vs_preds_slider()"
      ]
    },
    {
      "cell_type": "code",
      "execution_count": null,
      "metadata": {},
      "outputs": [],
      "source": [
        "start_dates = pd.date_range(\"2020-06-01\", \"2022-06-01\", freq=\"MS\").strftime(\"%Y-%m-%d\").tolist()\n",
        "video_folder = Path(\"./video\")\n",
        "video_folder.mkdir(exist_ok=True)\n",
        "for start_date in start_dates:\n",
        "    plot_buildings_labels_vs_preds(start_date, 0.5, show=False, save_fp=video_folder /f\"{start_date}.png\")"
      ]
    },
    {
      "cell_type": "code",
      "execution_count": null,
      "metadata": {},
      "outputs": [],
      "source": [
        "from PIL import Image\n",
        "import glob\n",
        "\n",
        "# Create the frames\n",
        "frames = []\n",
        "for start_date in start_dates:\n",
        "    fp = video_folder / f\"{start_date}.png\"\n",
        "    new_frame = Image.open(fp)\n",
        "    frames.append(new_frame)\n",
        "\n",
        "# Save into a GIF file that loops forever\n",
        "frames[0].save(video_folder / \"buildings.gif\", format=\"GIF\", append_images=frames[1:], save_all=True, duration=300, loop=0)"
      ]
    },
    {
      "cell_type": "code",
      "execution_count": null,
      "metadata": {},
      "outputs": [],
      "source": [
        "def plot_buildings_detroyed_over_time(buildings):\n",
        "    _, ax = plt.subplots(figsize=(12, 5))\n",
        "\n",
        "    # Bin values every 0.05\n",
        "    bin_ranges = np.arange(0.5, 1.05, 0.05)\n",
        "    bin_labels = [f\"{bin_ranges[i]:.2f}-{bin_ranges[i+1]:.2f}\" for i in range(len(bin_ranges) - 1)]\n",
        "    bin_counts = {label: [] for label in bin_labels}\n",
        "\n",
        "    start_dates = pd.date_range(\"2020-06-01\", \"2022-06-01\", freq=\"MS\").strftime(\"%Y-%m-%d\").tolist()\n",
        "    for start_date in start_dates:\n",
        "        bin_series = pd.cut(buildings[start_date], bins=bin_ranges, labels=bin_labels, include_lowest=True)\n",
        "        bin_counts_col = bin_series.value_counts().reindex(bin_labels, fill_value=0)\n",
        "        for label in bin_labels:\n",
        "            bin_counts[label].append(bin_counts_col[label])\n",
        "\n",
        "    # Get same colormap as for preds\n",
        "    cmap = plt.cm.YlOrRd\n",
        "    colors = cmap(np.linspace(0, 1, len(bin_labels)))\n",
        "    bin_counts_df = pd.DataFrame(bin_counts, index=start_dates)\n",
        "    bin_counts_df.plot.area(stacked=True, ax=ax, color=colors)\n",
        "    ax.legend(title=\"Probs of destruction\")\n",
        "    ax.set_title(f\"Evolution of buildings destruction probability over time for {aoi} (zoomed area)\")\n",
        "    ax.set_xlabel(\"Start Date\")\n",
        "    ax.set_ylabel(\"Percentage of Buildings with given probabilities\")\n",
        "    plt.show()"
      ]
    },
    {
      "cell_type": "code",
      "execution_count": null,
      "metadata": {},
      "outputs": [],
      "source": [
        "plot_buildings_detroyed_over_time(buildings_with_preds)"
      ]
    },
    {
      "cell_type": "code",
      "execution_count": null,
      "metadata": {},
      "outputs": [],
      "source": [
        "import pandas as pd\n",
        "from src.constants import READY_PATH\n",
        "folder = READY_PATH / 'time_series_datasets'\n",
        "extraction_strategy='3x3'\n",
        "df = pd.read_csv(folder / f'ts_32d_{extraction_strategy}.csv')\n",
        "df.shape"
      ]
    },
    {
      "cell_type": "code",
      "execution_count": null,
      "metadata": {},
      "outputs": [],
      "source": [
        "df.aoi.unique()"
      ]
    },
    {
      "cell_type": "code",
      "execution_count": null,
      "metadata": {},
      "outputs": [],
      "source": [
        "import geemap\n",
        "from src.utils.gee import init_gee\n",
        "init_gee()"
      ]
    },
    {
      "cell_type": "code",
      "execution_count": null,
      "metadata": {},
      "outputs": [],
      "source": [
        "from src.data.time_series.create_dataset_ts import df_to_gdf\n",
        "for crs, grp in df.groupby('crs'):\n",
        "    print(crs)"
      ]
    },
    {
      "cell_type": "code",
      "execution_count": null,
      "metadata": {},
      "outputs": [],
      "source": [
        "df[(df.aoi=='UKR1')&(df.orbit==43)&(df.unosat_id==105)][[c for c in df.columns if not c.startswith('T')]]"
      ]
    },
    {
      "cell_type": "code",
      "execution_count": null,
      "metadata": {},
      "outputs": [],
      "source": [
        "df[df.crs.str.startswith('PROJCS')]"
      ]
    },
    {
      "cell_type": "code",
      "execution_count": null,
      "metadata": {},
      "outputs": [],
      "source": [
        "gdf[['geometry']].iloc[:100].explore()"
      ]
    },
    {
      "cell_type": "code",
      "execution_count": null,
      "metadata": {},
      "outputs": [],
      "source": [
        "fc = geemap.gdf_to_ee(df)"
      ]
    },
    {
      "cell_type": "code",
      "execution_count": null,
      "metadata": {},
      "outputs": [],
      "source": []
    }
  ],
  "metadata": {
    "kernelspec": {
      "display_name": "Python 3",
      "language": "python",
      "name": "python3"
    },
    "language_info": {
      "codemirror_mode": {
        "name": "ipython",
        "version": 3
      },
      "file_extension": ".py",
      "mimetype": "text/x-python",
      "name": "python",
      "nbconvert_exporter": "python",
      "pygments_lexer": "ipython3",
      "version": "3.8.18"
    }
  },
  "nbformat": 4,
  "nbformat_minor": 2
>>>>>>> d62b73b (save before holidays)
}
