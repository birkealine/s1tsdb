{
<<<<<<< HEAD
 "cells": [
  {
   "cell_type": "code",
   "execution_count": null,
   "metadata": {},
   "outputs": [],
   "source": [
    "%load_ext autoreload\n",
    "%autoreload 2"
   ]
  },
  {
   "cell_type": "markdown",
   "metadata": {},
   "source": [
    "# Classification"
   ]
  },
  {
   "cell_type": "code",
   "execution_count": null,
   "metadata": {},
   "outputs": [],
   "source": [
    "from omegaconf import OmegaConf\n",
    "import pandas as pd\n",
    "\n",
    "from src.constants import AOIS_TEST\n",
    "from src.data import UNOSAT_S1TS_Dataset\n",
    "from src.classification.model_factory import load_model\n",
    "from src.classification.trainer import S1TSDD_Trainer"
   ]
  },
  {
   "cell_type": "code",
   "execution_count": null,
   "metadata": {},
   "outputs": [],
   "source": [
    "def get_features_extractor(reducer_names):\n",
    "    def extract_features(df, start, end, prefix=\"\"):\n",
    "        # columns are datetime -> can slice directly between two dates\n",
    "        df = df.loc[:, start:end]\n",
    "\n",
    "        # features\n",
    "        df_features = pd.DataFrame(index=df.index)\n",
    "        if \"mean\" in reducer_names:\n",
    "            df_features[\"mean\"] = df.mean(axis=1)\n",
    "        if \"stdDev\" in reducer_names:\n",
    "            df_features[\"std\"] = df.std(axis=1)\n",
    "        if \"median\" in reducer_names:\n",
    "            df_features[\"median\"] = df.median(axis=1)\n",
    "        if \"min\" in reducer_names:\n",
    "            df_features[\"min\"] = df.min(axis=1)\n",
    "        if \"max\" in reducer_names:\n",
    "            df_features[\"max\"] = df.max(axis=1)\n",
    "        if \"skew\" in reducer_names:\n",
    "            df_features[\"skew\"] = df.skew(axis=1)\n",
    "        if \"kurtosis\" in reducer_names:\n",
    "            df_features[\"kurt\"] = df.kurt(axis=1)\n",
    "\n",
    "        # rename columns using band, prefix (eg pre/post/pre_3x3, ...)\n",
    "        df_vv = df_features.xs(\"VV\", level=\"band\")\n",
    "        df_vh = df_features.xs(\"VH\", level=\"band\")\n",
    "        df_vv.columns = [f\"VV_{prefix}_{col}\" for col in df_vv.columns]\n",
    "        df_vh.columns = [f\"VH_{prefix}_{col}\" for col in df_vh.columns]\n",
    "        return pd.concat([df_vv, df_vh], axis=1)\n",
    "    return extract_features\n",
    "\n",
    "cfg = OmegaConf.create(\n",
    "    dict(\n",
    "        aggregation_method=\"mean\",\n",
    "        model_name= \"random_forest\",\n",
    "        model_kwargs=dict(\n",
    "            n_estimators=200,\n",
    "            min_samples_leaf=2,\n",
    "            n_jobs=12,\n",
    "        ),\n",
    "        data=dict(\n",
    "            aois_test = [f'UKR{i}' for i in range(1,19) if i not in [1,2,3,4]], # [\"UKR6\", \"UKR8\", \"UKR12\", \"UKR15\"],\n",
    "            damages_to_keep=[1,2],\n",
    "            extract_winds = ['3x3'], # ['1x1', '3x3', '5x5']\n",
    "            random_neg_labels=0.0,  # percentage of negative labels to add in training set (eg 0.1 for 10%)\n",
    "            time_periods = {\n",
    "                'pre': [('2020-02-24', '2021-02-23')],\n",
    "                'post' : [\n",
    "                    ('2021-02-24', '2022-02-23'),\n",
    "                    ('2022-02-24', '2023-02-23')\n",
    "                ]\n",
    "            },\n",
    "        ),\n",
    "        reducer_names=[\"mean\", \"stdDev\", \"median\", \"min\", \"max\", \"skew\", \"kurtosis\"],\n",
    "        seed=123,\n",
    "        run_name=None,\n",
    "    )\n",
    ")\n",
    "\n",
    "ds = UNOSAT_S1TS_Dataset(cfg.data, extract_features=get_features_extractor(cfg.reducer_names))\n",
    "model = load_model(cfg)\n",
    "trainer = S1TSDD_Trainer(ds, model, aggregation=cfg.aggregation_method, seed=cfg.seed, verbose=1)\n",
    "trainer.train_and_test(threshold_for_metrics=0.5)"
   ]
  },
  {
   "cell_type": "code",
   "execution_count": null,
   "metadata": {},
   "outputs": [],
   "source": [
    "n_train = ds.df.groupby(['aoi', 'orbit', 'unosat_id']).size().shape[0]\n",
    "n_test = ds.df_test.groupby(['aoi', 'orbit', 'unosat_id']).size().shape[0]\n",
    "n_train / (n_train + n_test)"
   ]
  },
  {
   "cell_type": "code",
   "execution_count": null,
   "metadata": {},
   "outputs": [],
   "source": [
    "from sklearn.metrics import classification_report\n",
    "\n",
    "threshold=0.5\n",
    "df_preds_agg = trainer.df_preds_agg\n",
    "for aoi in df_preds_agg.aoi.unique():\n",
    "    print(f\"AOI {aoi}\")\n",
    "    y_true = df_preds_agg[df_preds_agg.aoi == aoi].label\n",
    "    y_preds = (df_preds_agg[df_preds_agg.aoi == aoi].preds_proba > threshold).astype(int)\n",
    "    print(classification_report(y_true, y_preds, target_names=[\"intact\", \"destroyed\"], digits=3))"
   ]
  },
  {
   "cell_type": "markdown",
   "metadata": {},
   "source": [
    "# Dense inference"
   ]
  },
  {
   "cell_type": "code",
   "execution_count": null,
   "metadata": {},
   "outputs": [],
   "source": [
    "from src.classification.dense_inference import perform_dense_inference\n",
    "\n",
    "aoi = 'UKR6'\n",
    "model = trainer.model\n",
    "time_periods = {'pre': ['2020-02-24', '2021-02-23'], 'post': ['2022-02-24', '2023-02-23']}\n",
    "extract_winds = cfg.data.extract_winds\n",
    "extract_features=extract_features\n",
    "verbose=1\n",
    "\n",
    "preds_agg, preds = perform_dense_inference(aoi, model, time_periods, extract_winds, extract_features, verbose=verbose)"
   ]
  },
  {
   "cell_type": "code",
   "execution_count": null,
   "metadata": {},
   "outputs": [],
<<<<<<< HEAD
<<<<<<< HEAD
=======
=======
   "source": [
    "from src.visualization.dense_predictions import plot_dense_predictions\n",
    "\n",
    "plot_dense_predictions(\n",
    "    preds_agg,\n",
    "    aoi,\n",
    "    start='2022-02-24',\n",
    "    end='2023-02-23',\n",
    "    damages_to_keep=cfg.data.damages_to_keep,\n",
    "    threshold=0.65,\n",
    "    clip_to_aoi=True,\n",
    "    compute_metrics=True,\n",
    "    show=True\n",
    ")"
   ]
  },
  {
   "cell_type": "code",
   "execution_count": null,
   "metadata": {},
   "outputs": [],
>>>>>>> 74c5513f151a463e1bca389700135d3ff404a4db
   "source": [
    "from src.visualization.dense_predictions import plot_dense_predictions\n",
    "\n",
    "plot_dense_predictions(\n",
    "    preds_agg,\n",
    "    aoi,\n",
    "    start='2022-02-24',\n",
    "    end='2023-02-23',\n",
    "    damages_to_keep=cfg.data.damages_to_keep,\n",
    "    threshold=0.65,\n",
    "    clip_to_aoi=True,\n",
    "    compute_metrics=True,\n",
    "    show=True\n",
    ")"
   ]
  },
  {
   "cell_type": "code",
   "execution_count": null,
   "metadata": {},
   "outputs": [],
>>>>>>> 74c5513 (save before holidays)
   "source": [
    "from src.visualization.dense_predictions import plot_dense_predictions\n",
    "\n",
    "plot_dense_predictions(\n",
    "    preds_agg,\n",
    "    aoi,\n",
    "    start='2022-02-24',\n",
    "    end='2023-02-23',\n",
    "    damages_to_keep=cfg.data.damages_to_keep,\n",
    "    threshold=0.65,\n",
    "    clip_to_aoi=True,\n",
    "    compute_metrics=True,\n",
    "    show=True\n",
    ")"
   ]
  },
  {
   "cell_type": "code",
   "execution_count": null,
   "metadata": {},
   "outputs": [],
   "source": [
    "from src.visualization.dense_predictions import plot_dense_predictions\n",
    "\n",
    "plot_dense_predictions(\n",
    "    preds_agg,\n",
    "    aoi,\n",
    "    start='2022-02-24',\n",
    "    end='2023-02-23',\n",
    "    damages_to_keep=cfg.data.damages_to_keep,\n",
    "    threshold=0.65,\n",
    "    clip_to_aoi=True,\n",
    "    compute_metrics=True,\n",
    "    show=True\n",
    ")"
   ]
=======
  "cells": [
    {
      "cell_type": "code",
      "execution_count": null,
      "metadata": {},
      "outputs": [],
      "source": [
        "%load_ext autoreload\n",
        "%autoreload 2"
      ]
    },
    {
      "cell_type": "markdown",
      "metadata": {},
      "source": [
        "# Classification"
      ]
    },
    {
      "cell_type": "code",
      "execution_count": null,
      "metadata": {},
      "outputs": [],
      "source": [
        "from omegaconf import OmegaConf\n",
        "import pandas as pd\n",
        "\n",
        "from src.constants import AOIS_TEST\n",
        "from src.data import UNOSAT_S1TS_Dataset\n",
        "from src.classification.model_factory import load_model\n",
        "from src.classification.trainer import S1TSDD_Trainer"
      ]
    },
    {
      "cell_type": "code",
      "execution_count": 3,
      "metadata": {},
      "outputs": [
        {
          "data": {
            "text/html": [
              "\n",
              "            <style>\n",
              "                .geemap-dark {\n",
              "                    --jp-widgets-color: white;\n",
              "                    --jp-widgets-label-color: white;\n",
              "                    --jp-ui-font-color1: white;\n",
              "                    --jp-layout-color2: #454545;\n",
              "                    background-color: #383838;\n",
              "                }\n",
              "                    \n",
              "                .geemap-dark .jupyter-button {\n",
              "                    --jp-layout-color3: #383838;\n",
              "                }\n",
              "                \n",
              "                .geemap-colab {\n",
              "                    background-color: var(--colab-primary-surface-color, white);\n",
              "                }\n",
              "                    \n",
              "                .geemap-colab .jupyter-button {\n",
              "                    --jp-layout-color3: var(--colab-primary-surface-color, white);\n",
              "                }\n",
              "            </style>\n",
              "            "
            ],
            "text/plain": [
              "<IPython.core.display.HTML object>"
            ]
          },
          "metadata": {},
          "output_type": "display_data"
        },
        {
          "name": "stdout",
          "output_type": "stream",
          "text": [
            "Dataset created in 8.82s.\n",
            "Training set: (55046, 40), Test set: (11562, 40)\n",
            "Training set labels: {0: 27523, 1: 27523}\n",
            "Test set labels: {0: 5781, 1: 5781}\n",
            "Fitting model with: (55046, 28), y.shape: (55046,)\n",
            "Aggregating predictions with method: mean\n",
            "Non-aggregated metrics with threshold=0.5 (N = 11562):\n",
            "              precision    recall  f1-score   support\n",
            "\n",
            "      intact      0.719     0.783     0.750      5781\n",
            "   destroyed      0.762     0.693     0.726      5781\n",
            "\n",
            "    accuracy                          0.738     11562\n",
            "   macro avg      0.740     0.738     0.738     11562\n",
            "weighted avg      0.740     0.738     0.738     11562\n",
            "\n",
            "Aggregated metrics with threshold=0.5 (N = 3872):\n",
            "              precision    recall  f1-score   support\n",
            "\n",
            "      intact      0.776     0.871     0.821      1936\n",
            "   destroyed      0.853     0.748     0.797      1936\n",
            "\n",
            "    accuracy                          0.810      3872\n",
            "   macro avg      0.814     0.810     0.809      3872\n",
            "weighted avg      0.814     0.810     0.809      3872\n",
            "\n",
            "Total time (training + testing): 5.82s\n"
          ]
        },
        {
          "data": {
            "text/plain": [
              "defaultdict(list,\n",
              "            {'accuracy': 0.7382805742951046,\n",
              "             'precision': 0.7617328519855595,\n",
              "             'recall': 0.6934786369140287,\n",
              "             'f1': 0.7260050706265845,\n",
              "             'f05': 0.7470279133902284,\n",
              "             'auc': 0.8133641448594151,\n",
              "             'N_support': 11562,\n",
              "             'accuracy_agg': 0.8096590909090909,\n",
              "             'precision_agg': 0.8528546203649205,\n",
              "             'recall_agg': 0.7484504132231405,\n",
              "             'f1_agg': 0.7972489683631361,\n",
              "             'f05_agg': 0.8297068254695374,\n",
              "             'auc_agg': 0.8811241761150195,\n",
              "             'N_support_agg': 3872})"
            ]
          },
          "execution_count": 3,
          "metadata": {},
          "output_type": "execute_result"
        }
      ],
      "source": [
        "def get_features_extractor(reducer_names):\n",
        "    def extract_features(df, start, end, prefix=\"\"):\n",
        "        # columns are datetime -> can slice directly between two dates\n",
        "        df = df.loc[:, start:end]\n",
        "\n",
        "        # features\n",
        "        df_features = pd.DataFrame(index=df.index)\n",
        "        if \"mean\" in reducer_names:\n",
        "            df_features[\"mean\"] = df.mean(axis=1)\n",
        "        if \"stdDev\" in reducer_names:\n",
        "            df_features[\"std\"] = df.std(axis=1)\n",
        "        if \"median\" in reducer_names:\n",
        "            df_features[\"median\"] = df.median(axis=1)\n",
        "        if \"min\" in reducer_names:\n",
        "            df_features[\"min\"] = df.min(axis=1)\n",
        "        if \"max\" in reducer_names:\n",
        "            df_features[\"max\"] = df.max(axis=1)\n",
        "        if \"skew\" in reducer_names:\n",
        "            df_features[\"skew\"] = df.skew(axis=1)\n",
        "        if \"kurtosis\" in reducer_names:\n",
        "            df_features[\"kurt\"] = df.kurt(axis=1)\n",
        "\n",
        "        # rename columns using band, prefix (eg pre/post/pre_3x3, ...)\n",
        "        df_vv = df_features.xs(\"VV\", level=\"band\")\n",
        "        df_vh = df_features.xs(\"VH\", level=\"band\")\n",
        "        df_vv.columns = [f\"VV_{prefix}_{col}\" for col in df_vv.columns]\n",
        "        df_vh.columns = [f\"VH_{prefix}_{col}\" for col in df_vh.columns]\n",
        "        return pd.concat([df_vv, df_vh], axis=1)\n",
        "    return extract_features\n",
        "\n",
        "cfg = OmegaConf.create(\n",
        "    dict(\n",
        "        aggregation_method=\"mean\",\n",
        "        model_name= \"random_forest\",\n",
        "        model_kwargs=dict(\n",
        "            n_estimators=200,\n",
        "            min_samples_leaf=2,\n",
        "            n_jobs=12,\n",
        "        ),\n",
        "        data=dict(\n",
        "            aois_test = [f'UKR{i}' for i in range(1,19) if i not in [1,2,3,4]], # [\"UKR6\", \"UKR8\", \"UKR12\", \"UKR15\"],\n",
        "            damages_to_keep=[1,2],\n",
        "            extract_winds = ['3x3'], # ['1x1', '3x3', '5x5']\n",
        "            random_neg_labels=0.0,  # percentage of negative labels to add in training set (eg 0.1 for 10%)\n",
        "            time_periods = {\n",
        "                'pre': [('2020-02-24', '2021-02-23')],\n",
        "                'post' : [\n",
        "                    ('2021-02-24', '2022-02-23'),\n",
        "                    ('2022-02-24', '2023-02-23')\n",
        "                ]\n",
        "            },\n",
        "        ),\n",
        "        reducer_names=[\"mean\", \"stdDev\", \"median\", \"min\", \"max\", \"skew\", \"kurtosis\"],\n",
        "        seed=123,\n",
        "        run_name=None,\n",
        "    )\n",
        ")\n",
        "\n",
        "ds = UNOSAT_S1TS_Dataset(cfg.data, extract_features=get_features_extractor(cfg.reducer_names))\n",
        "model = load_model(cfg)\n",
        "trainer = S1TSDD_Trainer(ds, model, aggregation=cfg.aggregation_method, seed=cfg.seed, verbose=1)\n",
        "trainer.train_and_test(threshold_for_metrics=0.5)"
      ]
    },
    {
      "cell_type": "code",
      "execution_count": 10,
      "metadata": {},
      "outputs": [
        {
          "data": {
            "text/html": [
              "\n",
              "            <style>\n",
              "                .geemap-dark {\n",
              "                    --jp-widgets-color: white;\n",
              "                    --jp-widgets-label-color: white;\n",
              "                    --jp-ui-font-color1: white;\n",
              "                    --jp-layout-color2: #454545;\n",
              "                    background-color: #383838;\n",
              "                }\n",
              "                    \n",
              "                .geemap-dark .jupyter-button {\n",
              "                    --jp-layout-color3: #383838;\n",
              "                }\n",
              "                \n",
              "                .geemap-colab {\n",
              "                    background-color: var(--colab-primary-surface-color, white);\n",
              "                }\n",
              "                    \n",
              "                .geemap-colab .jupyter-button {\n",
              "                    --jp-layout-color3: var(--colab-primary-surface-color, white);\n",
              "                }\n",
              "            </style>\n",
              "            "
            ],
            "text/plain": [
              "<IPython.core.display.HTML object>"
            ]
          },
          "metadata": {},
          "output_type": "display_data"
        },
        {
          "data": {
            "text/plain": [
              "0.8264172471775162"
            ]
          },
          "execution_count": 10,
          "metadata": {},
          "output_type": "execute_result"
        }
      ],
      "source": [
        "n_train = ds.df.groupby(['aoi', 'orbit', 'unosat_id']).size().shape[0]\n",
        "n_test = ds.df_test.groupby(['aoi', 'orbit', 'unosat_id']).size().shape[0]\n",
        "n_train / (n_train + n_test)"
      ]
    },
    {
      "cell_type": "code",
      "execution_count": null,
      "metadata": {},
      "outputs": [],
      "source": [
        "from sklearn.metrics import classification_report\n",
        "\n",
        "threshold=0.5\n",
        "df_preds_agg = trainer.df_preds_agg\n",
        "for aoi in df_preds_agg.aoi.unique():\n",
        "    print(f\"AOI {aoi}\")\n",
        "    y_true = df_preds_agg[df_preds_agg.aoi == aoi].label\n",
        "    y_preds = (df_preds_agg[df_preds_agg.aoi == aoi].preds_proba > threshold).astype(int)\n",
        "    print(classification_report(y_true, y_preds, target_names=[\"intact\", \"destroyed\"], digits=3))"
      ]
    },
    {
      "cell_type": "markdown",
      "metadata": {},
      "source": [
        "# Dense inference"
      ]
    },
    {
      "cell_type": "code",
      "execution_count": null,
      "metadata": {},
      "outputs": [],
      "source": [
        "from src.classification.dense_inference import perform_dense_inference\n",
        "\n",
        "aoi = 'UKR6'\n",
        "model = trainer.model\n",
        "time_periods = {'pre': ['2020-02-24', '2021-02-23'], 'post': ['2022-02-24', '2023-02-23']}\n",
        "extract_winds = cfg.data.extract_winds\n",
        "extract_features=extract_features\n",
        "verbose=1\n",
        "\n",
        "preds_agg, preds = perform_dense_inference(aoi, model, time_periods, extract_winds, extract_features, verbose=verbose)"
      ]
    },
    {
      "cell_type": "code",
      "execution_count": null,
      "metadata": {},
      "outputs": [],
      "source": [
        "from src.visualization.dense_predictions import plot_dense_predictions\n",
        "\n",
        "plot_dense_predictions(\n",
        "    preds_agg,\n",
        "    aoi,\n",
        "    start='2022-02-24',\n",
        "    end='2023-02-23',\n",
        "    damages_to_keep=cfg.data.damages_to_keep,\n",
        "    threshold=0.65,\n",
        "    clip_to_aoi=True,\n",
        "    compute_metrics=True,\n",
        "    show=True\n",
        ")"
      ]
    },
    {
      "cell_type": "code",
      "execution_count": null,
      "metadata": {},
      "outputs": [],
      "source": [
        "from src.visualization.dense_predictions import plot_dense_predictions\n",
        "\n",
        "plot_dense_predictions(\n",
        "    preds_agg,\n",
        "    aoi,\n",
        "    start='2022-02-24',\n",
        "    end='2023-02-23',\n",
        "    damages_to_keep=cfg.data.damages_to_keep,\n",
        "    threshold=0.65,\n",
        "    clip_to_aoi=True,\n",
        "    compute_metrics=True,\n",
        "    show=True\n",
        ")"
      ]
    },
    {
      "cell_type": "code",
      "execution_count": null,
      "metadata": {},
      "outputs": [],
      "source": []
    }
  ],
  "metadata": {
    "kernelspec": {
      "display_name": "Python 3",
      "language": "python",
      "name": "python3"
    },
    "language_info": {
      "codemirror_mode": {
        "name": "ipython",
        "version": 3
      },
      "file_extension": ".py",
      "mimetype": "text/x-python",
      "name": "python",
      "nbconvert_exporter": "python",
      "pygments_lexer": "ipython3",
      "version": "3.8.18"
    }
>>>>>>> d62b73b (save before holidays)
  },
  "nbformat": 4,
  "nbformat_minor": 2
}
