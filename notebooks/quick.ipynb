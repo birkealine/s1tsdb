{
 "cells": [
  {
   "cell_type": "code",
   "execution_count": null,
   "metadata": {},
   "outputs": [],
   "source": [
    "%load_ext autoreload\n",
    "%autoreload 2"
   ]
  },
  {
   "cell_type": "code",
   "execution_count": null,
   "metadata": {},
   "outputs": [],
   "source": [
    "import ee\n",
    "import geemap\n",
    "\n",
    "from src.utils.gee import init_gee\n",
    "init_gee()"
   ]
  },
  {
   "cell_type": "code",
   "execution_count": null,
   "metadata": {},
   "outputs": [],
   "source": [
    "import duckdb\n",
    "\n",
    "db = duckdb.connect()\n",
    "db.execute(\"INSTALL spatial\")\n",
    "db.execute(\"INSTALL httpfs\")\n",
    "db.execute(\n",
    "    \"\"\"\n",
    "    LOAD spatial;\n",
    "    LOAD httpfs;\n",
    "    SET s3_region='us-west-2';\n",
    "\"\"\"\n",
    ")"
   ]
  },
  {
   "cell_type": "code",
   "execution_count": null,
   "metadata": {},
   "outputs": [],
<<<<<<< HEAD
<<<<<<< HEAD
<<<<<<< HEAD
   "source": []
=======
=======
>>>>>>> 74c5513 (save before holidays)
=======
>>>>>>> 74c5513f151a463e1bca389700135d3ff404a4db
   "source": [
    "import duckdb\n",
    "from src.constants import OVERTURE_BUILDINGS_RAW_PATH\n",
    "\n",
    "db = duckdb.connect()\n",
    "db.execute(\"INSTALL spatial; INSTALL httpfs; LOAD spatial; LOAD httpfs; SET s3_region='us-west-2';\")\n",
    "\n",
    "\n",
    "FP_RAW_PARQUET = OVERTURE_BUILDINGS_RAW_PATH / \"ukraine_buildings.parquet\"\n",
    "\n",
    "db.execute(\n",
    "    f\"\"\"\n",
    "    SELECT JSON(sources)[0].dataset as dataset, COUNT(*) AS count\n",
    "    FROM read_parquet('{FP_RAW_PARQUET}', hive_partitioning=1)\n",
    "    GROUP BY dataset\n",
    "\"\"\"\n",
    ").fetchall()"
   ]
<<<<<<< HEAD
<<<<<<< HEAD
>>>>>>> d62b73b (save before holidays)
=======
>>>>>>> 74c5513 (save before holidays)
=======
>>>>>>> 74c5513f151a463e1bca389700135d3ff404a4db
  },
  {
   "cell_type": "code",
   "execution_count": null,
   "metadata": {},
   "outputs": [],
<<<<<<< HEAD
<<<<<<< HEAD
<<<<<<< HEAD
=======
=======
>>>>>>> 74c5513 (save before holidays)
=======
>>>>>>> 74c5513f151a463e1bca389700135d3ff404a4db
   "source": [
    "import osmnx as ox\n",
    "\n",
    "from src.data import get_unosat_geometry\n",
    "geo = get_unosat_geometry('UKR1')\n",
    "gdf = ox.features_from_polygon(geo, tags={'building':True})"
   ]
  },
  {
   "cell_type": "code",
   "execution_count": null,
   "metadata": {},
   "outputs": [],
   "source": [
    "gdf[['geometry']].explore()"
   ]
  },
  {
   "cell_type": "code",
   "execution_count": null,
   "metadata": {},
   "outputs": [],
   "source": [
    "gdf[['geometry']].to_file('osm_UKR1.geojson', driver='GeoJSON')"
   ]
  },
  {
   "cell_type": "code",
   "execution_count": null,
   "metadata": {},
   "outputs": [],
<<<<<<< HEAD
<<<<<<< HEAD
>>>>>>> d62b73b (save before holidays)
=======
>>>>>>> 74c5513 (save before holidays)
=======
>>>>>>> 74c5513f151a463e1bca389700135d3ff404a4db
   "source": [
    "from src.data.predictions_grid import load_ukraine_quadkeys_grid\n",
    "grid = load_ukraine_quadkeys_grid()\n",
    "geo = grid.iloc[0].geometry\n",
    "minx, miny, maxx, maxy = geo.bounds"
   ]
  },
  {
   "cell_type": "code",
   "execution_count": null,
   "metadata": {},
   "outputs": [],
   "source": [
    "from src.constants import RAW_PATH\n",
    "db.execute(f\"\"\"\n",
    "    SELECT\n",
    "        ST_GeomFromWKB(geometry) as geometry\n",
    "    FROM\n",
    "        read_parquet('{RAW_PATH / 'overture_buildings' / 'ukraine_buildings.parquet'}')\n",
    "    WHERE\n",
    "        bbox.minX >= {minx}\n",
    "    AND bbox.minY >= {miny}\n",
    "    AND bbox.maxX <= {maxx}\n",
    "    AND bbox.maxY <= {maxy}\n",
    "\"\"\").fetchall()"
   ]
  },
  {
   "cell_type": "code",
   "execution_count": null,
<<<<<<< HEAD
<<<<<<< HEAD
<<<<<<< HEAD
=======
=======
>>>>>>> 74c5513 (save before holidays)
=======
>>>>>>> 74c5513f151a463e1bca389700135d3ff404a4db
   "metadata": {},
   "outputs": [],
   "source": [
    "import geopandas as gpd\n",
    "from src.constants import OVERTURE_QK_PATH\n",
    "\n",
    "gdf = gpd.read_file(OVERTURE_QK_PATH / 'grid_overture_qk_zoom11.geojson')\n",
    "gdf.explore()"
   ]
  },
  {
   "cell_type": "code",
   "execution_count": null,
<<<<<<< HEAD
<<<<<<< HEAD
>>>>>>> d62b73b (save before holidays)
=======
>>>>>>> 74c5513 (save before holidays)
=======
>>>>>>> 74c5513f151a463e1bca389700135d3ff404a4db
   "metadata": {},
   "outputs": [],
   "source": [
    "from collections import Counter, defaultdict\n",
    "import datetime as dt\n",
    "import geopandas as gpd\n",
    "import matplotlib.pyplot as plt\n",
    "import numpy as np\n",
    "from omegaconf import OmegaConf\n",
    "import pandas as pd\n",
    "import rioxarray as rxr\n",
    "from tqdm import tqdm\n",
    "import xarray as xr\n",
    "\n",
    "from src.data import load_unosat_labels, load_unosat_aois\n",
    "from src.data.sentinel1.time_series import get_s1_ts\n",
    "from src.data.old_datasets import load_datasets\n",
    "from src.constants import AOIS_TEST, PROCESSED_PATH"
   ]
  },
  {
   "cell_type": "code",
   "execution_count": null,
   "metadata": {},
   "outputs": [],
   "source": [
    "from src.visualization.time_series import plot_ts"
   ]
  },
  {
   "cell_type": "code",
   "execution_count": null,
   "metadata": {},
   "outputs": [],
   "source": [
    "aoi = 'UKR1'\n",
    "orbit = 43\n",
    "s1_ts = get_s1_ts(aoi, orbit)\n",
    "s1_ts"
   ]
  },
  {
   "cell_type": "code",
   "execution_count": null,
   "metadata": {},
   "outputs": [],
   "source": [
    "fp = PROCESSED_PATH / 'settlements_predictions/tmp/2021-10-01_2dates_32d_ukraine.tif'\n",
    "assert fp.exists()\n",
    "\n",
    "ds = rxr.open_rasterio(fp)"
   ]
  },
  {
   "cell_type": "code",
   "execution_count": null,
   "metadata": {},
   "outputs": [],
   "source": [
    "cfg = OmegaConf.create(\n",
    "    dict(\n",
    "        extraction_strategy=\"3x3\",\n",
    "        n_tiles=32,\n",
    "        aggregation_method=\"mean\",\n",
    "        labels_to_keep=[1,2],\n",
    "        add_random_neg_labels=0.1,  # percentage of negative labels to add (eg 0.1 for 10%)\n",
    "        aois_test=AOIS_TEST,\n",
    "        model_name=\"random_forest\",\n",
    "        model_kwargs=dict(\n",
    "            n_estimators=100,\n",
    "            n_jobs=8,\n",
    "        ),\n",
    "        train_cfg=dict(\n",
    "            sliding_window=True,\n",
    "            start_month_pre=\"2020-10\",  # not used if sliding_window=True\n",
    "            start_month_post=\"2021-10\",\n",
    "            remove_unknown_labels=True,\n",
    "        ),\n",
    "        test_cfg=dict(\n",
    "            sliding_window=False,\n",
    "            start_month_pre=\"2020-10\",  # same\n",
    "            start_month_post=\"2021-10\",\n",
    "            remove_unknown_labels=True,\n",
    "        ),\n",
    "        seed=123,\n",
    "        run_name=None,\n",
    "    )\n",
    ")\n",
    "\n",
    "df, df_test = load_datasets(cfg)"
   ]
  },
  {
   "cell_type": "code",
   "execution_count": null,
   "metadata": {},
   "outputs": [],
   "source": [
    "from src.data.utils import read_ts\n",
    "from src.visualization.time_series import plot_ts\n",
    "aoi = 'UKR9'\n",
    "orbit = 36\n",
    "id_ = 15050\n",
    "extraction_strategy = \"3x3\"\n",
    "ts = read_ts(aoi, orbit, id_, extraction_strategy)\n",
    "plot_ts(ts)"
   ]
  },
  {
   "cell_type": "code",
   "execution_count": null,
   "metadata": {},
   "outputs": [],
   "source": [
    "from src.constants import UKRAINE_WAR_START\n",
    "\n",
    "loc_legend = \"lower left\"\n",
    "add_legend = True\n",
    "title = None\n",
    "add_invasion_date = True\n",
    "add_analysis_date = True\n",
    "periods = {\"pre\": (\"2021-04-01\", \"2021-11-01\"), 'post': (\"2022-04-01\", \"2022-11-01\")}\n",
    "aoi = \"UKR9\"\n",
    "orbit = 36\n",
    "id_ = 15050\n",
    "extraction_strategy = \"3x3\"\n",
    "ts = read_ts(aoi, orbit, id_, extraction_strategy)\n",
    "\n",
    "#ts = ts.sel(date=slice(\"2021-01-01\",None))\n",
    "\n",
    "_, ax = plt.subplots(figsize=(10, 3))\n",
    "ax.axhline(0, color=\"k\", linewidth=0.5)\n",
    "d_color = {\"VV\": \"C1\", \"VH\": \"C0\"}\n",
    "for band in ts.band.values:\n",
    "    if band not in d_color:\n",
    "        # ignore additional bands if any\n",
    "        continue\n",
    "    ts.sel(band=band).plot(x=\"date\", color=d_color[band], label=band, ax=ax)\n",
    "\n",
    "invasion_date = UKRAINE_WAR_START\n",
    "if add_invasion_date and ts.date[0].dt.strftime(\"%Y-%m-%d\") < invasion_date < ts.date[-1].dt.strftime(\"%Y-%m-%d\"):\n",
    "    ax.axvline(\n",
    "        dt.date.fromisoformat(invasion_date),\n",
    "        color=\"r\",\n",
    "        linestyle=\"--\",\n",
    "        label=\"date of invasion\",\n",
    "    )\n",
    "\n",
    "analysis_date = ts.date_of_analysis\n",
    "if add_analysis_date and ts.date[0].dt.strftime(\"%Y-%m-%d\") < analysis_date < ts.date[-1].dt.strftime(\"%Y-%m-%d\"):\n",
    "    ax.axvline(\n",
    "        dt.date.fromisoformat(analysis_date),\n",
    "        color=\"g\",\n",
    "        linestyle=\"--\",\n",
    "        label=\"date of analysis\",\n",
    "    )\n",
    "\n",
    "\n",
    "ax.axvspan(dt.date.fromisoformat(periods['pre'][0]), dt.date.fromisoformat(periods['pre'][1]), color='C2', alpha=0.3)\n",
    "ax.axvspan(dt.date.fromisoformat(periods[\"post\"][0]), dt.date.fromisoformat(periods[\"post\"][1]), color=\"C3\", alpha=0.3)\n",
    "\n",
    "ax.set_xlabel(\"Date\")\n",
    "ax.set_ylabel(\"Backscatter (dB)\")\n",
    "ax.set_xlim([dt.date.fromisoformat(\"2020-08-01\"), dt.date.fromisoformat(\"2023-06-01\")])\n",
    "ax.set_ylim([-25, 10])\n",
    "ax.grid(axis=\"x\")\n",
    "if add_legend:\n",
    "    ax.legend(loc=loc_legend)\n",
    "if title is None:\n",
    "    title = f\"{ts.aoi} - orbit {ts.orbit} - ID {ts.unosat_id} - {extraction_strategy}\"\n",
    "    ax.set_title(title)"
   ]
  },
  {
   "cell_type": "code",
   "execution_count": null,
   "metadata": {},
   "outputs": [],
   "source": [
    "df[df.random_location==1].shape"
   ]
  },
  {
   "cell_type": "code",
   "execution_count": null,
   "metadata": {},
   "outputs": [],
   "source": [
    "from src.data import load_unosat_labels\n",
    "from collections import Counter\n",
    "from src.constants import DAMAGE_COLORS\n",
    "\n",
    "labels = load_unosat_labels(labels_to_keep=None)\n",
    "\n",
    "# Plot the number of each damage\n",
    "damage_counts = Counter(labels[\"damage\"])\n",
    "\n",
    "# Grouping other labels into one category\n",
    "other_label_count = sum(count for damage, count in damage_counts.items() if damage > 3)\n",
    "\n",
    "# Preparing data for plotting\n",
    "labels_names = [\"Destroyed\", \"Severe Damage\", \"Moderate Damage\", \"Other\"]\n",
    "counts = [damage_counts[1], damage_counts[2], damage_counts[3], other_label_count]\n",
    "colors = [DAMAGE_COLORS[damage] for damage in range(1, 4)] + [DAMAGE_COLORS[4]]\n",
    "\n",
    "# Creating the bar plot\n",
    "plt.figure(figsize=(10, 6))  # Bigger figure size for better visibility\n",
    "plt.bar(labels_names, counts, color=colors)\n",
    "plt.title(f\"Damage Distribution (N={len(labels)})\", fontsize=20)  # Bigger title font\n",
    "plt.xlabel(\"Damage Type\", fontsize=18)\n",
    "plt.ylabel(\"Number of Rows\", fontsize=18)\n",
    "plt.xticks(fontsize=16)  # Bigger x-tick labels\n",
    "plt.yticks(fontsize=16)  # Bigger y-tick labels\n",
    "plt.tight_layout()  # Adjust layout to fit the figure area\n",
    "plt.show()"
   ]
  },
  {
   "cell_type": "code",
   "execution_count": null,
   "metadata": {},
   "outputs": [],
   "source": [
    "aoi = 'UKR1'\n",
    "orbit = 43\n",
    "start_date = '2021-01-01'\n",
    "s1_ts, dates = get_s1_ts(aoi, orbit, start_date = start_date, n_dates=32, chunks=None, return_dates=True)\n",
    "s1_ts"
   ]
  },
  {
   "cell_type": "code",
   "execution_count": null,
   "metadata": {},
   "outputs": [],
   "source": [
    "from src.constants import S1_PATH\n",
    "from src.data.sentinel1.utils import read_s1\n",
    "\n",
    "base_folder = S1_PATH\n",
    "n_dates = 32\n",
    "aoi = \"UKR1\"\n",
    "orbit = 43\n",
    "folder = base_folder / aoi / f\"orbit_{orbit}\"\n",
    "start_date = \"2021-01-01\"\n",
    "end_date = None\n",
    "crs_proj = 'epsg:4326'\n",
    "\n",
    "# Get all tiles corresponding to AOI/orbit and fitler by dates\n",
    "start_date = start_date or \"0000-00-00\"\n",
    "end_date = None or \"9999-99-99\"\n",
    "\n",
    "fps = sorted(folder.glob(\"*.tif\"))\n",
    "fps = [fp for fp in fps if start_date <= fp.stem <= end_date]\n",
    "dates_ = [fp.stem for fp in fps]\n",
    "\n",
    "if n_dates is not None:\n",
    "    if start_date != \"0000-00-00\":\n",
    "        dates_ = dates_[:n_dates]\n",
    "        fps = fps[:n_dates]\n",
    "    else:\n",
    "        dates_ = dates_[-n_dates:]\n",
    "        fps = fps[-n_dates:]\n",
    "\n",
    "# Concatenate along new dimension \"date\"\n",
    "dates = xr.Variable(\"date\", pd.to_datetime(dates_))\n",
    "s1_tiles = [read_s1(fp) for fp in fps]\n",
    "if crs_proj is not None:\n",
    "    s1_tiles = [tile.rio.reproject(crs_proj) for tile in s1_tiles]\n",
    "s1_ts_ = xr.concat(s1_tiles, dim=dates)"
   ]
  },
  {
   "cell_type": "code",
   "execution_count": null,
   "metadata": {},
   "outputs": [],
   "source": [
    "s1_ts.shape"
   ]
  },
  {
   "cell_type": "code",
   "execution_count": null,
   "metadata": {},
   "outputs": [],
   "source": [
    "s1_ts_.shape"
   ]
  },
  {
   "cell_type": "code",
   "execution_count": null,
   "metadata": {},
   "outputs": [],
   "source": [
    "from src.data import load_unosat_labels\n",
    "unosat_id=8323\n",
    "labels = load_unosat_labels(aoi).to_crs(s1_ts_.rio.crs)\n",
    "geo = labels.loc[unosat_id].geometry\n",
    "geo.wkt"
   ]
  },
  {
   "cell_type": "code",
   "execution_count": null,
   "metadata": {},
   "outputs": [],
   "source": [
    "\n",
    "cfg = OmegaConf.create(\n",
    "    dict(\n",
    "        extraction_strategy=\"3x3\",\n",
    "        n_tiles=32,\n",
    "        aggregation_method=\"mean\",\n",
    "        labels_to_keep='all',\n",
    "        add_random_neg_labels=0,  # percentage of negative labels to add\n",
    "        aois_test=AOIS_TEST,\n",
    "        model_name=\"random_forest\",\n",
    "        model_kwargs=dict(\n",
    "            n_estimators=100,\n",
    "            n_jobs=8,\n",
    "        ),\n",
    "        train_cfg=dict(\n",
    "            sliding_window=True,\n",
    "            start_month_pre=\"2020-10\",  # not used if sliding_window=True\n",
    "            start_month_post=\"2021-10\",\n",
    "            remove_unknown_labels=True,\n",
    "        ),\n",
    "        test_cfg=dict(\n",
    "            sliding_window=False,\n",
    "            start_month_pre=\"2020-10\",  # same\n",
    "            start_month_post=\"2021-10\",\n",
    "            remove_unknown_labels=True,\n",
    "        ),\n",
    "        seed=123,\n",
    "        run_name=None,\n",
    "    )\n",
    ")\n",
    "\n",
    "df, df_test = load_datasets(cfg)"
   ]
  },
  {
   "cell_type": "code",
   "execution_count": null,
   "metadata": {},
   "outputs": [],
   "source": [
    "aois = load_unosat_aois()\n",
    "aois"
   ]
  },
  {
   "cell_type": "code",
   "execution_count": null,
   "metadata": {},
   "outputs": [],
   "source": [
    "aois.set_index('aoi').area.sort_values()"
   ]
  },
  {
   "cell_type": "code",
   "execution_count": null,
   "metadata": {},
   "outputs": [],
   "source": [
    "from src.data import load_unosat_aois\n",
    "from src.constants import CRS_UKRAINE\n",
    "from src.data.utils import aoi_to_city\n",
    "import re\n",
    "\n",
    "aois = load_unosat_aois().set_index(\"aoi\").to_crs(CRS_UKRAINE)\n",
    "aois['geometry'] = aois.geometry.centroid\n",
    "aois.reset_index(inplace=True)\n",
    "aois[\"name\"] = aois.aoi.map(aoi_to_city)\n",
    "aois.to_file('aois_ukr_centroids.geojson', driver='GeoJSON')"
   ]
  },
  {
   "cell_type": "code",
   "execution_count": null,
   "metadata": {},
   "outputs": [],
   "source": [
    "from src.data.unosat import load_unosat_aois, load_unosat_labels\n",
    "\n",
    "labels = load_unosat_labels()\n",
    "labels"
   ]
  },
  {
   "cell_type": "code",
   "execution_count": null,
   "metadata": {},
   "outputs": [],
   "source": [
    "load_unosat_aois().set_index('aoi').explore()"
   ]
  },
  {
   "cell_type": "code",
   "execution_count": null,
   "metadata": {},
   "outputs": [],
   "source": [
    "from src.data.sentinel1.time_series import get_s1_ts\n",
    "\n",
    "s1_ts = get_s1_ts('UKR1', n_dates=10)"
   ]
  },
  {
   "cell_type": "code",
   "execution_count": null,
   "metadata": {},
   "outputs": [],
   "source": [
    "s1_ts"
   ]
  },
  {
   "cell_type": "code",
   "execution_count": null,
   "metadata": {},
   "outputs": [],
   "source": [
    "import pandas as pd\n",
    "from src.constants import READY_PATH\n",
    "fp = READY_PATH / \"time_series_datasets\" / f\"ts_32d_3x3.csv\"\n",
    "df = pd.read_csv(fp)\n",
    "df"
   ]
  },
  {
   "cell_type": "code",
   "execution_count": null,
   "metadata": {},
   "outputs": [],
   "source": [
    "from src.visualization.time_series import plot_ts_from_id\n",
    "plot_ts_from_id('UKR6', 36, 14087, extraction_strategy='3x3')"
   ]
  },
  {
   "cell_type": "code",
   "execution_count": null,
   "metadata": {},
   "outputs": [],
   "source": [
    "import datetime as dt\n",
    "import matplotlib.pyplot as plt\n",
    "from src.data.utils import read_ts\n",
    "from src.constants import UKRAINE_WAR_START\n",
    "import matplotlib.dates as mdates\n",
    "\n",
    "\n",
    "aoi = 'UKR3'\n",
    "orbit = 21\n",
    "id_ = 21992\n",
    "extraction_strategy = \"3x3\"\n",
    "start_date = \"2020-02-24\"\n",
    "end_date = \"2023-02-23\"\n",
    "add_analysis_date = True\n",
    "add_invasion_date = True\n",
    "add_legend = True\n",
    "loc_legend = \"lower left\"\n",
    "title = None\n",
    "\n",
    "\n",
    "ts = read_ts(aoi, orbit, id_, extraction_strategy)\n",
    "ts = ts.sel(date=slice(start_date, end_date))\n",
    "\n",
    "_, ax = plt.subplots(figsize=(10, 3))\n",
    "\n",
    "# Plot vertical line at 0\n",
    "ax.axhline(0, color=\"k\", linewidth=0.5)\n",
    "d_color = {\"VV\": \"C1\", \"VH\": \"C0\"}\n",
    "# Plot each band with correct color\n",
    "for band in ts.band.values:\n",
    "    if band not in d_color:\n",
    "        # ignore additional bands if any\n",
    "        continue\n",
    "    ts.sel(band=band).plot(x=\"date\", color=d_color[band], label=band, ax=ax)\n",
    "\n",
    "invasion_date = UKRAINE_WAR_START\n",
    "if add_invasion_date and ts.date[0].dt.strftime(\"%Y-%m-%d\") < invasion_date < ts.date[-1].dt.strftime(\"%Y-%m-%d\"):\n",
    "    ax.axvline(\n",
    "        dt.date.fromisoformat(invasion_date),\n",
    "        color=\"r\",\n",
    "        linestyle=\"--\",\n",
    "        label=\"date of invasion\",\n",
    "    )\n",
    "\n",
    "analysis_date = ts.date_of_analysis\n",
    "if add_analysis_date and ts.date[0].dt.strftime(\"%Y-%m-%d\") < analysis_date < ts.date[-1].dt.strftime(\"%Y-%m-%d\"):\n",
    "    ax.axvline(\n",
    "        dt.date.fromisoformat(analysis_date),\n",
    "        color=\"g\",\n",
    "        linestyle=\"--\",\n",
    "        label=\"date of analysis\",\n",
    "    )\n",
    "\n",
    "# Add legend\n",
    "ax.set_xlabel(\"Date\")\n",
    "ax.set_ylabel(\"Backscatter (dB)\")\n",
    "ax.set_ylim([-30, 10])\n",
    "ax.xaxis.set_major_locator(mdates.MonthLocator(interval=3))\n",
    "ax.xaxis.set_major_formatter(mdates.DateFormatter(\"%Y-%m\"))\n",
    "ax.set_xticklabels(ax.get_xticklabels(), rotation=30, ha=\"center\")\n",
    "ax.grid(axis=\"x\")\n",
    "if add_legend:\n",
    "    ax.legend(loc=loc_legend, framealpha=1)\n",
    "if title is None:\n",
    "    title = f\"{ts.aoi} - orbit {ts.orbit} - ID {ts.unosat_id}\"\n",
    "ax.set_title(title)\n",
    "\n",
    "plt.show()"
   ]
  },
  {
   "cell_type": "code",
   "execution_count": null,
   "metadata": {},
   "outputs": [],
   "source": [
    "import datetime as dt\n",
    "import matplotlib.pyplot as plt\n",
    "from src.data.utils import read_ts\n",
    "from src.constants import UKRAINE_WAR_START\n",
    "import matplotlib.dates as mdates\n",
    "\n",
    "aoi = \"UKR3\"\n",
    "orbit = 21\n",
    "id_ = 21992\n",
    "extraction_strategy = \"3x3\"\n",
    "start_date = \"2020-02-24\"\n",
    "end_date = \"2023-02-23\"\n",
    "add_analysis_date = True\n",
    "add_invasion_date = True\n",
    "add_legend = True\n",
    "loc_legend = \"lower left\"\n",
    "\n",
    "ts = read_ts(aoi, orbit, id_, extraction_strategy)\n",
    "ts = ts.sel(date=slice(start_date, end_date))\n",
    "\n",
    "_, ax = plt.subplots(figsize=(12, 5))  # Increased figure size\n",
    "\n",
    "# Plot customization\n",
    "ax.axhline(0, color=\"k\", linewidth=0.5)\n",
    "d_color = {\"VV\": \"C1\", \"VH\": \"C0\"}\n",
    "\n",
    "# Event lines\n",
    "invasion_date = UKRAINE_WAR_START\n",
    "if add_invasion_date and ts.date[0].dt.strftime(\"%Y-%m-%d\") < invasion_date < ts.date[-1].dt.strftime(\"%Y-%m-%d\"):\n",
    "    ax.axvline(dt.date.fromisoformat(invasion_date), color=\"r\", linestyle=\"--\", label=\"Date of Invasion\", linewidth=1.5)\n",
    "\n",
    "analysis_date = ts.date_of_analysis\n",
    "if add_analysis_date and ts.date[0].dt.strftime(\"%Y-%m-%d\") < analysis_date < ts.date[-1].dt.strftime(\"%Y-%m-%d\"):\n",
    "    ax.axvline(dt.date.fromisoformat(analysis_date), color=\"g\", linestyle=\"--\", label=\"Date of Analysis\", linewidth=1.5)\n",
    "\n",
    "for band in ts.band.values:\n",
    "    if band not in d_color:\n",
    "        continue\n",
    "    ts.sel(band=band).plot(x=\"date\", color=d_color[band], label=band, ax=ax, linewidth=2)\n",
    "\n",
    "\n",
    "# Axis and grid configuration\n",
    "ax.set_xlabel(\"Date\", fontsize=14)\n",
    "ax.set_ylabel(\"Backscatter (dB)\", fontsize=14)\n",
    "ax.set_ylim([-30, 10])\n",
    "ax.xaxis.set_major_locator(mdates.MonthLocator(interval=3))\n",
    "ax.xaxis.set_major_formatter(mdates.DateFormatter(\"%Y-%m\"))\n",
    "ax.set_xticklabels(ax.get_xticklabels(), rotation=30, ha=\"center\", fontsize=12)\n",
    "ax.set_yticklabels(ax.get_yticklabels(), fontsize=12)\n",
    "ax.grid(axis=\"x\", linestyle=\"--\", alpha=0.7)\n",
    "ax.grid(axis=\"y\", linestyle=\"--\", alpha=0.7)\n",
    "\n",
    "# Legend and title\n",
    "if add_legend:\n",
    "    ax.legend(loc=loc_legend, framealpha=1, fontsize=12)\n",
    "if title is None:\n",
    "    title = f\"{ts.aoi} - Orbit {ts.orbit} - ID {ts.unosat_id}\"\n",
    "ax.set_title(title, fontsize=16)\n",
    "\n",
    "plt.tight_layout()\n",
    "# plt.savefig(\"ts_analysis_figure.png\", dpi=300)  # Save figure with high resolution\n",
    "# plt.show()"
   ]
  },
  {
   "cell_type": "code",
   "execution_count": null,
   "metadata": {},
   "outputs": [],
   "source": [
    "from src.data.utils import aoi_to_city\n",
    "aoi_to_city('UKR4')"
   ]
  },
  {
   "cell_type": "code",
   "execution_count": null,
   "metadata": {},
   "outputs": [],
   "source": [
    "from src.data import load_unosat_labels\n",
    "import numpy as np\n",
    "from src.data.sentinel1.orbits import get_valid_orbits\n",
    "\n",
    "\n",
    "labels = load_unosat_labels()\n",
    "labels = labels[labels.date > '2022-08-01']\n",
    "\n",
    "# plot random rows\n",
    "n_rows = 15\n",
    "rows = labels.sample(n_rows, random_state=124)\n",
    "\n",
    "for unosat_id, row in rows.iterrows():\n",
    "    orbits = get_valid_orbits(row.aoi)\n",
    "    # random orbit\n",
    "    orbit = np.random.choice(orbits)\n",
    "    plot_ts_from_id(row.aoi, orbit, unosat_id, extraction_strategy='3x3')"
   ]
  },
  {
   "cell_type": "code",
   "execution_count": null,
   "metadata": {},
   "outputs": [],
   "source": []
  }
 ],
 "metadata": {
  "kernelspec": {
   "display_name": "Python 3",
   "language": "python",
   "name": "python3"
  },
  "language_info": {
   "codemirror_mode": {
    "name": "ipython",
    "version": 3
   },
   "file_extension": ".py",
   "mimetype": "text/x-python",
   "name": "python",
   "nbconvert_exporter": "python",
   "pygments_lexer": "ipython3",
   "version": "3.8.18"
  }
 },
 "nbformat": 4,
 "nbformat_minor": 2
}
