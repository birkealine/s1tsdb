{
 "cells": [
  {
   "cell_type": "code",
   "execution_count": null,
   "metadata": {},
   "outputs": [],
   "source": [
    "%load_ext autoreload\n",
    "%autoreload 2"
   ]
  },
  {
   "cell_type": "markdown",
   "metadata": {},
   "source": [
    "# Visualize predictions"
   ]
  },
  {
   "cell_type": "code",
   "execution_count": null,
   "metadata": {},
   "outputs": [],
   "source": [
    "import ipywidgets as widgets\n",
    "from ipywidgets import interact, fixed\n",
    "import pandas as pd\n",
    "from src.constants import LOGS_PATH\n",
    "\n",
    "from src.visualization.dense_predictions import plot_dense_predictions\n",
    "\n",
    "def plot_dense_predictions_slider(aoi, folder, earliest_date=\"2020-06-01\", latest_date=\"2022-06-01\"):\n",
    "\n",
    "    threshold_slider = widgets.SelectionSlider(\n",
    "        options=[0.5, 0.55, 0.6, 0.65, 0.7, 0.75, 0.8, 0.85], description=\"Threshold\", continuous_update=True\n",
    "    )\n",
    "    start_dates = pd.date_range(earliest_date, latest_date, freq=\"MS\").strftime(\"%Y-%m-%d\").tolist()\n",
    "    dates_slider = widgets.SelectionSlider(options=start_dates, description=\"Start Date\", continuous_update=True)\n",
    "    interact(plot_dense_predictions, start_date=dates_slider, threshold=threshold_slider, aoi=fixed(aoi), folder=fixed(folder), show=fixed(True), ax=fixed(None))"
   ]
  },
  {
   "cell_type": "code",
   "execution_count": null,
   "metadata": {},
   "outputs": [],
   "source": [
    "aoi = \"UKR6\"\n",
    "run_name = \"sliding_window_train\"\n",
    "folder = LOGS_PATH / run_name / \"predictions\" / aoi\n",
    "plot_dense_predictions_slider(aoi, folder)"
   ]
  },
  {
   "cell_type": "code",
   "execution_count": null,
   "metadata": {},
   "outputs": [],
   "source": [
    "import matplotlib.pyplot as plt\n",
    "\n",
    "def plot_dense_predictions_side_by_side(aoi, folder1, folder2, start_date, threshold):\n",
    "    fig, axs = plt.subplots(1, 2, figsize=(20, 10))\n",
    "    plot_dense_predictions(aoi, folder1, start_date, threshold, False, axs[0])\n",
    "    plot_dense_predictions(aoi, folder2, start_date, threshold, False, axs[1])\n",
    "    plt.suptitle(f'{folder1.parents[1].name} vs {folder2.parents[1].name}', fontsize=18)\n",
    "    plt.tight_layout()\n",
    "\n",
    "def plot_dense_predictions_slider_side_by_side(aoi, folder1, folder2, earliest_date=\"2020-06-01\", latest_date=\"2022-06-01\"):\n",
    "\n",
    "    threshold_slider = widgets.SelectionSlider(\n",
    "        options=[0.5, 0.55, 0.6, 0.65, 0.7, 0.75, 0.8, 0.85], description=\"Threshold\", continuous_update=True\n",
    "    )\n",
    "    start_dates = pd.date_range(earliest_date, latest_date, freq=\"MS\").strftime(\"%Y-%m-%d\").tolist()\n",
    "    dates_slider = widgets.SelectionSlider(options=start_dates, description=\"Start Date\", continuous_update=True)\n",
    "\n",
    "    interact(plot_dense_predictions_side_by_side, start_date=dates_slider, threshold=threshold_slider, aoi=fixed(aoi), folder1=fixed(folder1), folder2=fixed(folder2), show=fixed(True))"
   ]
  },
  {
   "cell_type": "code",
   "execution_count": null,
   "metadata": {},
   "outputs": [],
   "source": [
    "aoi = \"UKR6\"\n",
    "run_name = \"sliding_window_train\"\n",
    "folder = LOGS_PATH / run_name / \"predictions\" / aoi\n",
    "run_name2 = \"sliding_window_train_random15\"\n",
    "folder2 = LOGS_PATH / run_name2 / \"predictions\" / aoi\n",
    "plot_dense_predictions_slider_side_by_side(aoi, folder, folder2)"
   ]
  },
  {
   "cell_type": "code",
   "execution_count": null,
   "metadata": {},
   "outputs": [],
   "source": []
  }
 ],
 "metadata": {
  "kernelspec": {
   "display_name": "Python 3",
   "language": "python",
   "name": "python3"
  },
  "language_info": {
   "codemirror_mode": {
    "name": "ipython",
    "version": 3
   },
   "file_extension": ".py",
   "mimetype": "text/x-python",
   "name": "python",
   "nbconvert_exporter": "python",
   "pygments_lexer": "ipython3",
   "version": "3.8.18"
  }
 },
 "nbformat": 4,
 "nbformat_minor": 2
}
